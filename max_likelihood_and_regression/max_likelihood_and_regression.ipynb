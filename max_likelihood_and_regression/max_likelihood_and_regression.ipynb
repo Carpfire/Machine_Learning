{
 "cells": [
  {
   "cell_type": "markdown",
   "source": [
    "# Homework 1: Probability Distributions and Maximum Likelihood"
   ],
   "metadata": {}
  },
  {
   "cell_type": "markdown",
   "source": [
    "## Question 1: Probability"
   ],
   "metadata": {}
  },
  {
   "cell_type": "markdown",
   "source": [
    "#### a) Suppose that we know the following probabilities about tomorrow's weather:\n",
    "$P(\\textrm{sunny}) = 0.5$\n",
    "\n",
    "$P(\\textrm{windy}) = 0.3$\n",
    "\n",
    "$P(\\textrm{sunny} \\cap \\textrm{windy}) = 0.1$\n",
    "\n",
    "You're planning a big ski outing with your friends and know that it's going to be sunny. Given that it will be sunny tomorrow, what is the probability that it will _not_ be windy? "
   ],
   "metadata": {}
  },
  {
   "cell_type": "markdown",
   "source": [
    "**Answer Here**\n",
    "$P(\\textrm{not windy | sunny}) = 1 - P(\\textrm{windy|sunny}) = 1 - \\frac{P(\\textrm{sunny}\\cap \\textrm{windy})}{P(\\textrm{sunny})} = 1 - .1/.5= 4/5$\n",
    "\n",
    "##sunny given windy "
   ],
   "metadata": {}
  },
  {
   "cell_type": "markdown",
   "source": [
    "#### b) You are given two bags of colored balls, one has 75% red balls and 25% green balls, and the other has 75% green balls and 25% red balls."
   ],
   "metadata": {}
  },
  {
   "cell_type": "markdown",
   "source": [
    "##### i) You take a bag at random, what is the probability you chose the bag with more red balls?"
   ],
   "metadata": {}
  },
  {
   "cell_type": "markdown",
   "source": [
    "**Answer Here**\n",
    "P=1/2"
   ],
   "metadata": {}
  },
  {
   "cell_type": "markdown",
   "source": [
    "##### ii) Now you reach in and at random draw a red ball out of the bag - what is the probability you have the bag with more red balls?"
   ],
   "metadata": {}
  },
  {
   "cell_type": "markdown",
   "source": [
    "**Answer Here**Let Bag A be the bag with more red balls and Bag B be the bag with less red balls.\n",
    "$P(\\textrm{Bag w/ more red | red ball}) = \\frac{P(\\textrm{Bag A, Red Ball})}{P(Red Ball)}= \\frac{(1/2)(3/4)}{(1/2)(3/4) + (1/2)(1/4)}= 3/4 $"
   ],
   "metadata": {}
  },
  {
   "cell_type": "code",
   "execution_count": 2,
   "source": [
    "num = (1/2)*(3/4)\n",
    "den = num + (1/2)*(1/4)\n",
    "prob = num/den\n",
    "prob"
   ],
   "outputs": [
    {
     "output_type": "execute_result",
     "data": {
      "text/plain": [
       "0.75"
      ]
     },
     "metadata": {},
     "execution_count": 2
    }
   ],
   "metadata": {}
  },
  {
   "cell_type": "markdown",
   "source": [
    "#### c) $X_1, X_2, \\dots, X_k$ are all distributed Uniform(0, 1). Find the distribution of $$Y = \\sum_{i=1}^{k} -\\log(X_i)$$."
   ],
   "metadata": {}
  },
  {
   "cell_type": "markdown",
   "source": [
    "**Answer Here**\n",
    "$$P(-\\log(X_i)<a) = P(X>e^{-a}))= 1-P(X<e^{-a}) = 1 - \\int_{0}^{e^{-a}}dx = 1-e^{-a}=F_X(a)$$\n",
    "therefore $$X \\sim exp(1)$$\n",
    "and since a sum of n exponential random variables is a gamma(n, beta) we have $$ Y \\sim \\Gamma(n, 1)$$ "
   ],
   "metadata": {}
  },
  {
   "cell_type": "markdown",
   "source": [
    "## Question 2: The Normal Distribution with Known Variance\n",
    "\n",
    "Suppose that you measure the heights of 6 maple trees, and find them to be 26, 28, 29, 31, 34, and 37 meters tall (we'll say your data is $\\mathbf x  = [28, 28, 29, 31, 34, 37]$). You know that maple tree height is normally distributed with a variance of 5 meters, but you don't know the mean."
   ],
   "metadata": {}
  },
  {
   "cell_type": "markdown",
   "source": [
    "#### a) Write down the likelihood and log-likelihood (up to a constant) of the mean parameter of the height distribution as a function of your sampled data."
   ],
   "metadata": {}
  },
  {
   "cell_type": "markdown",
   "source": [
    "**Answer Here**\n",
    "$ \\ell({\\mu ; \\sigma^2, \\vec{x}}) = (10\\pi)^{-3} \\prod_{i=1}^{6} \\exp{(\\frac{-1}{2}(\\frac{x_i - \\mu}{\\sqrt{5}})^2)} $\n",
    "\n",
    "\n",
    "$ -log({\\ell({\\mu ; \\sigma^2, \\vec{x}})}) = 3log(10\\pi) + 1/2\\sum_{i=1}^{6}(\\frac{x_i-\\mu}{\\sqrt{5}})^2$"
   ],
   "metadata": {}
  },
  {
   "cell_type": "markdown",
   "source": [
    "#### b) Plot the (negative) log-likelihood as a function of $\\mu$ ranging from 25 to 35\n",
    "\n",
    "Below the plot explain in words what the resulting curve represents."
   ],
   "metadata": {}
  },
  {
   "cell_type": "code",
   "execution_count": 3,
   "source": [
    "import matplotlib.pyplot as plt\n",
    "import numpy as np"
   ],
   "outputs": [],
   "metadata": {}
  },
  {
   "cell_type": "code",
   "execution_count": 4,
   "source": [
    "\n",
    "\n",
    "data = np.array([26, 28, 29, 31, 34, 37])\n",
    "mu = np.linspace(25, 35, 100)\n",
    "\n",
    "def nll_norm(mus):\n",
    "    return np.array([3*np.log(10*np.pi) + 1/2 * np.sum(((data - mu_)/np.sqrt(5))**2) for mu_ in mus])\n",
    "\n",
    "\n",
    "                                   \n",
    "nlls = nll_norm(mu)"
   ],
   "outputs": [],
   "metadata": {}
  },
  {
   "cell_type": "code",
   "execution_count": 5,
   "source": [
    "plt.plot(mu, nlls, 'r')\n",
    "plt.show()"
   ],
   "outputs": [
    {
     "output_type": "display_data",
     "data": {
      "text/plain": [
       "<Figure size 640x480 with 1 Axes>"
      ],
      "image/svg+xml": "<?xml version=\"1.0\" encoding=\"utf-8\" standalone=\"no\"?>\n<!DOCTYPE svg PUBLIC \"-//W3C//DTD SVG 1.1//EN\"\n  \"http://www.w3.org/Graphics/SVG/1.1/DTD/svg11.dtd\">\n<svg height=\"300.245688pt\" version=\"1.1\" viewBox=\"0 0 400.785625 300.245688\" width=\"400.785625pt\" xmlns=\"http://www.w3.org/2000/svg\" xmlns:xlink=\"http://www.w3.org/1999/xlink\">\n <metadata>\n  <rdf:RDF xmlns:cc=\"http://creativecommons.org/ns#\" xmlns:dc=\"http://purl.org/dc/elements/1.1/\" xmlns:rdf=\"http://www.w3.org/1999/02/22-rdf-syntax-ns#\">\n   <cc:Work>\n    <dc:type rdf:resource=\"http://purl.org/dc/dcmitype/StillImage\"/>\n    <dc:date>2021-08-11T13:58:28.476736</dc:date>\n    <dc:format>image/svg+xml</dc:format>\n    <dc:creator>\n     <cc:Agent>\n      <dc:title>Matplotlib v3.4.2, https://matplotlib.org/</dc:title>\n     </cc:Agent>\n    </dc:creator>\n   </cc:Work>\n  </rdf:RDF>\n </metadata>\n <defs>\n  <style type=\"text/css\">*{stroke-linecap:butt;stroke-linejoin:round;}</style>\n </defs>\n <g id=\"figure_1\">\n  <g id=\"patch_1\">\n   <path d=\"M 0 300.245688 \nL 400.785625 300.245688 \nL 400.785625 0 \nL 0 0 \nz\n\" style=\"fill:#ffffff;\"/>\n  </g>\n  <g id=\"axes_1\">\n   <g id=\"patch_2\">\n    <path d=\"M 36.465625 276.367563 \nL 393.585625 276.367563 \nL 393.585625 10.255563 \nL 36.465625 10.255563 \nz\n\" style=\"fill:#ffffff;\"/>\n   </g>\n   <g id=\"matplotlib.axis_1\">\n    <g id=\"xtick_1\">\n     <g id=\"line2d_1\">\n      <defs>\n       <path d=\"M 0 0 \nL 0 3.5 \n\" id=\"m67e3695759\" style=\"stroke:#000000;stroke-width:0.8;\"/>\n      </defs>\n      <g>\n       <use style=\"stroke:#000000;stroke-width:0.8;\" x=\"85.163807\" xlink:href=\"#m67e3695759\" y=\"276.367563\"/>\n      </g>\n     </g>\n     <g id=\"text_1\">\n      <!-- 26 -->\n      <g transform=\"translate(78.801307 290.966)scale(0.1 -0.1)\">\n       <defs>\n        <path d=\"M 1228 531 \nL 3431 531 \nL 3431 0 \nL 469 0 \nL 469 531 \nQ 828 903 1448 1529 \nQ 2069 2156 2228 2338 \nQ 2531 2678 2651 2914 \nQ 2772 3150 2772 3378 \nQ 2772 3750 2511 3984 \nQ 2250 4219 1831 4219 \nQ 1534 4219 1204 4116 \nQ 875 4013 500 3803 \nL 500 4441 \nQ 881 4594 1212 4672 \nQ 1544 4750 1819 4750 \nQ 2544 4750 2975 4387 \nQ 3406 4025 3406 3419 \nQ 3406 3131 3298 2873 \nQ 3191 2616 2906 2266 \nQ 2828 2175 2409 1742 \nQ 1991 1309 1228 531 \nz\n\" id=\"DejaVuSans-32\" transform=\"scale(0.015625)\"/>\n        <path d=\"M 2113 2584 \nQ 1688 2584 1439 2293 \nQ 1191 2003 1191 1497 \nQ 1191 994 1439 701 \nQ 1688 409 2113 409 \nQ 2538 409 2786 701 \nQ 3034 994 3034 1497 \nQ 3034 2003 2786 2293 \nQ 2538 2584 2113 2584 \nz\nM 3366 4563 \nL 3366 3988 \nQ 3128 4100 2886 4159 \nQ 2644 4219 2406 4219 \nQ 1781 4219 1451 3797 \nQ 1122 3375 1075 2522 \nQ 1259 2794 1537 2939 \nQ 1816 3084 2150 3084 \nQ 2853 3084 3261 2657 \nQ 3669 2231 3669 1497 \nQ 3669 778 3244 343 \nQ 2819 -91 2113 -91 \nQ 1303 -91 875 529 \nQ 447 1150 447 2328 \nQ 447 3434 972 4092 \nQ 1497 4750 2381 4750 \nQ 2619 4750 2861 4703 \nQ 3103 4656 3366 4563 \nz\n\" id=\"DejaVuSans-36\" transform=\"scale(0.015625)\"/>\n       </defs>\n       <use xlink:href=\"#DejaVuSans-32\"/>\n       <use x=\"63.623047\" xlink:href=\"#DejaVuSans-36\"/>\n      </g>\n     </g>\n    </g>\n    <g id=\"xtick_2\">\n     <g id=\"line2d_2\">\n      <g>\n       <use style=\"stroke:#000000;stroke-width:0.8;\" x=\"150.094716\" xlink:href=\"#m67e3695759\" y=\"276.367563\"/>\n      </g>\n     </g>\n     <g id=\"text_2\">\n      <!-- 28 -->\n      <g transform=\"translate(143.732216 290.966)scale(0.1 -0.1)\">\n       <defs>\n        <path d=\"M 2034 2216 \nQ 1584 2216 1326 1975 \nQ 1069 1734 1069 1313 \nQ 1069 891 1326 650 \nQ 1584 409 2034 409 \nQ 2484 409 2743 651 \nQ 3003 894 3003 1313 \nQ 3003 1734 2745 1975 \nQ 2488 2216 2034 2216 \nz\nM 1403 2484 \nQ 997 2584 770 2862 \nQ 544 3141 544 3541 \nQ 544 4100 942 4425 \nQ 1341 4750 2034 4750 \nQ 2731 4750 3128 4425 \nQ 3525 4100 3525 3541 \nQ 3525 3141 3298 2862 \nQ 3072 2584 2669 2484 \nQ 3125 2378 3379 2068 \nQ 3634 1759 3634 1313 \nQ 3634 634 3220 271 \nQ 2806 -91 2034 -91 \nQ 1263 -91 848 271 \nQ 434 634 434 1313 \nQ 434 1759 690 2068 \nQ 947 2378 1403 2484 \nz\nM 1172 3481 \nQ 1172 3119 1398 2916 \nQ 1625 2713 2034 2713 \nQ 2441 2713 2670 2916 \nQ 2900 3119 2900 3481 \nQ 2900 3844 2670 4047 \nQ 2441 4250 2034 4250 \nQ 1625 4250 1398 4047 \nQ 1172 3844 1172 3481 \nz\n\" id=\"DejaVuSans-38\" transform=\"scale(0.015625)\"/>\n       </defs>\n       <use xlink:href=\"#DejaVuSans-32\"/>\n       <use x=\"63.623047\" xlink:href=\"#DejaVuSans-38\"/>\n      </g>\n     </g>\n    </g>\n    <g id=\"xtick_3\">\n     <g id=\"line2d_3\">\n      <g>\n       <use style=\"stroke:#000000;stroke-width:0.8;\" x=\"215.025625\" xlink:href=\"#m67e3695759\" y=\"276.367563\"/>\n      </g>\n     </g>\n     <g id=\"text_3\">\n      <!-- 30 -->\n      <g transform=\"translate(208.663125 290.966)scale(0.1 -0.1)\">\n       <defs>\n        <path d=\"M 2597 2516 \nQ 3050 2419 3304 2112 \nQ 3559 1806 3559 1356 \nQ 3559 666 3084 287 \nQ 2609 -91 1734 -91 \nQ 1441 -91 1130 -33 \nQ 819 25 488 141 \nL 488 750 \nQ 750 597 1062 519 \nQ 1375 441 1716 441 \nQ 2309 441 2620 675 \nQ 2931 909 2931 1356 \nQ 2931 1769 2642 2001 \nQ 2353 2234 1838 2234 \nL 1294 2234 \nL 1294 2753 \nL 1863 2753 \nQ 2328 2753 2575 2939 \nQ 2822 3125 2822 3475 \nQ 2822 3834 2567 4026 \nQ 2313 4219 1838 4219 \nQ 1578 4219 1281 4162 \nQ 984 4106 628 3988 \nL 628 4550 \nQ 988 4650 1302 4700 \nQ 1616 4750 1894 4750 \nQ 2613 4750 3031 4423 \nQ 3450 4097 3450 3541 \nQ 3450 3153 3228 2886 \nQ 3006 2619 2597 2516 \nz\n\" id=\"DejaVuSans-33\" transform=\"scale(0.015625)\"/>\n        <path d=\"M 2034 4250 \nQ 1547 4250 1301 3770 \nQ 1056 3291 1056 2328 \nQ 1056 1369 1301 889 \nQ 1547 409 2034 409 \nQ 2525 409 2770 889 \nQ 3016 1369 3016 2328 \nQ 3016 3291 2770 3770 \nQ 2525 4250 2034 4250 \nz\nM 2034 4750 \nQ 2819 4750 3233 4129 \nQ 3647 3509 3647 2328 \nQ 3647 1150 3233 529 \nQ 2819 -91 2034 -91 \nQ 1250 -91 836 529 \nQ 422 1150 422 2328 \nQ 422 3509 836 4129 \nQ 1250 4750 2034 4750 \nz\n\" id=\"DejaVuSans-30\" transform=\"scale(0.015625)\"/>\n       </defs>\n       <use xlink:href=\"#DejaVuSans-33\"/>\n       <use x=\"63.623047\" xlink:href=\"#DejaVuSans-30\"/>\n      </g>\n     </g>\n    </g>\n    <g id=\"xtick_4\">\n     <g id=\"line2d_4\">\n      <g>\n       <use style=\"stroke:#000000;stroke-width:0.8;\" x=\"279.956534\" xlink:href=\"#m67e3695759\" y=\"276.367563\"/>\n      </g>\n     </g>\n     <g id=\"text_4\">\n      <!-- 32 -->\n      <g transform=\"translate(273.594034 290.966)scale(0.1 -0.1)\">\n       <use xlink:href=\"#DejaVuSans-33\"/>\n       <use x=\"63.623047\" xlink:href=\"#DejaVuSans-32\"/>\n      </g>\n     </g>\n    </g>\n    <g id=\"xtick_5\">\n     <g id=\"line2d_5\">\n      <g>\n       <use style=\"stroke:#000000;stroke-width:0.8;\" x=\"344.887443\" xlink:href=\"#m67e3695759\" y=\"276.367563\"/>\n      </g>\n     </g>\n     <g id=\"text_5\">\n      <!-- 34 -->\n      <g transform=\"translate(338.524943 290.966)scale(0.1 -0.1)\">\n       <defs>\n        <path d=\"M 2419 4116 \nL 825 1625 \nL 2419 1625 \nL 2419 4116 \nz\nM 2253 4666 \nL 3047 4666 \nL 3047 1625 \nL 3713 1625 \nL 3713 1100 \nL 3047 1100 \nL 3047 0 \nL 2419 0 \nL 2419 1100 \nL 313 1100 \nL 313 1709 \nL 2253 4666 \nz\n\" id=\"DejaVuSans-34\" transform=\"scale(0.015625)\"/>\n       </defs>\n       <use xlink:href=\"#DejaVuSans-33\"/>\n       <use x=\"63.623047\" xlink:href=\"#DejaVuSans-34\"/>\n      </g>\n     </g>\n    </g>\n   </g>\n   <g id=\"matplotlib.axis_2\">\n    <g id=\"ytick_1\">\n     <g id=\"line2d_6\">\n      <defs>\n       <path d=\"M 0 0 \nL -3.5 0 \n\" id=\"mb27c5666d7\" style=\"stroke:#000000;stroke-width:0.8;\"/>\n      </defs>\n      <g>\n       <use style=\"stroke:#000000;stroke-width:0.8;\" x=\"36.465625\" xlink:href=\"#mb27c5666d7\" y=\"247.986517\"/>\n      </g>\n     </g>\n     <g id=\"text_6\">\n      <!-- 20.0 -->\n      <g transform=\"translate(7.2 251.785736)scale(0.1 -0.1)\">\n       <defs>\n        <path d=\"M 684 794 \nL 1344 794 \nL 1344 0 \nL 684 0 \nL 684 794 \nz\n\" id=\"DejaVuSans-2e\" transform=\"scale(0.015625)\"/>\n       </defs>\n       <use xlink:href=\"#DejaVuSans-32\"/>\n       <use x=\"63.623047\" xlink:href=\"#DejaVuSans-30\"/>\n       <use x=\"127.246094\" xlink:href=\"#DejaVuSans-2e\"/>\n       <use x=\"159.033203\" xlink:href=\"#DejaVuSans-30\"/>\n      </g>\n     </g>\n    </g>\n    <g id=\"ytick_2\">\n     <g id=\"line2d_7\">\n      <g>\n       <use style=\"stroke:#000000;stroke-width:0.8;\" x=\"36.465625\" xlink:href=\"#mb27c5666d7\" y=\"218.363105\"/>\n      </g>\n     </g>\n     <g id=\"text_7\">\n      <!-- 22.5 -->\n      <g transform=\"translate(7.2 222.162324)scale(0.1 -0.1)\">\n       <defs>\n        <path d=\"M 691 4666 \nL 3169 4666 \nL 3169 4134 \nL 1269 4134 \nL 1269 2991 \nQ 1406 3038 1543 3061 \nQ 1681 3084 1819 3084 \nQ 2600 3084 3056 2656 \nQ 3513 2228 3513 1497 \nQ 3513 744 3044 326 \nQ 2575 -91 1722 -91 \nQ 1428 -91 1123 -41 \nQ 819 9 494 109 \nL 494 744 \nQ 775 591 1075 516 \nQ 1375 441 1709 441 \nQ 2250 441 2565 725 \nQ 2881 1009 2881 1497 \nQ 2881 1984 2565 2268 \nQ 2250 2553 1709 2553 \nQ 1456 2553 1204 2497 \nQ 953 2441 691 2322 \nL 691 4666 \nz\n\" id=\"DejaVuSans-35\" transform=\"scale(0.015625)\"/>\n       </defs>\n       <use xlink:href=\"#DejaVuSans-32\"/>\n       <use x=\"63.623047\" xlink:href=\"#DejaVuSans-32\"/>\n       <use x=\"127.246094\" xlink:href=\"#DejaVuSans-2e\"/>\n       <use x=\"159.033203\" xlink:href=\"#DejaVuSans-35\"/>\n      </g>\n     </g>\n    </g>\n    <g id=\"ytick_3\">\n     <g id=\"line2d_8\">\n      <g>\n       <use style=\"stroke:#000000;stroke-width:0.8;\" x=\"36.465625\" xlink:href=\"#mb27c5666d7\" y=\"188.739693\"/>\n      </g>\n     </g>\n     <g id=\"text_8\">\n      <!-- 25.0 -->\n      <g transform=\"translate(7.2 192.538911)scale(0.1 -0.1)\">\n       <use xlink:href=\"#DejaVuSans-32\"/>\n       <use x=\"63.623047\" xlink:href=\"#DejaVuSans-35\"/>\n       <use x=\"127.246094\" xlink:href=\"#DejaVuSans-2e\"/>\n       <use x=\"159.033203\" xlink:href=\"#DejaVuSans-30\"/>\n      </g>\n     </g>\n    </g>\n    <g id=\"ytick_4\">\n     <g id=\"line2d_9\">\n      <g>\n       <use style=\"stroke:#000000;stroke-width:0.8;\" x=\"36.465625\" xlink:href=\"#mb27c5666d7\" y=\"159.11628\"/>\n      </g>\n     </g>\n     <g id=\"text_9\">\n      <!-- 27.5 -->\n      <g transform=\"translate(7.2 162.915499)scale(0.1 -0.1)\">\n       <defs>\n        <path d=\"M 525 4666 \nL 3525 4666 \nL 3525 4397 \nL 1831 0 \nL 1172 0 \nL 2766 4134 \nL 525 4134 \nL 525 4666 \nz\n\" id=\"DejaVuSans-37\" transform=\"scale(0.015625)\"/>\n       </defs>\n       <use xlink:href=\"#DejaVuSans-32\"/>\n       <use x=\"63.623047\" xlink:href=\"#DejaVuSans-37\"/>\n       <use x=\"127.246094\" xlink:href=\"#DejaVuSans-2e\"/>\n       <use x=\"159.033203\" xlink:href=\"#DejaVuSans-35\"/>\n      </g>\n     </g>\n    </g>\n    <g id=\"ytick_5\">\n     <g id=\"line2d_10\">\n      <g>\n       <use style=\"stroke:#000000;stroke-width:0.8;\" x=\"36.465625\" xlink:href=\"#mb27c5666d7\" y=\"129.492868\"/>\n      </g>\n     </g>\n     <g id=\"text_10\">\n      <!-- 30.0 -->\n      <g transform=\"translate(7.2 133.292087)scale(0.1 -0.1)\">\n       <use xlink:href=\"#DejaVuSans-33\"/>\n       <use x=\"63.623047\" xlink:href=\"#DejaVuSans-30\"/>\n       <use x=\"127.246094\" xlink:href=\"#DejaVuSans-2e\"/>\n       <use x=\"159.033203\" xlink:href=\"#DejaVuSans-30\"/>\n      </g>\n     </g>\n    </g>\n    <g id=\"ytick_6\">\n     <g id=\"line2d_11\">\n      <g>\n       <use style=\"stroke:#000000;stroke-width:0.8;\" x=\"36.465625\" xlink:href=\"#mb27c5666d7\" y=\"99.869456\"/>\n      </g>\n     </g>\n     <g id=\"text_11\">\n      <!-- 32.5 -->\n      <g transform=\"translate(7.2 103.668674)scale(0.1 -0.1)\">\n       <use xlink:href=\"#DejaVuSans-33\"/>\n       <use x=\"63.623047\" xlink:href=\"#DejaVuSans-32\"/>\n       <use x=\"127.246094\" xlink:href=\"#DejaVuSans-2e\"/>\n       <use x=\"159.033203\" xlink:href=\"#DejaVuSans-35\"/>\n      </g>\n     </g>\n    </g>\n    <g id=\"ytick_7\">\n     <g id=\"line2d_12\">\n      <g>\n       <use style=\"stroke:#000000;stroke-width:0.8;\" x=\"36.465625\" xlink:href=\"#mb27c5666d7\" y=\"70.246043\"/>\n      </g>\n     </g>\n     <g id=\"text_12\">\n      <!-- 35.0 -->\n      <g transform=\"translate(7.2 74.045262)scale(0.1 -0.1)\">\n       <use xlink:href=\"#DejaVuSans-33\"/>\n       <use x=\"63.623047\" xlink:href=\"#DejaVuSans-35\"/>\n       <use x=\"127.246094\" xlink:href=\"#DejaVuSans-2e\"/>\n       <use x=\"159.033203\" xlink:href=\"#DejaVuSans-30\"/>\n      </g>\n     </g>\n    </g>\n    <g id=\"ytick_8\">\n     <g id=\"line2d_13\">\n      <g>\n       <use style=\"stroke:#000000;stroke-width:0.8;\" x=\"36.465625\" xlink:href=\"#mb27c5666d7\" y=\"40.622631\"/>\n      </g>\n     </g>\n     <g id=\"text_13\">\n      <!-- 37.5 -->\n      <g transform=\"translate(7.2 44.42185)scale(0.1 -0.1)\">\n       <use xlink:href=\"#DejaVuSans-33\"/>\n       <use x=\"63.623047\" xlink:href=\"#DejaVuSans-37\"/>\n       <use x=\"127.246094\" xlink:href=\"#DejaVuSans-2e\"/>\n       <use x=\"159.033203\" xlink:href=\"#DejaVuSans-35\"/>\n      </g>\n     </g>\n    </g>\n    <g id=\"ytick_9\">\n     <g id=\"line2d_14\">\n      <g>\n       <use style=\"stroke:#000000;stroke-width:0.8;\" x=\"36.465625\" xlink:href=\"#mb27c5666d7\" y=\"10.999219\"/>\n      </g>\n     </g>\n     <g id=\"text_14\">\n      <!-- 40.0 -->\n      <g transform=\"translate(7.2 14.798437)scale(0.1 -0.1)\">\n       <use xlink:href=\"#DejaVuSans-34\"/>\n       <use x=\"63.623047\" xlink:href=\"#DejaVuSans-30\"/>\n       <use x=\"127.246094\" xlink:href=\"#DejaVuSans-2e\"/>\n       <use x=\"159.033203\" xlink:href=\"#DejaVuSans-30\"/>\n      </g>\n     </g>\n    </g>\n   </g>\n   <g id=\"line2d_15\">\n    <path clip-path=\"url(#p51a4498a10)\" d=\"M 52.698352 22.351563 \nL 55.977691 30.657362 \nL 59.25703 38.818082 \nL 62.536369 46.833722 \nL 65.815708 54.704282 \nL 69.095046 62.429764 \nL 72.374385 70.010166 \nL 75.653724 77.445488 \nL 78.933063 84.735731 \nL 82.212402 91.880894 \nL 85.491741 98.880978 \nL 88.77108 105.735983 \nL 92.050418 112.445908 \nL 95.329757 119.010753 \nL 98.609096 125.430519 \nL 101.888435 131.705206 \nL 105.167774 137.834813 \nL 108.447113 143.819341 \nL 111.726451 149.658789 \nL 115.00579 155.353158 \nL 118.285129 160.902447 \nL 121.564468 166.306657 \nL 124.843807 171.565788 \nL 128.123146 176.679839 \nL 131.402485 181.64881 \nL 134.681823 186.472702 \nL 137.961162 191.151515 \nL 141.240501 195.685248 \nL 144.51984 200.073902 \nL 147.799179 204.317476 \nL 151.078518 208.415971 \nL 154.357856 212.369386 \nL 157.637195 216.177722 \nL 160.916534 219.840978 \nL 164.195873 223.359155 \nL 167.475212 226.732252 \nL 170.754551 229.96027 \nL 174.033889 233.043209 \nL 177.313228 235.981068 \nL 180.592567 238.773848 \nL 183.871906 241.421548 \nL 187.151245 243.924169 \nL 190.430584 246.28171 \nL 193.709923 248.494172 \nL 196.989261 250.561554 \nL 200.2686 252.483857 \nL 203.547939 254.26108 \nL 206.827278 255.893224 \nL 210.106617 257.380288 \nL 213.385956 258.722273 \nL 216.665294 259.919179 \nL 219.944633 260.971005 \nL 223.223972 261.877752 \nL 226.503311 262.639419 \nL 229.78265 263.256007 \nL 233.061989 263.727515 \nL 236.341327 264.053944 \nL 239.620666 264.235293 \nL 242.900005 264.271563 \nL 246.179344 264.162753 \nL 249.458683 263.908864 \nL 252.738022 263.509896 \nL 256.017361 262.965848 \nL 259.296699 262.27672 \nL 262.576038 261.442513 \nL 265.855377 260.463227 \nL 269.134716 259.338861 \nL 272.414055 258.069416 \nL 275.693394 256.654891 \nL 278.972732 255.095287 \nL 282.252071 253.390603 \nL 285.53141 251.54084 \nL 288.810749 249.545998 \nL 292.090088 247.406076 \nL 295.369427 245.121074 \nL 298.648765 242.690993 \nL 301.928104 240.115833 \nL 305.207443 237.395593 \nL 308.486782 234.530273 \nL 311.766121 231.519875 \nL 315.04546 228.364396 \nL 318.324799 225.063839 \nL 321.604137 221.618201 \nL 324.883476 218.027485 \nL 328.162815 214.291689 \nL 331.442154 210.410813 \nL 334.721493 206.384858 \nL 338.000832 202.213824 \nL 341.28017 197.89771 \nL 344.559509 193.436516 \nL 347.838848 188.830243 \nL 351.118187 184.078891 \nL 354.397526 179.182459 \nL 357.676865 174.140948 \nL 360.956204 168.954357 \nL 364.235542 163.622687 \nL 367.514881 158.145938 \nL 370.79422 152.524109 \nL 374.073559 146.7572 \nL 377.352898 140.845212 \n\" style=\"fill:none;stroke:#ff0000;stroke-linecap:square;stroke-width:1.5;\"/>\n   </g>\n   <g id=\"patch_3\">\n    <path d=\"M 36.465625 276.367563 \nL 36.465625 10.255563 \n\" style=\"fill:none;stroke:#000000;stroke-linecap:square;stroke-linejoin:miter;stroke-width:0.8;\"/>\n   </g>\n   <g id=\"patch_4\">\n    <path d=\"M 393.585625 276.367563 \nL 393.585625 10.255563 \n\" style=\"fill:none;stroke:#000000;stroke-linecap:square;stroke-linejoin:miter;stroke-width:0.8;\"/>\n   </g>\n   <g id=\"patch_5\">\n    <path d=\"M 36.465625 276.367563 \nL 393.585625 276.367563 \n\" style=\"fill:none;stroke:#000000;stroke-linecap:square;stroke-linejoin:miter;stroke-width:0.8;\"/>\n   </g>\n   <g id=\"patch_6\">\n    <path d=\"M 36.465625 10.255563 \nL 393.585625 10.255563 \n\" style=\"fill:none;stroke:#000000;stroke-linecap:square;stroke-linejoin:miter;stroke-width:0.8;\"/>\n   </g>\n  </g>\n </g>\n <defs>\n  <clipPath id=\"p51a4498a10\">\n   <rect height=\"266.112\" width=\"357.12\" x=\"36.465625\" y=\"10.255563\"/>\n  </clipPath>\n </defs>\n</svg>\n",
      "image/png": "[encoded data removed]"
     },
     "metadata": {}
    }
   ],
   "metadata": {}
  },
  {
   "cell_type": "markdown",
   "source": [
    "**Answer Here**\n",
    "The curve represents the -log likelihood of the data as a function of mu. Since the parameter $\\sigma^2$ is known, we can use this to optimize the likelihood function in terms of mu. "
   ],
   "metadata": {}
  },
  {
   "cell_type": "markdown",
   "source": [
    "#### c) Find (analytically) the MLE of the mean height of maple trees and compute the estimate for our data."
   ],
   "metadata": {}
  },
  {
   "cell_type": "markdown",
   "source": [
    "**Answer Here**\n",
    "$$ \\frac{\\partial{(-\\log({\\ell{\\mu; \\sigma^2, \\vec{x}}})})}{\\partial{\\mu}} = -\\frac{1}{\\sqrt{5}}\\sum_{i=1}^{6}x_i - \\mu$$\n",
    "$$0 = -\\frac{1}{\\sqrt{5}}\\sum_{i=1}^{6}x_i - \\mu = -\\frac{1}{\\sqrt{5}}\\sum_{i=1}^{6}x_i + \\frac{6\\mu}{\\sqrt{5}}$$\n",
    "$$\\mu = \\frac{1}{6} \\sum_{i=1}^{6} x_i = \\bar X$$\n",
    "$$\\hat\\mu = 30.83$$"
   ],
   "metadata": {}
  },
  {
   "cell_type": "markdown",
   "source": [
    "#### d) Estimate the MLE numerically\n",
    "\n",
    "Use a numerical method to minimize your negative log-likelihood function with an initial guess of 25 --- does your result agree with your answer above?\n",
    "\n",
    "Plot the negative log-likelihood along with the iterations of your optimizer."
   ],
   "metadata": {}
  },
  {
   "cell_type": "code",
   "execution_count": 6,
   "source": [
    "def nll_norm_objective(par):\n",
    "    return 3*np.log(10*np.pi) + 1/2 * np.sum(((data - par)/np.sqrt(5))**2)\n",
    "    "
   ],
   "outputs": [],
   "metadata": {}
  },
  {
   "cell_type": "code",
   "execution_count": 7,
   "source": [
    "def callbackF(Xi):\n",
    "    print(Xi)"
   ],
   "outputs": [],
   "metadata": {}
  },
  {
   "cell_type": "code",
   "execution_count": 8,
   "source": [
    "from scipy import optimize"
   ],
   "outputs": [],
   "metadata": {}
  },
  {
   "cell_type": "code",
   "execution_count": 9,
   "source": [
    "\n",
    "output = optimize.minimize(nll_norm_objective, x0=25, options ={'return_all':True})\n",
    "nll_min = output['x']"
   ],
   "outputs": [],
   "metadata": {}
  },
  {
   "cell_type": "code",
   "execution_count": 10,
   "source": [
    "nll_min"
   ],
   "outputs": [
    {
     "output_type": "execute_result",
     "data": {
      "text/plain": [
       "array([30.83333394])"
      ]
     },
     "metadata": {},
     "execution_count": 10
    }
   ],
   "metadata": {}
  },
  {
   "cell_type": "code",
   "execution_count": 11,
   "source": [
    "iterations = output['allvecs']"
   ],
   "outputs": [],
   "metadata": {}
  },
  {
   "cell_type": "code",
   "execution_count": 12,
   "source": [
    "plt.plot(mu, nlls,'r', label='Neg Log Likelihood')\n",
    "plt.scatter(iterations, nll_norm(iterations), label=\"Minimizer Iterations\")\n",
    "plt.legend()\n",
    "plt.show()"
   ],
   "outputs": [
    {
     "output_type": "display_data",
     "data": {
      "text/plain": [
       "<Figure size 640x480 with 1 Axes>"
      ],
      "image/svg+xml": "<?xml version=\"1.0\" encoding=\"utf-8\" standalone=\"no\"?>\n<!DOCTYPE svg PUBLIC \"-//W3C//DTD SVG 1.1//EN\"\n  \"http://www.w3.org/Graphics/SVG/1.1/DTD/svg11.dtd\">\n<svg height=\"300.245475pt\" version=\"1.1\" viewBox=\"0 0 400.785625 300.245475\" width=\"400.785625pt\" xmlns=\"http://www.w3.org/2000/svg\" xmlns:xlink=\"http://www.w3.org/1999/xlink\">\n <metadata>\n  <rdf:RDF xmlns:cc=\"http://creativecommons.org/ns#\" xmlns:dc=\"http://purl.org/dc/elements/1.1/\" xmlns:rdf=\"http://www.w3.org/1999/02/22-rdf-syntax-ns#\">\n   <cc:Work>\n    <dc:type rdf:resource=\"http://purl.org/dc/dcmitype/StillImage\"/>\n    <dc:date>2021-08-11T13:58:47.190446</dc:date>\n    <dc:format>image/svg+xml</dc:format>\n    <dc:creator>\n     <cc:Agent>\n      <dc:title>Matplotlib v3.4.2, https://matplotlib.org/</dc:title>\n     </cc:Agent>\n    </dc:creator>\n   </cc:Work>\n  </rdf:RDF>\n </metadata>\n <defs>\n  <style type=\"text/css\">*{stroke-linecap:butt;stroke-linejoin:round;}</style>\n </defs>\n <g id=\"figure_1\">\n  <g id=\"patch_1\">\n   <path d=\"M 0 300.245475 \nL 400.785625 300.245475 \nL 400.785625 0 \nL 0 0 \nz\n\" style=\"fill:#ffffff;\"/>\n  </g>\n  <g id=\"axes_1\">\n   <g id=\"patch_2\">\n    <path d=\"M 36.465625 276.36735 \nL 393.585625 276.36735 \nL 393.585625 10.25535 \nL 36.465625 10.25535 \nz\n\" style=\"fill:#ffffff;\"/>\n   </g>\n   <g id=\"PathCollection_1\">\n    <defs>\n     <path d=\"M 0 3 \nC 0.795609 3 1.55874 2.683901 2.12132 2.12132 \nC 2.683901 1.55874 3 0.795609 3 0 \nC 3 -0.795609 2.683901 -1.55874 2.12132 -2.12132 \nC 1.55874 -2.683901 0.795609 -3 0 -3 \nC -0.795609 -3 -1.55874 -2.683901 -2.12132 -2.12132 \nC -2.683901 -1.55874 -3 -0.795609 -3 0 \nC -3 0.795609 -2.683901 1.55874 -2.12132 2.12132 \nC -1.55874 2.683901 -0.795609 3 0 3 \nz\n\" id=\"m6b1821f9ab\" style=\"stroke:#1f77b4;\"/>\n    </defs>\n    <g clip-path=\"url(#p8919b5f6fb)\">\n     <use style=\"fill:#1f77b4;stroke:#1f77b4;\" x=\"52.698352\" xlink:href=\"#m6b1821f9ab\" y=\"22.35135\"/>\n     <use style=\"fill:#1f77b4;stroke:#1f77b4;\" x=\"85.488461\" xlink:href=\"#m6b1821f9ab\" y=\"98.872404\"/>\n     <use style=\"fill:#1f77b4;stroke:#1f77b4;\" x=\"158.659357\" xlink:href=\"#m6b1821f9ab\" y=\"217.331245\"/>\n     <use style=\"fill:#1f77b4;stroke:#1f77b4;\" x=\"242.08019\" xlink:href=\"#m6b1821f9ab\" y=\"264.27135\"/>\n    </g>\n   </g>\n   <g id=\"matplotlib.axis_1\">\n    <g id=\"xtick_1\">\n     <g id=\"line2d_1\">\n      <defs>\n       <path d=\"M 0 0 \nL 0 3.5 \n\" id=\"m7aa7ce11d8\" style=\"stroke:#000000;stroke-width:0.8;\"/>\n      </defs>\n      <g>\n       <use style=\"stroke:#000000;stroke-width:0.8;\" x=\"85.163807\" xlink:href=\"#m7aa7ce11d8\" y=\"276.36735\"/>\n      </g>\n     </g>\n     <g id=\"text_1\">\n      <!-- 26 -->\n      <g transform=\"translate(78.801307 290.965788)scale(0.1 -0.1)\">\n       <defs>\n        <path d=\"M 1228 531 \nL 3431 531 \nL 3431 0 \nL 469 0 \nL 469 531 \nQ 828 903 1448 1529 \nQ 2069 2156 2228 2338 \nQ 2531 2678 2651 2914 \nQ 2772 3150 2772 3378 \nQ 2772 3750 2511 3984 \nQ 2250 4219 1831 4219 \nQ 1534 4219 1204 4116 \nQ 875 4013 500 3803 \nL 500 4441 \nQ 881 4594 1212 4672 \nQ 1544 4750 1819 4750 \nQ 2544 4750 2975 4387 \nQ 3406 4025 3406 3419 \nQ 3406 3131 3298 2873 \nQ 3191 2616 2906 2266 \nQ 2828 2175 2409 1742 \nQ 1991 1309 1228 531 \nz\n\" id=\"DejaVuSans-32\" transform=\"scale(0.015625)\"/>\n        <path d=\"M 2113 2584 \nQ 1688 2584 1439 2293 \nQ 1191 2003 1191 1497 \nQ 1191 994 1439 701 \nQ 1688 409 2113 409 \nQ 2538 409 2786 701 \nQ 3034 994 3034 1497 \nQ 3034 2003 2786 2293 \nQ 2538 2584 2113 2584 \nz\nM 3366 4563 \nL 3366 3988 \nQ 3128 4100 2886 4159 \nQ 2644 4219 2406 4219 \nQ 1781 4219 1451 3797 \nQ 1122 3375 1075 2522 \nQ 1259 2794 1537 2939 \nQ 1816 3084 2150 3084 \nQ 2853 3084 3261 2657 \nQ 3669 2231 3669 1497 \nQ 3669 778 3244 343 \nQ 2819 -91 2113 -91 \nQ 1303 -91 875 529 \nQ 447 1150 447 2328 \nQ 447 3434 972 4092 \nQ 1497 4750 2381 4750 \nQ 2619 4750 2861 4703 \nQ 3103 4656 3366 4563 \nz\n\" id=\"DejaVuSans-36\" transform=\"scale(0.015625)\"/>\n       </defs>\n       <use xlink:href=\"#DejaVuSans-32\"/>\n       <use x=\"63.623047\" xlink:href=\"#DejaVuSans-36\"/>\n      </g>\n     </g>\n    </g>\n    <g id=\"xtick_2\">\n     <g id=\"line2d_2\">\n      <g>\n       <use style=\"stroke:#000000;stroke-width:0.8;\" x=\"150.094716\" xlink:href=\"#m7aa7ce11d8\" y=\"276.36735\"/>\n      </g>\n     </g>\n     <g id=\"text_2\">\n      <!-- 28 -->\n      <g transform=\"translate(143.732216 290.965788)scale(0.1 -0.1)\">\n       <defs>\n        <path d=\"M 2034 2216 \nQ 1584 2216 1326 1975 \nQ 1069 1734 1069 1313 \nQ 1069 891 1326 650 \nQ 1584 409 2034 409 \nQ 2484 409 2743 651 \nQ 3003 894 3003 1313 \nQ 3003 1734 2745 1975 \nQ 2488 2216 2034 2216 \nz\nM 1403 2484 \nQ 997 2584 770 2862 \nQ 544 3141 544 3541 \nQ 544 4100 942 4425 \nQ 1341 4750 2034 4750 \nQ 2731 4750 3128 4425 \nQ 3525 4100 3525 3541 \nQ 3525 3141 3298 2862 \nQ 3072 2584 2669 2484 \nQ 3125 2378 3379 2068 \nQ 3634 1759 3634 1313 \nQ 3634 634 3220 271 \nQ 2806 -91 2034 -91 \nQ 1263 -91 848 271 \nQ 434 634 434 1313 \nQ 434 1759 690 2068 \nQ 947 2378 1403 2484 \nz\nM 1172 3481 \nQ 1172 3119 1398 2916 \nQ 1625 2713 2034 2713 \nQ 2441 2713 2670 2916 \nQ 2900 3119 2900 3481 \nQ 2900 3844 2670 4047 \nQ 2441 4250 2034 4250 \nQ 1625 4250 1398 4047 \nQ 1172 3844 1172 3481 \nz\n\" id=\"DejaVuSans-38\" transform=\"scale(0.015625)\"/>\n       </defs>\n       <use xlink:href=\"#DejaVuSans-32\"/>\n       <use x=\"63.623047\" xlink:href=\"#DejaVuSans-38\"/>\n      </g>\n     </g>\n    </g>\n    <g id=\"xtick_3\">\n     <g id=\"line2d_3\">\n      <g>\n       <use style=\"stroke:#000000;stroke-width:0.8;\" x=\"215.025625\" xlink:href=\"#m7aa7ce11d8\" y=\"276.36735\"/>\n      </g>\n     </g>\n     <g id=\"text_3\">\n      <!-- 30 -->\n      <g transform=\"translate(208.663125 290.965788)scale(0.1 -0.1)\">\n       <defs>\n        <path d=\"M 2597 2516 \nQ 3050 2419 3304 2112 \nQ 3559 1806 3559 1356 \nQ 3559 666 3084 287 \nQ 2609 -91 1734 -91 \nQ 1441 -91 1130 -33 \nQ 819 25 488 141 \nL 488 750 \nQ 750 597 1062 519 \nQ 1375 441 1716 441 \nQ 2309 441 2620 675 \nQ 2931 909 2931 1356 \nQ 2931 1769 2642 2001 \nQ 2353 2234 1838 2234 \nL 1294 2234 \nL 1294 2753 \nL 1863 2753 \nQ 2328 2753 2575 2939 \nQ 2822 3125 2822 3475 \nQ 2822 3834 2567 4026 \nQ 2313 4219 1838 4219 \nQ 1578 4219 1281 4162 \nQ 984 4106 628 3988 \nL 628 4550 \nQ 988 4650 1302 4700 \nQ 1616 4750 1894 4750 \nQ 2613 4750 3031 4423 \nQ 3450 4097 3450 3541 \nQ 3450 3153 3228 2886 \nQ 3006 2619 2597 2516 \nz\n\" id=\"DejaVuSans-33\" transform=\"scale(0.015625)\"/>\n        <path d=\"M 2034 4250 \nQ 1547 4250 1301 3770 \nQ 1056 3291 1056 2328 \nQ 1056 1369 1301 889 \nQ 1547 409 2034 409 \nQ 2525 409 2770 889 \nQ 3016 1369 3016 2328 \nQ 3016 3291 2770 3770 \nQ 2525 4250 2034 4250 \nz\nM 2034 4750 \nQ 2819 4750 3233 4129 \nQ 3647 3509 3647 2328 \nQ 3647 1150 3233 529 \nQ 2819 -91 2034 -91 \nQ 1250 -91 836 529 \nQ 422 1150 422 2328 \nQ 422 3509 836 4129 \nQ 1250 4750 2034 4750 \nz\n\" id=\"DejaVuSans-30\" transform=\"scale(0.015625)\"/>\n       </defs>\n       <use xlink:href=\"#DejaVuSans-33\"/>\n       <use x=\"63.623047\" xlink:href=\"#DejaVuSans-30\"/>\n      </g>\n     </g>\n    </g>\n    <g id=\"xtick_4\">\n     <g id=\"line2d_4\">\n      <g>\n       <use style=\"stroke:#000000;stroke-width:0.8;\" x=\"279.956534\" xlink:href=\"#m7aa7ce11d8\" y=\"276.36735\"/>\n      </g>\n     </g>\n     <g id=\"text_4\">\n      <!-- 32 -->\n      <g transform=\"translate(273.594034 290.965788)scale(0.1 -0.1)\">\n       <use xlink:href=\"#DejaVuSans-33\"/>\n       <use x=\"63.623047\" xlink:href=\"#DejaVuSans-32\"/>\n      </g>\n     </g>\n    </g>\n    <g id=\"xtick_5\">\n     <g id=\"line2d_5\">\n      <g>\n       <use style=\"stroke:#000000;stroke-width:0.8;\" x=\"344.887443\" xlink:href=\"#m7aa7ce11d8\" y=\"276.36735\"/>\n      </g>\n     </g>\n     <g id=\"text_5\">\n      <!-- 34 -->\n      <g transform=\"translate(338.524943 290.965788)scale(0.1 -0.1)\">\n       <defs>\n        <path d=\"M 2419 4116 \nL 825 1625 \nL 2419 1625 \nL 2419 4116 \nz\nM 2253 4666 \nL 3047 4666 \nL 3047 1625 \nL 3713 1625 \nL 3713 1100 \nL 3047 1100 \nL 3047 0 \nL 2419 0 \nL 2419 1100 \nL 313 1100 \nL 313 1709 \nL 2253 4666 \nz\n\" id=\"DejaVuSans-34\" transform=\"scale(0.015625)\"/>\n       </defs>\n       <use xlink:href=\"#DejaVuSans-33\"/>\n       <use x=\"63.623047\" xlink:href=\"#DejaVuSans-34\"/>\n      </g>\n     </g>\n    </g>\n   </g>\n   <g id=\"matplotlib.axis_2\">\n    <g id=\"ytick_1\">\n     <g id=\"line2d_6\">\n      <defs>\n       <path d=\"M 0 0 \nL -3.5 0 \n\" id=\"m1d65edc33c\" style=\"stroke:#000000;stroke-width:0.8;\"/>\n      </defs>\n      <g>\n       <use style=\"stroke:#000000;stroke-width:0.8;\" x=\"36.465625\" xlink:href=\"#m1d65edc33c\" y=\"247.982076\"/>\n      </g>\n     </g>\n     <g id=\"text_6\">\n      <!-- 20.0 -->\n      <g transform=\"translate(7.2 251.781295)scale(0.1 -0.1)\">\n       <defs>\n        <path d=\"M 684 794 \nL 1344 794 \nL 1344 0 \nL 684 0 \nL 684 794 \nz\n\" id=\"DejaVuSans-2e\" transform=\"scale(0.015625)\"/>\n       </defs>\n       <use xlink:href=\"#DejaVuSans-32\"/>\n       <use x=\"63.623047\" xlink:href=\"#DejaVuSans-30\"/>\n       <use x=\"127.246094\" xlink:href=\"#DejaVuSans-2e\"/>\n       <use x=\"159.033203\" xlink:href=\"#DejaVuSans-30\"/>\n      </g>\n     </g>\n    </g>\n    <g id=\"ytick_2\">\n     <g id=\"line2d_7\">\n      <g>\n       <use style=\"stroke:#000000;stroke-width:0.8;\" x=\"36.465625\" xlink:href=\"#m1d65edc33c\" y=\"218.359219\"/>\n      </g>\n     </g>\n     <g id=\"text_7\">\n      <!-- 22.5 -->\n      <g transform=\"translate(7.2 222.158438)scale(0.1 -0.1)\">\n       <defs>\n        <path d=\"M 691 4666 \nL 3169 4666 \nL 3169 4134 \nL 1269 4134 \nL 1269 2991 \nQ 1406 3038 1543 3061 \nQ 1681 3084 1819 3084 \nQ 2600 3084 3056 2656 \nQ 3513 2228 3513 1497 \nQ 3513 744 3044 326 \nQ 2575 -91 1722 -91 \nQ 1428 -91 1123 -41 \nQ 819 9 494 109 \nL 494 744 \nQ 775 591 1075 516 \nQ 1375 441 1709 441 \nQ 2250 441 2565 725 \nQ 2881 1009 2881 1497 \nQ 2881 1984 2565 2268 \nQ 2250 2553 1709 2553 \nQ 1456 2553 1204 2497 \nQ 953 2441 691 2322 \nL 691 4666 \nz\n\" id=\"DejaVuSans-35\" transform=\"scale(0.015625)\"/>\n       </defs>\n       <use xlink:href=\"#DejaVuSans-32\"/>\n       <use x=\"63.623047\" xlink:href=\"#DejaVuSans-32\"/>\n       <use x=\"127.246094\" xlink:href=\"#DejaVuSans-2e\"/>\n       <use x=\"159.033203\" xlink:href=\"#DejaVuSans-35\"/>\n      </g>\n     </g>\n    </g>\n    <g id=\"ytick_3\">\n     <g id=\"line2d_8\">\n      <g>\n       <use style=\"stroke:#000000;stroke-width:0.8;\" x=\"36.465625\" xlink:href=\"#m1d65edc33c\" y=\"188.736362\"/>\n      </g>\n     </g>\n     <g id=\"text_8\">\n      <!-- 25.0 -->\n      <g transform=\"translate(7.2 192.53558)scale(0.1 -0.1)\">\n       <use xlink:href=\"#DejaVuSans-32\"/>\n       <use x=\"63.623047\" xlink:href=\"#DejaVuSans-35\"/>\n       <use x=\"127.246094\" xlink:href=\"#DejaVuSans-2e\"/>\n       <use x=\"159.033203\" xlink:href=\"#DejaVuSans-30\"/>\n      </g>\n     </g>\n    </g>\n    <g id=\"ytick_4\">\n     <g id=\"line2d_9\">\n      <g>\n       <use style=\"stroke:#000000;stroke-width:0.8;\" x=\"36.465625\" xlink:href=\"#m1d65edc33c\" y=\"159.113504\"/>\n      </g>\n     </g>\n     <g id=\"text_9\">\n      <!-- 27.5 -->\n      <g transform=\"translate(7.2 162.912723)scale(0.1 -0.1)\">\n       <defs>\n        <path d=\"M 525 4666 \nL 3525 4666 \nL 3525 4397 \nL 1831 0 \nL 1172 0 \nL 2766 4134 \nL 525 4134 \nL 525 4666 \nz\n\" id=\"DejaVuSans-37\" transform=\"scale(0.015625)\"/>\n       </defs>\n       <use xlink:href=\"#DejaVuSans-32\"/>\n       <use x=\"63.623047\" xlink:href=\"#DejaVuSans-37\"/>\n       <use x=\"127.246094\" xlink:href=\"#DejaVuSans-2e\"/>\n       <use x=\"159.033203\" xlink:href=\"#DejaVuSans-35\"/>\n      </g>\n     </g>\n    </g>\n    <g id=\"ytick_5\">\n     <g id=\"line2d_10\">\n      <g>\n       <use style=\"stroke:#000000;stroke-width:0.8;\" x=\"36.465625\" xlink:href=\"#m1d65edc33c\" y=\"129.490647\"/>\n      </g>\n     </g>\n     <g id=\"text_10\">\n      <!-- 30.0 -->\n      <g transform=\"translate(7.2 133.289866)scale(0.1 -0.1)\">\n       <use xlink:href=\"#DejaVuSans-33\"/>\n       <use x=\"63.623047\" xlink:href=\"#DejaVuSans-30\"/>\n       <use x=\"127.246094\" xlink:href=\"#DejaVuSans-2e\"/>\n       <use x=\"159.033203\" xlink:href=\"#DejaVuSans-30\"/>\n      </g>\n     </g>\n    </g>\n    <g id=\"ytick_6\">\n     <g id=\"line2d_11\">\n      <g>\n       <use style=\"stroke:#000000;stroke-width:0.8;\" x=\"36.465625\" xlink:href=\"#m1d65edc33c\" y=\"99.86779\"/>\n      </g>\n     </g>\n     <g id=\"text_11\">\n      <!-- 32.5 -->\n      <g transform=\"translate(7.2 103.667009)scale(0.1 -0.1)\">\n       <use xlink:href=\"#DejaVuSans-33\"/>\n       <use x=\"63.623047\" xlink:href=\"#DejaVuSans-32\"/>\n       <use x=\"127.246094\" xlink:href=\"#DejaVuSans-2e\"/>\n       <use x=\"159.033203\" xlink:href=\"#DejaVuSans-35\"/>\n      </g>\n     </g>\n    </g>\n    <g id=\"ytick_7\">\n     <g id=\"line2d_12\">\n      <g>\n       <use style=\"stroke:#000000;stroke-width:0.8;\" x=\"36.465625\" xlink:href=\"#m1d65edc33c\" y=\"70.244933\"/>\n      </g>\n     </g>\n     <g id=\"text_12\">\n      <!-- 35.0 -->\n      <g transform=\"translate(7.2 74.044152)scale(0.1 -0.1)\">\n       <use xlink:href=\"#DejaVuSans-33\"/>\n       <use x=\"63.623047\" xlink:href=\"#DejaVuSans-35\"/>\n       <use x=\"127.246094\" xlink:href=\"#DejaVuSans-2e\"/>\n       <use x=\"159.033203\" xlink:href=\"#DejaVuSans-30\"/>\n      </g>\n     </g>\n    </g>\n    <g id=\"ytick_8\">\n     <g id=\"line2d_13\">\n      <g>\n       <use style=\"stroke:#000000;stroke-width:0.8;\" x=\"36.465625\" xlink:href=\"#m1d65edc33c\" y=\"40.622076\"/>\n      </g>\n     </g>\n     <g id=\"text_13\">\n      <!-- 37.5 -->\n      <g transform=\"translate(7.2 44.421295)scale(0.1 -0.1)\">\n       <use xlink:href=\"#DejaVuSans-33\"/>\n       <use x=\"63.623047\" xlink:href=\"#DejaVuSans-37\"/>\n       <use x=\"127.246094\" xlink:href=\"#DejaVuSans-2e\"/>\n       <use x=\"159.033203\" xlink:href=\"#DejaVuSans-35\"/>\n      </g>\n     </g>\n    </g>\n    <g id=\"ytick_9\">\n     <g id=\"line2d_14\">\n      <g>\n       <use style=\"stroke:#000000;stroke-width:0.8;\" x=\"36.465625\" xlink:href=\"#m1d65edc33c\" y=\"10.999219\"/>\n      </g>\n     </g>\n     <g id=\"text_14\">\n      <!-- 40.0 -->\n      <g transform=\"translate(7.2 14.798437)scale(0.1 -0.1)\">\n       <use xlink:href=\"#DejaVuSans-34\"/>\n       <use x=\"63.623047\" xlink:href=\"#DejaVuSans-30\"/>\n       <use x=\"127.246094\" xlink:href=\"#DejaVuSans-2e\"/>\n       <use x=\"159.033203\" xlink:href=\"#DejaVuSans-30\"/>\n      </g>\n     </g>\n    </g>\n   </g>\n   <g id=\"line2d_15\">\n    <path clip-path=\"url(#p8919b5f6fb)\" d=\"M 52.698352 22.35135 \nL 55.977691 30.656994 \nL 59.25703 38.81756 \nL 62.536369 46.83305 \nL 65.815708 54.703463 \nL 69.095046 62.4288 \nL 72.374385 70.00906 \nL 75.653724 77.444243 \nL 78.933063 84.734349 \nL 82.212402 91.879378 \nL 85.491741 98.879331 \nL 88.77108 105.734207 \nL 92.050418 112.444006 \nL 95.329757 119.008729 \nL 98.609096 125.428375 \nL 101.888435 131.702944 \nL 105.167774 137.832436 \nL 108.447113 143.816852 \nL 111.726451 149.656191 \nL 115.00579 155.350453 \nL 118.285129 160.899638 \nL 121.564468 166.303747 \nL 124.843807 171.562779 \nL 128.123146 176.676734 \nL 131.402485 181.645612 \nL 134.681823 186.469414 \nL 137.961162 191.148139 \nL 141.240501 195.681787 \nL 144.51984 200.070358 \nL 147.799179 204.313853 \nL 151.078518 208.412271 \nL 154.357856 212.365612 \nL 157.637195 216.173877 \nL 160.916534 219.837064 \nL 164.195873 223.355175 \nL 167.475212 226.72821 \nL 170.754551 229.956167 \nL 174.033889 233.039048 \nL 177.313228 235.976852 \nL 180.592567 238.769579 \nL 183.871906 241.41723 \nL 187.151245 243.919803 \nL 190.430584 246.2773 \nL 193.709923 248.489721 \nL 196.989261 250.557064 \nL 200.2686 252.479331 \nL 203.547939 254.256521 \nL 206.827278 255.888635 \nL 210.106617 257.375671 \nL 213.385956 258.717631 \nL 216.665294 259.914514 \nL 219.944633 260.966321 \nL 223.223972 261.87305 \nL 226.503311 262.634703 \nL 229.78265 263.251279 \nL 233.061989 263.722779 \nL 236.341327 264.049201 \nL 239.620666 264.230547 \nL 242.900005 264.266816 \nL 246.179344 264.158009 \nL 249.458683 263.904125 \nL 252.738022 263.505164 \nL 256.017361 262.961126 \nL 259.296699 262.272011 \nL 262.576038 261.43782 \nL 265.855377 260.458552 \nL 269.134716 259.334207 \nL 272.414055 258.064786 \nL 275.693394 256.650287 \nL 278.972732 255.090713 \nL 282.252071 253.386061 \nL 285.53141 251.536332 \nL 288.810749 249.541527 \nL 292.090088 247.401645 \nL 295.369427 245.116687 \nL 298.648765 242.686651 \nL 301.928104 240.111539 \nL 305.207443 237.39135 \nL 308.486782 234.526084 \nL 311.766121 231.515742 \nL 315.04546 228.360323 \nL 318.324799 225.059827 \nL 321.604137 221.614254 \nL 324.883476 218.023605 \nL 328.162815 214.287879 \nL 331.442154 210.407076 \nL 334.721493 206.381197 \nL 338.000832 202.21024 \nL 341.28017 197.894207 \nL 344.559509 193.433097 \nL 347.838848 188.826911 \nL 351.118187 184.075648 \nL 354.397526 179.179308 \nL 357.676865 174.137891 \nL 360.956204 168.951397 \nL 364.235542 163.619827 \nL 367.514881 158.14318 \nL 370.79422 152.521456 \nL 374.073559 146.754656 \nL 377.352898 140.842779 \n\" style=\"fill:none;stroke:#ff0000;stroke-linecap:square;stroke-width:1.5;\"/>\n   </g>\n   <g id=\"patch_3\">\n    <path d=\"M 36.465625 276.36735 \nL 36.465625 10.25535 \n\" style=\"fill:none;stroke:#000000;stroke-linecap:square;stroke-linejoin:miter;stroke-width:0.8;\"/>\n   </g>\n   <g id=\"patch_4\">\n    <path d=\"M 393.585625 276.36735 \nL 393.585625 10.25535 \n\" style=\"fill:none;stroke:#000000;stroke-linecap:square;stroke-linejoin:miter;stroke-width:0.8;\"/>\n   </g>\n   <g id=\"patch_5\">\n    <path d=\"M 36.465625 276.36735 \nL 393.585625 276.36735 \n\" style=\"fill:none;stroke:#000000;stroke-linecap:square;stroke-linejoin:miter;stroke-width:0.8;\"/>\n   </g>\n   <g id=\"patch_6\">\n    <path d=\"M 36.465625 10.25535 \nL 393.585625 10.25535 \n\" style=\"fill:none;stroke:#000000;stroke-linecap:square;stroke-linejoin:miter;stroke-width:0.8;\"/>\n   </g>\n   <g id=\"legend_1\">\n    <g id=\"patch_7\">\n     <path d=\"M 255.227813 47.6116 \nL 386.585625 47.6116 \nQ 388.585625 47.6116 388.585625 45.6116 \nL 388.585625 17.25535 \nQ 388.585625 15.25535 386.585625 15.25535 \nL 255.227813 15.25535 \nQ 253.227813 15.25535 253.227813 17.25535 \nL 253.227813 45.6116 \nQ 253.227813 47.6116 255.227813 47.6116 \nz\n\" style=\"fill:#ffffff;opacity:0.8;stroke:#cccccc;stroke-linejoin:miter;\"/>\n    </g>\n    <g id=\"line2d_16\">\n     <path d=\"M 257.227813 23.353788 \nL 277.227813 23.353788 \n\" style=\"fill:none;stroke:#ff0000;stroke-linecap:square;stroke-width:1.5;\"/>\n    </g>\n    <g id=\"line2d_17\"/>\n    <g id=\"text_15\">\n     <!-- Neg Log Likelihood -->\n     <g transform=\"translate(285.227813 26.853788)scale(0.1 -0.1)\">\n      <defs>\n       <path d=\"M 628 4666 \nL 1478 4666 \nL 3547 763 \nL 3547 4666 \nL 4159 4666 \nL 4159 0 \nL 3309 0 \nL 1241 3903 \nL 1241 0 \nL 628 0 \nL 628 4666 \nz\n\" id=\"DejaVuSans-4e\" transform=\"scale(0.015625)\"/>\n       <path d=\"M 3597 1894 \nL 3597 1613 \nL 953 1613 \nQ 991 1019 1311 708 \nQ 1631 397 2203 397 \nQ 2534 397 2845 478 \nQ 3156 559 3463 722 \nL 3463 178 \nQ 3153 47 2828 -22 \nQ 2503 -91 2169 -91 \nQ 1331 -91 842 396 \nQ 353 884 353 1716 \nQ 353 2575 817 3079 \nQ 1281 3584 2069 3584 \nQ 2775 3584 3186 3129 \nQ 3597 2675 3597 1894 \nz\nM 3022 2063 \nQ 3016 2534 2758 2815 \nQ 2500 3097 2075 3097 \nQ 1594 3097 1305 2825 \nQ 1016 2553 972 2059 \nL 3022 2063 \nz\n\" id=\"DejaVuSans-65\" transform=\"scale(0.015625)\"/>\n       <path d=\"M 2906 1791 \nQ 2906 2416 2648 2759 \nQ 2391 3103 1925 3103 \nQ 1463 3103 1205 2759 \nQ 947 2416 947 1791 \nQ 947 1169 1205 825 \nQ 1463 481 1925 481 \nQ 2391 481 2648 825 \nQ 2906 1169 2906 1791 \nz\nM 3481 434 \nQ 3481 -459 3084 -895 \nQ 2688 -1331 1869 -1331 \nQ 1566 -1331 1297 -1286 \nQ 1028 -1241 775 -1147 \nL 775 -588 \nQ 1028 -725 1275 -790 \nQ 1522 -856 1778 -856 \nQ 2344 -856 2625 -561 \nQ 2906 -266 2906 331 \nL 2906 616 \nQ 2728 306 2450 153 \nQ 2172 0 1784 0 \nQ 1141 0 747 490 \nQ 353 981 353 1791 \nQ 353 2603 747 3093 \nQ 1141 3584 1784 3584 \nQ 2172 3584 2450 3431 \nQ 2728 3278 2906 2969 \nL 2906 3500 \nL 3481 3500 \nL 3481 434 \nz\n\" id=\"DejaVuSans-67\" transform=\"scale(0.015625)\"/>\n       <path id=\"DejaVuSans-20\" transform=\"scale(0.015625)\"/>\n       <path d=\"M 628 4666 \nL 1259 4666 \nL 1259 531 \nL 3531 531 \nL 3531 0 \nL 628 0 \nL 628 4666 \nz\n\" id=\"DejaVuSans-4c\" transform=\"scale(0.015625)\"/>\n       <path d=\"M 1959 3097 \nQ 1497 3097 1228 2736 \nQ 959 2375 959 1747 \nQ 959 1119 1226 758 \nQ 1494 397 1959 397 \nQ 2419 397 2687 759 \nQ 2956 1122 2956 1747 \nQ 2956 2369 2687 2733 \nQ 2419 3097 1959 3097 \nz\nM 1959 3584 \nQ 2709 3584 3137 3096 \nQ 3566 2609 3566 1747 \nQ 3566 888 3137 398 \nQ 2709 -91 1959 -91 \nQ 1206 -91 779 398 \nQ 353 888 353 1747 \nQ 353 2609 779 3096 \nQ 1206 3584 1959 3584 \nz\n\" id=\"DejaVuSans-6f\" transform=\"scale(0.015625)\"/>\n       <path d=\"M 603 3500 \nL 1178 3500 \nL 1178 0 \nL 603 0 \nL 603 3500 \nz\nM 603 4863 \nL 1178 4863 \nL 1178 4134 \nL 603 4134 \nL 603 4863 \nz\n\" id=\"DejaVuSans-69\" transform=\"scale(0.015625)\"/>\n       <path d=\"M 581 4863 \nL 1159 4863 \nL 1159 1991 \nL 2875 3500 \nL 3609 3500 \nL 1753 1863 \nL 3688 0 \nL 2938 0 \nL 1159 1709 \nL 1159 0 \nL 581 0 \nL 581 4863 \nz\n\" id=\"DejaVuSans-6b\" transform=\"scale(0.015625)\"/>\n       <path d=\"M 603 4863 \nL 1178 4863 \nL 1178 0 \nL 603 0 \nL 603 4863 \nz\n\" id=\"DejaVuSans-6c\" transform=\"scale(0.015625)\"/>\n       <path d=\"M 3513 2113 \nL 3513 0 \nL 2938 0 \nL 2938 2094 \nQ 2938 2591 2744 2837 \nQ 2550 3084 2163 3084 \nQ 1697 3084 1428 2787 \nQ 1159 2491 1159 1978 \nL 1159 0 \nL 581 0 \nL 581 4863 \nL 1159 4863 \nL 1159 2956 \nQ 1366 3272 1645 3428 \nQ 1925 3584 2291 3584 \nQ 2894 3584 3203 3211 \nQ 3513 2838 3513 2113 \nz\n\" id=\"DejaVuSans-68\" transform=\"scale(0.015625)\"/>\n       <path d=\"M 2906 2969 \nL 2906 4863 \nL 3481 4863 \nL 3481 0 \nL 2906 0 \nL 2906 525 \nQ 2725 213 2448 61 \nQ 2172 -91 1784 -91 \nQ 1150 -91 751 415 \nQ 353 922 353 1747 \nQ 353 2572 751 3078 \nQ 1150 3584 1784 3584 \nQ 2172 3584 2448 3432 \nQ 2725 3281 2906 2969 \nz\nM 947 1747 \nQ 947 1113 1208 752 \nQ 1469 391 1925 391 \nQ 2381 391 2643 752 \nQ 2906 1113 2906 1747 \nQ 2906 2381 2643 2742 \nQ 2381 3103 1925 3103 \nQ 1469 3103 1208 2742 \nQ 947 2381 947 1747 \nz\n\" id=\"DejaVuSans-64\" transform=\"scale(0.015625)\"/>\n      </defs>\n      <use xlink:href=\"#DejaVuSans-4e\"/>\n      <use x=\"74.804688\" xlink:href=\"#DejaVuSans-65\"/>\n      <use x=\"136.328125\" xlink:href=\"#DejaVuSans-67\"/>\n      <use x=\"199.804688\" xlink:href=\"#DejaVuSans-20\"/>\n      <use x=\"231.591797\" xlink:href=\"#DejaVuSans-4c\"/>\n      <use x=\"285.554688\" xlink:href=\"#DejaVuSans-6f\"/>\n      <use x=\"346.736328\" xlink:href=\"#DejaVuSans-67\"/>\n      <use x=\"410.212891\" xlink:href=\"#DejaVuSans-20\"/>\n      <use x=\"442\" xlink:href=\"#DejaVuSans-4c\"/>\n      <use x=\"497.712891\" xlink:href=\"#DejaVuSans-69\"/>\n      <use x=\"525.496094\" xlink:href=\"#DejaVuSans-6b\"/>\n      <use x=\"579.78125\" xlink:href=\"#DejaVuSans-65\"/>\n      <use x=\"641.304688\" xlink:href=\"#DejaVuSans-6c\"/>\n      <use x=\"669.087891\" xlink:href=\"#DejaVuSans-69\"/>\n      <use x=\"696.871094\" xlink:href=\"#DejaVuSans-68\"/>\n      <use x=\"760.25\" xlink:href=\"#DejaVuSans-6f\"/>\n      <use x=\"821.431641\" xlink:href=\"#DejaVuSans-6f\"/>\n      <use x=\"882.613281\" xlink:href=\"#DejaVuSans-64\"/>\n     </g>\n    </g>\n    <g id=\"PathCollection_2\">\n     <g>\n      <use style=\"fill:#1f77b4;stroke:#1f77b4;\" x=\"267.227813\" xlink:href=\"#m6b1821f9ab\" y=\"38.906913\"/>\n     </g>\n    </g>\n    <g id=\"text_16\">\n     <!-- Minimizer Iterations -->\n     <g transform=\"translate(285.227813 41.531913)scale(0.1 -0.1)\">\n      <defs>\n       <path d=\"M 628 4666 \nL 1569 4666 \nL 2759 1491 \nL 3956 4666 \nL 4897 4666 \nL 4897 0 \nL 4281 0 \nL 4281 4097 \nL 3078 897 \nL 2444 897 \nL 1241 4097 \nL 1241 0 \nL 628 0 \nL 628 4666 \nz\n\" id=\"DejaVuSans-4d\" transform=\"scale(0.015625)\"/>\n       <path d=\"M 3513 2113 \nL 3513 0 \nL 2938 0 \nL 2938 2094 \nQ 2938 2591 2744 2837 \nQ 2550 3084 2163 3084 \nQ 1697 3084 1428 2787 \nQ 1159 2491 1159 1978 \nL 1159 0 \nL 581 0 \nL 581 3500 \nL 1159 3500 \nL 1159 2956 \nQ 1366 3272 1645 3428 \nQ 1925 3584 2291 3584 \nQ 2894 3584 3203 3211 \nQ 3513 2838 3513 2113 \nz\n\" id=\"DejaVuSans-6e\" transform=\"scale(0.015625)\"/>\n       <path d=\"M 3328 2828 \nQ 3544 3216 3844 3400 \nQ 4144 3584 4550 3584 \nQ 5097 3584 5394 3201 \nQ 5691 2819 5691 2113 \nL 5691 0 \nL 5113 0 \nL 5113 2094 \nQ 5113 2597 4934 2840 \nQ 4756 3084 4391 3084 \nQ 3944 3084 3684 2787 \nQ 3425 2491 3425 1978 \nL 3425 0 \nL 2847 0 \nL 2847 2094 \nQ 2847 2600 2669 2842 \nQ 2491 3084 2119 3084 \nQ 1678 3084 1418 2786 \nQ 1159 2488 1159 1978 \nL 1159 0 \nL 581 0 \nL 581 3500 \nL 1159 3500 \nL 1159 2956 \nQ 1356 3278 1631 3431 \nQ 1906 3584 2284 3584 \nQ 2666 3584 2933 3390 \nQ 3200 3197 3328 2828 \nz\n\" id=\"DejaVuSans-6d\" transform=\"scale(0.015625)\"/>\n       <path d=\"M 353 3500 \nL 3084 3500 \nL 3084 2975 \nL 922 459 \nL 3084 459 \nL 3084 0 \nL 275 0 \nL 275 525 \nL 2438 3041 \nL 353 3041 \nL 353 3500 \nz\n\" id=\"DejaVuSans-7a\" transform=\"scale(0.015625)\"/>\n       <path d=\"M 2631 2963 \nQ 2534 3019 2420 3045 \nQ 2306 3072 2169 3072 \nQ 1681 3072 1420 2755 \nQ 1159 2438 1159 1844 \nL 1159 0 \nL 581 0 \nL 581 3500 \nL 1159 3500 \nL 1159 2956 \nQ 1341 3275 1631 3429 \nQ 1922 3584 2338 3584 \nQ 2397 3584 2469 3576 \nQ 2541 3569 2628 3553 \nL 2631 2963 \nz\n\" id=\"DejaVuSans-72\" transform=\"scale(0.015625)\"/>\n       <path d=\"M 628 4666 \nL 1259 4666 \nL 1259 0 \nL 628 0 \nL 628 4666 \nz\n\" id=\"DejaVuSans-49\" transform=\"scale(0.015625)\"/>\n       <path d=\"M 1172 4494 \nL 1172 3500 \nL 2356 3500 \nL 2356 3053 \nL 1172 3053 \nL 1172 1153 \nQ 1172 725 1289 603 \nQ 1406 481 1766 481 \nL 2356 481 \nL 2356 0 \nL 1766 0 \nQ 1100 0 847 248 \nQ 594 497 594 1153 \nL 594 3053 \nL 172 3053 \nL 172 3500 \nL 594 3500 \nL 594 4494 \nL 1172 4494 \nz\n\" id=\"DejaVuSans-74\" transform=\"scale(0.015625)\"/>\n       <path d=\"M 2194 1759 \nQ 1497 1759 1228 1600 \nQ 959 1441 959 1056 \nQ 959 750 1161 570 \nQ 1363 391 1709 391 \nQ 2188 391 2477 730 \nQ 2766 1069 2766 1631 \nL 2766 1759 \nL 2194 1759 \nz\nM 3341 1997 \nL 3341 0 \nL 2766 0 \nL 2766 531 \nQ 2569 213 2275 61 \nQ 1981 -91 1556 -91 \nQ 1019 -91 701 211 \nQ 384 513 384 1019 \nQ 384 1609 779 1909 \nQ 1175 2209 1959 2209 \nL 2766 2209 \nL 2766 2266 \nQ 2766 2663 2505 2880 \nQ 2244 3097 1772 3097 \nQ 1472 3097 1187 3025 \nQ 903 2953 641 2809 \nL 641 3341 \nQ 956 3463 1253 3523 \nQ 1550 3584 1831 3584 \nQ 2591 3584 2966 3190 \nQ 3341 2797 3341 1997 \nz\n\" id=\"DejaVuSans-61\" transform=\"scale(0.015625)\"/>\n       <path d=\"M 2834 3397 \nL 2834 2853 \nQ 2591 2978 2328 3040 \nQ 2066 3103 1784 3103 \nQ 1356 3103 1142 2972 \nQ 928 2841 928 2578 \nQ 928 2378 1081 2264 \nQ 1234 2150 1697 2047 \nL 1894 2003 \nQ 2506 1872 2764 1633 \nQ 3022 1394 3022 966 \nQ 3022 478 2636 193 \nQ 2250 -91 1575 -91 \nQ 1294 -91 989 -36 \nQ 684 19 347 128 \nL 347 722 \nQ 666 556 975 473 \nQ 1284 391 1588 391 \nQ 1994 391 2212 530 \nQ 2431 669 2431 922 \nQ 2431 1156 2273 1281 \nQ 2116 1406 1581 1522 \nL 1381 1569 \nQ 847 1681 609 1914 \nQ 372 2147 372 2553 \nQ 372 3047 722 3315 \nQ 1072 3584 1716 3584 \nQ 2034 3584 2315 3537 \nQ 2597 3491 2834 3397 \nz\n\" id=\"DejaVuSans-73\" transform=\"scale(0.015625)\"/>\n      </defs>\n      <use xlink:href=\"#DejaVuSans-4d\"/>\n      <use x=\"86.279297\" xlink:href=\"#DejaVuSans-69\"/>\n      <use x=\"114.0625\" xlink:href=\"#DejaVuSans-6e\"/>\n      <use x=\"177.441406\" xlink:href=\"#DejaVuSans-69\"/>\n      <use x=\"205.224609\" xlink:href=\"#DejaVuSans-6d\"/>\n      <use x=\"302.636719\" xlink:href=\"#DejaVuSans-69\"/>\n      <use x=\"330.419922\" xlink:href=\"#DejaVuSans-7a\"/>\n      <use x=\"382.910156\" xlink:href=\"#DejaVuSans-65\"/>\n      <use x=\"444.433594\" xlink:href=\"#DejaVuSans-72\"/>\n      <use x=\"485.546875\" xlink:href=\"#DejaVuSans-20\"/>\n      <use x=\"517.333984\" xlink:href=\"#DejaVuSans-49\"/>\n      <use x=\"546.826172\" xlink:href=\"#DejaVuSans-74\"/>\n      <use x=\"586.035156\" xlink:href=\"#DejaVuSans-65\"/>\n      <use x=\"647.558594\" xlink:href=\"#DejaVuSans-72\"/>\n      <use x=\"688.671875\" xlink:href=\"#DejaVuSans-61\"/>\n      <use x=\"749.951172\" xlink:href=\"#DejaVuSans-74\"/>\n      <use x=\"789.160156\" xlink:href=\"#DejaVuSans-69\"/>\n      <use x=\"816.943359\" xlink:href=\"#DejaVuSans-6f\"/>\n      <use x=\"878.125\" xlink:href=\"#DejaVuSans-6e\"/>\n      <use x=\"941.503906\" xlink:href=\"#DejaVuSans-73\"/>\n     </g>\n    </g>\n   </g>\n  </g>\n </g>\n <defs>\n  <clipPath id=\"p8919b5f6fb\">\n   <rect height=\"266.112\" width=\"357.12\" x=\"36.465625\" y=\"10.25535\"/>\n  </clipPath>\n </defs>\n</svg>\n",
      "image/png": "[encoded data removed]"
     },
     "metadata": {}
    }
   ],
   "metadata": {}
  },
  {
   "cell_type": "markdown",
   "source": [
    "**Answer Here**\n",
    "The numerical results and analytic results are the same "
   ],
   "metadata": {}
  },
  {
   "cell_type": "markdown",
   "source": [
    "## Question 3: The (Biased) Coin\n",
    "\n",
    "Your friend shows you a very odd looking coin, and you two want to figure out if it is biased or not."
   ],
   "metadata": {}
  },
  {
   "cell_type": "markdown",
   "source": [
    "#### a) The Observation Model\n",
    "\n",
    "Assume you flip the coin $N$ times and get $n_h$ heads and $n_t = N - n_h$ tails. Choose an appropriate distribution and down the likelihood for $p$, the probability of flipping a heads with this coin."
   ],
   "metadata": {}
  },
  {
   "cell_type": "markdown",
   "source": [
    "**Answer Here** Let X be a random variable representing the number of heads after N trials, then X~Bin(N, p)\n",
    "$$ \\ell{(p; N, \\vec{x})} = {N \\choose n_h}p^{n_h}(1-p)^{N-n_h}$$"
   ],
   "metadata": {}
  },
  {
   "cell_type": "markdown",
   "source": [
    "#### b) Use the log-likelihood to find a formula for the MLE for $p$. \n",
    "\n",
    "Provide an interpretation for this result."
   ],
   "metadata": {}
  },
  {
   "cell_type": "markdown",
   "source": [
    "**Answer Here**\n",
    "$$ \\frac{\\partial{log(\\ell{(p; N, \\vec{x})})}}{\\partial{p}} = log({N \\choose n_h}) + n_hlog(p) + (N-n_h)log(1-p)$$\n",
    "$$\\hat{p} = \\frac{n_h}{N} $$\n",
    "\n",
    "The MLE provides us with an estimate of the probability that is exactly the number of occurences of heads over the total number of samples. "
   ],
   "metadata": {}
  },
  {
   "cell_type": "markdown",
   "source": [
    "#### c) An Interesting Case"
   ],
   "metadata": {}
  },
  {
   "cell_type": "markdown",
   "source": [
    "Suppose you flip the coin 3 times and observe HHH (3 heads in a row). What is the MLE for $p$? Does this make sense with your intuitions?"
   ],
   "metadata": {}
  },
  {
   "cell_type": "markdown",
   "source": [
    "**Answer Here** If the coin is flipped 3 times the MLE will be $\\hat{p}=1$. From the perspective of the MLE this is the probability that would most likely produce the 3 heads. From the perspective of trying to maximize a function, this makes sense, but this is simply becuase the optimization by definition is a single point, ie. there is no uncertainty accounted for in the estimate. I would be very suspicious of an estimate this certain. "
   ],
   "metadata": {}
  },
  {
   "cell_type": "markdown",
   "source": [
    "## Question 4: Rainfall and a Joint MLE\n",
    "\n",
    "We have a (synthetic) dataset of 1000 days of positive precipitation in measured in NYC in mm, attached in the `rain.npy` file. In this question we will work through modeling this data analytically and numerically, and simulating new data to determine risks for the city."
   ],
   "metadata": {}
  },
  {
   "cell_type": "markdown",
   "source": [
    "#### a) The Likelihood Function\n",
    "\n",
    "Assuming a Gamma distribution, write down the likelihood and log likelihood functions of the shape and scale parameters. Solve for the MLE of the shape and scale parameters. You can leave your answer for the shape parameter in terms of the Digamma function."
   ],
   "metadata": {}
  },
  {
   "cell_type": "markdown",
   "source": [
    "**Answer Here**\n",
    "$$\\ell{(\\theta, k; \\vec{x})} = \\frac{1}{\\Gamma(k)^N\\theta^N}\\prod_{i=1}^{N}x_i^{k-1}e^{\\frac{-x}{\\theta}}$$\n",
    "$$log(\\ell{(\\theta, k; \\vec{x})}) = -N(log(\\Gamma(k)) -Nklog(\\theta) + \\sum_{i=1}^{N}(k-1)log(x_i) - \\frac{x_i}{\\theta}$$\n",
    "$$\\frac{\\partial{(log(\\ell{(\\theta, k; \\vec{x})}))}}{\\partial{\\theta}}=-\\frac{Nk}{\\theta} + \\frac{1}{\\theta^2}\\sum_{i=1}^{N}x_i$$\n",
    "$$\\hat{\\theta} = \\frac{1}{Nk}\\sum_{i=1}^{N}{x_i}$$\n",
    "Substituting in $\\hat{\\theta}$ and again maximizing the likelihood\n",
    "$$\\frac{\\partial{(log(\\ell{(\\theta, k; \\vec{x})}))}}{\\partial{k}} =  N\\log(N) + N\\log(k)-N\\psi{(k)} -N\\log(\\sum_{i=1}^{N}x_i)+\\sum_{i=1}^{N}\\log{(x_i)}$$\n",
    "$$\\log(k)- \\psi(k)=\\log(\\frac{1}{N}\\sum_{i=1}^{N}x_i)-\\frac{1}{N}\\sum_{i=1}^{N}\\log(x_i)$$"
   ],
   "metadata": {}
  },
  {
   "cell_type": "markdown",
   "source": [
    "#### B) Joint optimization of the MLE\n",
    "\n",
    "In the previous part we saw that we can't get a closed form for the joint MLE of the Gamma distribution (hint hint!). For this part (i) define a function for the _negative_ log likelihood and make a surface plot for values of $k \\in [1., 15]$ and $\\theta \\in [1., 15]$ using the attached data."
   ],
   "metadata": {}
  },
  {
   "cell_type": "markdown",
   "source": [
    "**Answer Here**"
   ],
   "metadata": {}
  },
  {
   "cell_type": "code",
   "execution_count": 13,
   "source": [
    "from scipy.special import gamma"
   ],
   "outputs": [],
   "metadata": {}
  },
  {
   "cell_type": "code",
   "execution_count": 15,
   "source": [
    "rain = np.load(\"rain.npy\")"
   ],
   "outputs": [],
   "metadata": {}
  },
  {
   "cell_type": "code",
   "execution_count": 16,
   "source": [
    "def nll_gamma(k, theta):\n",
    "    return 1000*np.log(gamma(k))+1000*k*np.log(theta)-(k-1)*np.sum(np.log(rain))+1/theta*np.sum(rain)"
   ],
   "outputs": [],
   "metadata": {}
  },
  {
   "cell_type": "code",
   "execution_count": 17,
   "source": [
    "k_ = np.linspace(1,15, 1000)\n",
    "theta_ = np.linspace(1,15, 1000)\n",
    "k_grid, theta_grid = np.meshgrid(k_,theta_)"
   ],
   "outputs": [],
   "metadata": {}
  },
  {
   "cell_type": "code",
   "execution_count": 18,
   "source": [
    "nlls_gamma = nll_gamma(k_grid, theta_grid)"
   ],
   "outputs": [],
   "metadata": {}
  },
  {
   "cell_type": "markdown",
   "source": [
    "#### C) Numerical Estimates\n",
    "\n",
    "Since we can't get a closed form estimate but we can define a negative log-likelihood function in python, use `scipy.minimize` to compute estimates of $k$ and $\\theta$.\n",
    "\n",
    "Plot the solution of the optimizer on the surface plot of the NLL you generated above - does it seem reasonable? "
   ],
   "metadata": {}
  },
  {
   "cell_type": "code",
   "execution_count": 18,
   "source": [
    "def nll_gamma_objective(param):\n",
    "    k = param[0]\n",
    "    theta=param[1]\n",
    "    return 1000*np.log(gamma(k))+1000*k*np.log(theta)-(k-1)*np.sum(np.log(rain))+1/theta*np.sum(rain)#1000*np.log(gamma(param[0]))+1000*param[0]*np.log(param[1])-(param[0]-1)*np.sum(np.log(rain))+np.sum((rain/param[1]))"
   ],
   "outputs": [],
   "metadata": {}
  },
  {
   "cell_type": "code",
   "execution_count": 19,
   "source": [
    "nll_gamma_opt = optimize.minimize(nll_gamma_objective,x0=[15.0, 15.0], bounds=((1.0, 15.0),(1.0, 15.0)))\n",
    "k_theta = nll_gamma_opt['x']\n"
   ],
   "outputs": [],
   "metadata": {}
  },
  {
   "cell_type": "code",
   "execution_count": 20,
   "source": [
    "k_theta"
   ],
   "outputs": [
    {
     "output_type": "execute_result",
     "data": {
      "text/plain": [
       "array([10.11810938,  6.01379631])"
      ]
     },
     "metadata": {},
     "execution_count": 20
    }
   ],
   "metadata": {}
  },
  {
   "cell_type": "code",
   "execution_count": 21,
   "source": [
    "nll_gamma_min=nll_gamma_objective(k_theta)"
   ],
   "outputs": [],
   "metadata": {}
  },
  {
   "cell_type": "code",
   "execution_count": 19,
   "source": [
    "fig = plt.figure(dpi=150)\n",
    "ax = plt.axes(projection='3d')\n",
    "ax.plot_surface(k_grid, theta_grid, nlls_gamma, alpha=0.5)\n",
    "ax.scatter(k_theta[0], k_theta[1], nll_gamma_min, color='red')\n",
    "ax.set_xlabel(r'k')\n",
    "ax.set_ylabel(r'$\\theta$')\n",
    "ax.set_zlabel('NLL')\n",
    "ax.view_init(10, 15)\n",
    "plt.show()"
   ],
   "outputs": [
    {
     "output_type": "error",
     "ename": "NameError",
     "evalue": "name 'k_theta' is not defined",
     "traceback": [
      "\u001b[0;31m---------------------------------------------------------------------------\u001b[0m",
      "\u001b[0;31mNameError\u001b[0m                                 Traceback (most recent call last)",
      "\u001b[0;32m<ipython-input-19-6bfa48e9d1c3>\u001b[0m in \u001b[0;36m<module>\u001b[0;34m\u001b[0m\n\u001b[1;32m      2\u001b[0m \u001b[0max\u001b[0m \u001b[0;34m=\u001b[0m \u001b[0mplt\u001b[0m\u001b[0;34m.\u001b[0m\u001b[0maxes\u001b[0m\u001b[0;34m(\u001b[0m\u001b[0mprojection\u001b[0m\u001b[0;34m=\u001b[0m\u001b[0;34m'3d'\u001b[0m\u001b[0;34m)\u001b[0m\u001b[0;34m\u001b[0m\u001b[0;34m\u001b[0m\u001b[0m\n\u001b[1;32m      3\u001b[0m \u001b[0max\u001b[0m\u001b[0;34m.\u001b[0m\u001b[0mplot_surface\u001b[0m\u001b[0;34m(\u001b[0m\u001b[0mk_grid\u001b[0m\u001b[0;34m,\u001b[0m \u001b[0mtheta_grid\u001b[0m\u001b[0;34m,\u001b[0m \u001b[0mnlls_gamma\u001b[0m\u001b[0;34m,\u001b[0m \u001b[0malpha\u001b[0m\u001b[0;34m=\u001b[0m\u001b[0;36m0.5\u001b[0m\u001b[0;34m)\u001b[0m\u001b[0;34m\u001b[0m\u001b[0;34m\u001b[0m\u001b[0m\n\u001b[0;32m----> 4\u001b[0;31m \u001b[0max\u001b[0m\u001b[0;34m.\u001b[0m\u001b[0mscatter\u001b[0m\u001b[0;34m(\u001b[0m\u001b[0mk_theta\u001b[0m\u001b[0;34m[\u001b[0m\u001b[0;36m0\u001b[0m\u001b[0;34m]\u001b[0m\u001b[0;34m,\u001b[0m \u001b[0mk_theta\u001b[0m\u001b[0;34m[\u001b[0m\u001b[0;36m1\u001b[0m\u001b[0;34m]\u001b[0m\u001b[0;34m,\u001b[0m \u001b[0mnll_gamma_min\u001b[0m\u001b[0;34m,\u001b[0m \u001b[0mcolor\u001b[0m\u001b[0;34m=\u001b[0m\u001b[0;34m'red'\u001b[0m\u001b[0;34m)\u001b[0m\u001b[0;34m\u001b[0m\u001b[0;34m\u001b[0m\u001b[0m\n\u001b[0m\u001b[1;32m      5\u001b[0m \u001b[0max\u001b[0m\u001b[0;34m.\u001b[0m\u001b[0mset_xlabel\u001b[0m\u001b[0;34m(\u001b[0m\u001b[0;34mr'k'\u001b[0m\u001b[0;34m)\u001b[0m\u001b[0;34m\u001b[0m\u001b[0;34m\u001b[0m\u001b[0m\n\u001b[1;32m      6\u001b[0m \u001b[0max\u001b[0m\u001b[0;34m.\u001b[0m\u001b[0mset_ylabel\u001b[0m\u001b[0;34m(\u001b[0m\u001b[0;34mr'$\\theta$'\u001b[0m\u001b[0;34m)\u001b[0m\u001b[0;34m\u001b[0m\u001b[0;34m\u001b[0m\u001b[0m\n",
      "\u001b[0;31mNameError\u001b[0m: name 'k_theta' is not defined"
     ]
    }
   ],
   "metadata": {}
  },
  {
   "cell_type": "markdown",
   "source": [
    "**Answer Here**\n",
    "The solution here seems very reasonable as it sits at the valley of the surface."
   ],
   "metadata": {}
  },
  {
   "cell_type": "markdown",
   "source": [
    "#### D) Risk Projection\n",
    "\n",
    "We now have a model of rainfall in NYC! Suppose that any day where it rains over 100mm is a rain event for which the city's flood resources become stressed. Simulate 100,000 days of rainfall with your model - how many times do you see over 100mm of rain? How worried should city officials be? "
   ],
   "metadata": {}
  },
  {
   "cell_type": "code",
   "execution_count": 25,
   "source": [
    "from scipy.stats import gamma"
   ],
   "outputs": [],
   "metadata": {}
  },
  {
   "cell_type": "code",
   "execution_count": 26,
   "source": [
    "fit_gamma =gamma(k_theta[0], scale = k_theta[1])"
   ],
   "outputs": [],
   "metadata": {}
  },
  {
   "cell_type": "code",
   "execution_count": 27,
   "source": [
    "r = fit_gamma.rvs(size=100000)"
   ],
   "outputs": [],
   "metadata": {}
  },
  {
   "cell_type": "code",
   "execution_count": 28,
   "source": [
    "over_100 = len(np.where(r > 100)[0])\n",
    "percent_over100 = over_100/100000"
   ],
   "outputs": [],
   "metadata": {}
  },
  {
   "cell_type": "code",
   "execution_count": 29,
   "source": [
    "percent_over100, over_100"
   ],
   "outputs": [
    {
     "output_type": "execute_result",
     "data": {
      "text/plain": [
       "(0.0338, 3380)"
      ]
     },
     "metadata": {},
     "execution_count": 29
    }
   ],
   "metadata": {}
  },
  {
   "cell_type": "code",
   "execution_count": 30,
   "source": [
    "plt.hist(r, bins=50)\n",
    "plt.show()"
   ],
   "outputs": [
    {
     "output_type": "display_data",
     "data": {
      "text/plain": [
       "<Figure size 432x288 with 1 Axes>"
      ],
      "image/png": "[encoded data removed]"
     },
     "metadata": {
      "needs_background": "light"
     }
    }
   ],
   "metadata": {}
  },
  {
   "cell_type": "code",
   "execution_count": 31,
   "source": [
    "plt.hist(rain, bins=50)\n",
    "plt.show()"
   ],
   "outputs": [
    {
     "output_type": "display_data",
     "data": {
      "text/plain": [
       "<Figure size 432x288 with 1 Axes>"
      ],
      "image/png": "[encoded data removed]"
     },
     "metadata": {
      "needs_background": "light"
     }
    }
   ],
   "metadata": {}
  },
  {
   "cell_type": "markdown",
   "source": [
    "**Answer Here**\n",
    "Over 100mm of rainfall occurs on 3377 days, which comprises around 3% of all days. They shouldn't be that worried, but then again I don't know what the quality of the flood resources are like."
   ],
   "metadata": {}
  },
  {
   "cell_type": "markdown",
   "source": [
    "## Question 5: Consistency of Regression Models\n",
    "\n",
    "Suppose we have a collection of data $\\mathcal{D} = \\left\\{(x_i, y_i) \\right\\}_{i=1}^{n}$ and we want to learn the regression model\n",
    "$$\n",
    "y = ax + \\epsilon\n",
    "$$\n",
    "with $\\epsilon \\sim N(0, \\sigma^2)$."
   ],
   "metadata": {}
  },
  {
   "cell_type": "markdown",
   "source": [
    "### a) The Log Likelihood\n",
    "\n",
    "Derive the log likelihood for the whole dataset, $\\log p(\\mathbf{y} | \\mathbf{x}, a , \\sigma^2)$"
   ],
   "metadata": {}
  },
  {
   "cell_type": "markdown",
   "source": [
    "**Answer Here**\n",
    "$$-\\log{\\ell(a, \\sigma^2|\\mathbf{y},\\mathbf{x})} = n\\log{(\\sigma)} + \\frac{n}{2}\\log(2\\pi) + \\frac{1}{2\\sigma^2}\\sum_{i=1}^{n}(y_i - ax_i)^2$$"
   ],
   "metadata": {}
  },
  {
   "cell_type": "markdown",
   "source": [
    "### b) The MLE for $a$\n",
    "\n",
    "Now find the MLE for $a$."
   ],
   "metadata": {}
  },
  {
   "cell_type": "markdown",
   "source": [
    "**Answer Here**\n",
    "$$-\\frac{\\partial{\\log{\\ell(a, \\sigma^2|\\mathbf{y},\\mathbf{x})}}}{\\partial{a}} = \\frac{1}{\\sigma^2}\\sum_{i=1}^{n}y_ix_i-ax_ix_i$$\n",
    "$$\\frac{1}{\\sigma^2}\\sum_{i=1}^{n}y_ix_i - a\\sum_{i=1}^{n}x_ix_i = 0$$\n",
    "$$\\frac{a}{\\sigma^2}\\sum_{i=1}^{n}x_ix_i = \\frac{1}{\\sigma^2}\\sum_{i=1}^{n}y_ix_i$$\n",
    "$$\\hat a = \\frac{\\sum_{i=1}^{n}y_ix_i}{\\sum_{i=1}^{n}x_ix_i}$$"
   ],
   "metadata": {}
  },
  {
   "cell_type": "markdown",
   "source": [
    "### c) A new MLE\n",
    "\n",
    "Suppose we instead consider the model\n",
    "$$\n",
    "x = by + \\epsilon\n",
    "$$\n",
    "\n",
    "Is the maximum likelihood solution $b=1/a$? Explain why.\n",
    "\n",
    "\n",
    "TODO"
   ],
   "metadata": {}
  },
  {
   "cell_type": "markdown",
   "source": [
    "$$-\\frac{\\partial{\\log{\\ell(b, \\sigma^2|\\mathbf{y},\\mathbf{x})}}}{\\partial{b}}=\\frac{1}{\\sigma^2}\\sum_{i=1}^{n}(x_iy_i - by_iy_i)$$\n",
    "$$\\frac{1}{\\sigma^2}\\sum_{i=1}^{n}x_iy_i - \\frac{1}{\\sigma^2}\\sum_{i=1}^{n}by_iy_i=0$$\n",
    "$$\\sum_{i=1}^{n}x_iy_i = \\sum_{i=1}^{n}by_iy_i$$\n",
    "$$b = \\frac{\\sum_{i=1}^{n}x_iy_i}{\\sum_{i=1}^{n}y_iy_i}$$"
   ],
   "metadata": {}
  },
  {
   "cell_type": "markdown",
   "source": [
    "**Answer Here**\n",
    "They are in fact not equal to each other. This makes sense if we take the perspective "
   ],
   "metadata": {}
  },
  {
   "cell_type": "markdown",
   "source": [
    "## Question 6: Regularizing Regression\n",
    "\n",
    "In this question we'll explore finding a regularization parameter $\\lambda$ for a simple regression problem. First Load in the `regression_data.npz` file and extract the training and testing data."
   ],
   "metadata": {}
  },
  {
   "cell_type": "markdown",
   "source": [
    "### a) A simple linear model\n",
    "\n",
    "Fit a linear regression to the training data of the form\n",
    "$$\n",
    "y = \\sum_{i=0}^{10}\\beta_i x^{i} + \\epsilon\n",
    "$$\n",
    "with $\\epsilon \\sim N(0, \\sigma^2)$.\n",
    "\n",
    "Generate predictions on for the test inputs. Plot the model fit - how is it?"
   ],
   "metadata": {}
  },
  {
   "cell_type": "markdown",
   "source": [
    "**Answer Here**`"
   ],
   "metadata": {}
  },
  {
   "cell_type": "code",
   "execution_count": 6,
   "source": [
    "data = np.load(\"regression_data.npz\")"
   ],
   "outputs": [],
   "metadata": {}
  },
  {
   "cell_type": "code",
   "execution_count": 16,
   "source": [
    "x_train, y_train, x_test, y_test = data['x_train'], data['y_train'], data['x_test'], data['y_test']"
   ],
   "outputs": [],
   "metadata": {}
  },
  {
   "cell_type": "code",
   "execution_count": 18,
   "source": [
    "plt.plot(x_train, y_train, 'bo')\n",
    "plt.show()"
   ],
   "outputs": [
    {
     "output_type": "display_data",
     "data": {
      "text/plain": [
       "<Figure size 432x288 with 1 Axes>"
      ],
      "image/png": "[encoded data removed]"
     },
     "metadata": {
      "needs_background": "light"
     }
    }
   ],
   "metadata": {}
  },
  {
   "cell_type": "code",
   "execution_count": 5,
   "source": [
    "from sklearn.linear_model import LinearRegression\n",
    "from sklearn.preprocessing import PolynomialFeatures"
   ],
   "outputs": [],
   "metadata": {}
  },
  {
   "cell_type": "code",
   "execution_count": 35,
   "source": [
    "x_train = x_train.reshape(1,-1).T\n",
    "x_test = x_test.reshape(1,-1).T"
   ],
   "outputs": [],
   "metadata": {}
  },
  {
   "cell_type": "code",
   "execution_count": 103,
   "source": [
    "y_train"
   ],
   "outputs": [
    {
     "output_type": "execute_result",
     "data": {
      "text/plain": [
       "array([1152.24076616,   41.1108484 ,  103.32421578,  140.44798617,\n",
       "        137.26943969,   42.6576638 , 1257.47046278,   51.50954508])"
      ]
     },
     "metadata": {},
     "execution_count": 103
    }
   ],
   "metadata": {}
  },
  {
   "cell_type": "code",
   "execution_count": 60,
   "source": [
    "transform = PolynomialFeatures(10)\n",
    "x_train_poly = transform.fit_transform(x_train)\n",
    "x_test_poly = transform.fit_transform(x_test)"
   ],
   "outputs": [],
   "metadata": {}
  },
  {
   "cell_type": "code",
   "execution_count": 100,
   "source": [
    "model = LinearRegression()\n",
    "model.fit(x_train_poly, y_train)\n",
    "y_hat = model.predict(x_test_poly)"
   ],
   "outputs": [],
   "metadata": {}
  },
  {
   "cell_type": "code",
   "execution_count": 112,
   "source": [
    "plt.plot(x_test_poly[:,1], y_hat, 'bo', label='predictions')\n",
    "plt.plot(x_test, y_test, 'ro', label= 'true values')\n",
    "plt.legend()\n",
    "plt.show()"
   ],
   "outputs": [
    {
     "output_type": "display_data",
     "data": {
      "text/plain": [
       "<Figure size 432x288 with 1 Axes>"
      ],
      "image/png": "[encoded data removed]"
     },
     "metadata": {
      "needs_background": "light"
     }
    }
   ],
   "metadata": {}
  },
  {
   "cell_type": "markdown",
   "source": [
    "This model fits pretty horribly. It seems to be almost the reflection over the x axis of what we are looking for, which is honestly really weird considering there is not a single negative value in the y data set. "
   ],
   "metadata": {}
  },
  {
   "cell_type": "markdown",
   "source": [
    "**Answer Here**### b) Cross-Validation\n",
    "\n",
    "Using leave one out cross validation find an optimal regularization parameter to use for a ridge regression by applying grid search for 10000 values of $\\alpha \\in [1, 500]$. \n",
    "\n",
    "What do you notice when you go to run your code?"
   ],
   "metadata": {}
  },
  {
   "cell_type": "markdown",
   "source": [
    "**Answer Here**"
   ],
   "metadata": {}
  },
  {
   "cell_type": "code",
   "execution_count": 6,
   "source": [
    "from sklearn.linear_model import RidgeCV"
   ],
   "outputs": [],
   "metadata": {}
  },
  {
   "cell_type": "code",
   "execution_count": 47,
   "source": [
    "alphas = np.linspace(1, 500, 10000)"
   ],
   "outputs": [],
   "metadata": {}
  },
  {
   "cell_type": "code",
   "execution_count": 99,
   "source": [
    "ridge_model = RidgeCV(alphas)\n",
    "ridge_model.fit(x_train_poly, y_train)"
   ],
   "outputs": [
    {
     "output_type": "execute_result",
     "data": {
      "text/plain": [
       "RidgeCV(alphas=array([  1.        ,   1.04990499,   1.09980998, ..., 499.90019002,\n",
       "       499.95009501, 500.        ]))"
      ]
     },
     "metadata": {},
     "execution_count": 99
    }
   ],
   "metadata": {}
  },
  {
   "cell_type": "code",
   "execution_count": 1,
   "source": [
    "ridge_model.alpha_"
   ],
   "outputs": [
    {
     "output_type": "error",
     "ename": "NameError",
     "evalue": "name 'ridge_model' is not defined",
     "traceback": [
      "\u001b[0;31m---------------------------------------------------------------------------\u001b[0m",
      "\u001b[0;31mNameError\u001b[0m                                 Traceback (most recent call last)",
      "\u001b[0;32m<ipython-input-1-500f864a4f19>\u001b[0m in \u001b[0;36m<module>\u001b[0;34m\u001b[0m\n\u001b[0;32m----> 1\u001b[0;31m \u001b[0mridge_model\u001b[0m\u001b[0;34m.\u001b[0m\u001b[0malpha_\u001b[0m\u001b[0;34m\u001b[0m\u001b[0;34m\u001b[0m\u001b[0m\n\u001b[0m",
      "\u001b[0;31mNameError\u001b[0m: name 'ridge_model' is not defined"
     ]
    }
   ],
   "metadata": {}
  },
  {
   "cell_type": "markdown",
   "source": [
    "\n",
    "The model takes a sec to fit when it is run compared to the standard Linear Regression. "
   ],
   "metadata": {}
  },
  {
   "cell_type": "markdown",
   "source": [
    "### c) Now Use Your Cross-Validated Regularization Parameter to Generate Predictions. How Are they? "
   ],
   "metadata": {}
  },
  {
   "cell_type": "code",
   "execution_count": 104,
   "source": [
    "y_ridge_hat = ridge_model.predict(x_test_poly)"
   ],
   "outputs": [],
   "metadata": {}
  },
  {
   "cell_type": "code",
   "execution_count": 109,
   "source": [
    "plt.plot(x_test, y_ridge_hat,'bo', label='predictions')\n",
    "plt.plot(x_test, y_test, 'ro', label='true values')\n",
    "plt.legend()\n",
    "plt.show()"
   ],
   "outputs": [
    {
     "output_type": "display_data",
     "data": {
      "text/plain": [
       "<Figure size 432x288 with 1 Axes>"
      ],
      "image/png": "[encoded data removed]"
     },
     "metadata": {
      "needs_background": "light"
     }
    }
   ],
   "metadata": {}
  },
  {
   "cell_type": "markdown",
   "source": [
    "**Answer Here**\n",
    "The predictions here are pretty impressive, at least compared to the poor performance of the previous model. "
   ],
   "metadata": {}
  },
  {
   "cell_type": "markdown",
   "source": [
    "## Question 7:  Linear Regression with a Prior"
   ],
   "metadata": {}
  },
  {
   "cell_type": "markdown",
   "source": [
    "### a) Posterior distribution\n",
    "Consider the linear model\n",
    "\n",
    "$$\n",
    "y_i = {\\bf w}^T {\\bf x}_i + \\epsilon_i\n",
    "$$\n",
    "\n",
    "where the noise $\\epsilon_i \\sim N(0, \\sigma^2)$ are i.i.d.  Our goal is to infer the weight vector ${\\bf w} \\in \\mathbb{R}^p$ given $n$ training data points $\\{({\\bf x}_i, y_i)\\}_{i=1}^n$.  Assume the prior distribution over ${\\bf w}$ is a multivariate Gaussian distribution $N({\\bf v}, {\\boldsymbol \\Gamma})$ where ${\\bf v} \\in \\mathbb{R}^p$ and ${\\boldsymbol \\Gamma}\\in \\mathbb{R}^{p\\times p}$.  Denote the training data matrix ${\\bf X} = [{\\bf x}_1, \\ldots, {\\bf x}_n]^T \\in \\mathbb{R}^{p\\times n}$ and the vector of training labels ${\\bf y} = [y_1,\\ldots,y_n]^T \\in \\mathbb{R}^n$.\n",
    "\n",
    "\n",
    "\n",
    "Derive the posterior distribution $p({\\bf w} | {\\bf X}, {\\bf y})$ (up to a normalizing constant that doesn't depend on ${\\bf w}$) for the parameters ${\\bf w}$ given the $n$ training points."
   ],
   "metadata": {}
  },
  {
   "cell_type": "markdown",
   "source": [
    "**Answer Here**\n",
    "$$P(\\mathbf{w}|\\mathbf{X, y}) = P(\\mathbf{y}|\\mathbf{X,w})P(\\mathbf{w})$$\n",
    "Here the X's are given so the equation $P(\\mathbf{y}|\\mathbf{X,w})$ really could be written $P(\\mathbf{y(X)}|\\mathbf{w})$\n",
    "$$P(\\mathbf{w}|\\mathbf{X,y}) \\propto \\exp(-\\frac{1}{2}(\\mathbf{w - v})^T)(\\gamma \\mathbf{I})^{-1}(\\mathbf{w - v}) - \\frac{1}{2}(\\mathbf{y} - \\mathbf{w^TX})(\\sigma^2 \\mathbf{I})^{-1}(\\mathbf{y}-\\mathbf{w^TX}))$$"
   ],
   "metadata": {}
  },
  {
   "cell_type": "markdown",
   "source": [
    "### b) MAP estimation vs. loss minimization\n",
    "\n",
    "Recall that for linear regression we are minimizing a loss function\n",
    "\n",
    "$$\n",
    "L({\\bf w}) = \\sum_{i=1}^n ({\\bf w}^T {\\bf x}_i - y_i)^2\n",
    "$$\n",
    "\n",
    "and that this corresponds to maximizing the log-likelihood $\\log p({\\bf y}|{\\bf X},{\\bf w})$.  Answer the following two questions:\n",
    "\n",
    "1.  Show that minimizing the regularized loss function\n",
    "\n",
    "$$\n",
    "L_{\\lambda}({\\bf w}) = \\lambda \\|{\\bf w} - {\\bf v}\\|^2 + \\sum_{i=1}^n ({\\bf w}^T {\\bf x}_i - y_i)^2\n",
    "$$\n",
    "\n",
    "corresponds to finding the maximizer of the posterior distribution (maxiumum a posteriori or MAP estimator)\n",
    "\n",
    "$$\n",
    "{\\bf w}^* = \\underset{{\\bf w} \\in \\mathbb{R}^p}{\\mathrm{argmax}}\\ p({\\bf w} | {\\bf X} , {\\bf y})\n",
    "$$\n",
    "\n",
    "when the prior distribution for ${\\bf w}$ is a Gaussian $N({\\bf v}, {\\gamma^2} {\\bf I})$, where ${\\bf I} \\in \\mathbb{R}^{p\\times p}$ is the identity matrix and $\\gamma > 0$.  \n",
    "\n",
    "2.  What is the relation between $\\lambda$, $\\sigma^2$, and $\\gamma^2$?  In particular, what does mean for the loss function if the prior distribution is very concentrated around the mean ${\\bf v}$ (i.e. $\\gamma$ is close to 0)?"
   ],
   "metadata": {}
  },
  {
   "cell_type": "markdown",
   "source": [
    "**Answer Here**\n",
    "\n"
   ],
   "metadata": {}
  },
  {
   "cell_type": "markdown",
   "source": [
    "1. \n",
    "Minimizing the loss function \n",
    "$$L_\\lambda(\\mathbf{w}) = \\lambda(\\mathbf{w}- \\mathbf{v})^T(\\mathbf{w}- \\mathbf{v}) + (\\mathbf{y}-\\mathbf{X^Tw})^T(\\mathbf{y}-\\mathbf{X^Tw})$$\n",
    "$$\\frac{\\partial{L_\\lambda(\\mathbf{w})}}{\\partial{\\mathbf{w}}} = 2\\lambda(\\mathbf{w}- \\mathbf{v}) - 2\\mathbf{X}(\\mathbf{y}-\\mathbf{X^Tw})$$\n",
    "$$2\\lambda(\\mathbf{w}- \\mathbf{v}) - 2\\mathbf{X}(\\mathbf{y}-\\mathbf{X^Tw})= 0$$\n",
    "$$\\lambda(\\mathbf{w}- \\mathbf{v}) = \\mathbf{X}(\\mathbf{y}-\\mathbf{X^Tw})$$\n",
    "$$\\lambda\\mathbf{w}- \\lambda\\mathbf{v} = \\mathbf{X}\\mathbf{y}-\\mathbf{X}\\mathbf{X^Tw}$$\n",
    "$$(\\lambda\\mathbf{I} + \\mathbf{X}\\mathbf{X^T})\\mathbf{w} = \\mathbf{X}\\mathbf{y} + \\lambda\\mathbf{v}$$\n",
    "$$ \\mathbf{\\hat{w}}= (\\lambda\\mathbf{I} + \\mathbf{X}\\mathbf{X^T})^{-1}(\\mathbf{X}\\mathbf{y} + \\lambda\\mathbf{v}) $$\n",
    "\n",
    "Maximizing the posterior. Here it is convenient to work with the log of the posterior.\n",
    "$$\\log P(\\mathbf{w} | \\mathbf{X, y}) \\propto -\\frac{1}{2}(\\mathbf{w - v})^T)(\\gamma^2 \\mathbf{I})^{-1}(\\mathbf{w - v}) - \\frac{1}{2}(\\mathbf{y} - \\mathbf{X^Tw})(\\sigma^2 \\mathbf{I})^{-1}(\\mathbf{y}-\\mathbf{X^Tw})$$\n",
    "\n",
    "$$\\frac{\\partial{\\log P(\\mathbf{w} | \\mathbf{X, y})}}{\\partial{\\mathbf{w}}} \\propto - (\\gamma^2 \\mathbf{I})^{-1}(\\mathbf{w - v}) + \\mathbf{X}(\\sigma^2 \\mathbf{I})^{-1}(\\mathbf{y}-\\mathbf{X^Tw}))$$\n",
    "$$- (\\gamma^2 \\mathbf{I})^{-1}(\\mathbf{w - v}) + \\mathbf{X}(\\sigma^2 \\mathbf{I})^{-1}(\\mathbf{y}-\\mathbf{X^Tw})) = 0$$\n",
    "$$- (\\gamma^2 \\mathbf{I})^{-1}\\mathbf{w} + (\\gamma^2 \\mathbf{I})^{-1}\\mathbf{v} + \\mathbf{X}(\\sigma^2 \\mathbf{I})^{-1}\\mathbf{y}-\\mathbf{X}(\\sigma^2 \\mathbf{I})^{-1}\\mathbf{X^Tw})=0$$\n",
    "$$ (\\gamma^2 \\mathbf{I})^{-1}\\mathbf{w} + \\mathbf{X}(\\sigma^2 \\mathbf{I})^{-1}\\mathbf{X^Tw} = (\\gamma^2 \\mathbf{I})^{-1}\\mathbf{v}+\\mathbf{X}(\\sigma^2 \\mathbf{I})^{-1}\\mathbf{y}$$\n",
    "$$((\\gamma^2 \\mathbf{I})^{-1} + \\mathbf{X}(\\sigma^2 \\mathbf{I})^{-1}\\mathbf{X^T})\\mathbf{w} = (\\gamma^2 \\mathbf{I})^{-1}\\mathbf{v}+\\mathbf{X}(\\sigma^2 \\mathbf{I})^{-1}\\mathbf{y}$$\n",
    "$$\\mathbf{\\hat{w}_{MAP}} = ((\\gamma^2 \\mathbf{I})^{-1} + \\mathbf{X}(\\sigma^2 \\mathbf{I})^{-1}\\mathbf{X^T})^{-1}((\\gamma^2 \\mathbf{I})^{-1}\\mathbf{v}+\\mathbf{X}(\\sigma^2 \\mathbf{I})^{-1}\\mathbf{y})$$\n",
    "\n",
    "From this we can see that the minimization of the Loss function is equivalent to the maximization of the posterior for regularization parameter  $\\lambda = \\frac{1}{\\gamma^2}$ and the error being standard normal. When the prior is very concentrated around its mean the loss function approaches unregualarized regression\n",
    "\n",
    "\n",
    "TODO: Better Answer "
   ],
   "metadata": {}
  },
  {
   "cell_type": "markdown",
   "source": [
    "### c) Deriving the MAP estimator\n",
    "\n",
    "Derive the minimizer of the regularized loss function ${\\bf w}^* = \\underset{{\\bf w} \\in \\mathbb{R}^p}{\\mathrm{argmin}}\\ L_{\\lambda}({\\bf w})$ by setting the gradient to be zero and solving.  Hint: your solution should be of the form ${\\bf w} = {\\bf A}^{-1}{\\bf b}$ for some matrix ${\\bf A}$ and some vector ${\\bf b}$."
   ],
   "metadata": {}
  },
  {
   "cell_type": "markdown",
   "source": [
    "**Answer Here**\n",
    "$$\\log P(\\mathbf{w} | \\mathbf{X, y}) \\propto -\\frac{1}{2}(\\mathbf{w - v})^T)(\\gamma \\mathbf{I})^{-1}(\\mathbf{w - v}) - \\frac{1}{2}(\\mathbf{y} - \\mathbf{X^Tw})(\\sigma^2 \\mathbf{I})^{-1}(\\mathbf{y}-\\mathbf{X^Tw})$$\n",
    "\n",
    "$$\\frac{\\partial{\\log P(\\mathbf{w} | \\mathbf{X, y})}}{\\partial{\\mathbf{w}}} \\propto - (\\gamma \\mathbf{I})^{-1}(\\mathbf{w - v}) + \\mathbf{X}(\\sigma^2 \\mathbf{I})^{-1}(\\mathbf{y}-\\mathbf{X^Tw}))$$\n",
    "$$- (\\gamma \\mathbf{I})^{-1}(\\mathbf{w - v}) + \\mathbf{X}(\\sigma^2 \\mathbf{I})^{-1}(\\mathbf{y}-\\mathbf{X^Tw})) = 0$$\n",
    "$$- (\\gamma \\mathbf{I})^{-1}\\mathbf{w} + (\\gamma \\mathbf{I})^{-1}\\mathbf{v}) + \\mathbf{X}(\\sigma^2 \\mathbf{I})^{-1}\\mathbf{y}-\\mathbf{X}(\\sigma^2 \\mathbf{I})^{-1}\\mathbf{X^Tw})=0$$\n",
    "$$ (\\gamma \\mathbf{I})^{-1}\\mathbf{w} + \\mathbf{X}(\\sigma^2 \\mathbf{I})^{-1}\\mathbf{X^Tw} = (\\gamma \\mathbf{I})^{-1}\\mathbf{v}+\\mathbf{X}(\\sigma^2 \\mathbf{I})^{-1}\\mathbf{y}$$\n",
    "$$((\\gamma \\mathbf{I})^{-1} + \\mathbf{X}(\\sigma^2 \\mathbf{I})^{-1}\\mathbf{X^T})\\mathbf{w} = (\\gamma \\mathbf{I})^{-1}\\mathbf{v}+\\mathbf{X}(\\sigma^2 \\mathbf{I})^{-1}\\mathbf{y}$$\n",
    "$$\\mathbf{w_{MAP}} = ((\\gamma \\mathbf{I})^{-1} + \\mathbf{X}(\\sigma^2 \\mathbf{I})^{-1}\\mathbf{X^T})^{-1}((\\gamma \\mathbf{I})^{-1}\\mathbf{v}+\\mathbf{X}(\\sigma^2 \\mathbf{I})^{-1}\\mathbf{y})$$"
   ],
   "metadata": {}
  },
  {
   "cell_type": "markdown",
   "source": [
    "### d) Polynomial interpolation\n",
    "\n",
    "Now you'll implement Bayesian linear regression to fit a high degree polynomial to some noisy data.  Assume that $t_1,\\ldots,t_{n}$ are points in the interval $[0,1]$ with $t_i \\neq t_j$ for $i \\neq j$.  \n",
    "\n",
    "We wish to approximate some underlying function $f$ with prescibed values $f_i = f(t_i)$ by using polynomial interpolation.  It's a standard fact that we can perfectly interpolate the points using a polynomial of degree $n-1$ or more.  However, if there is noise in our data this will give very poor results.  In particular, we assume that we instead observe\n",
    "$$\n",
    "y_i = f_i + \\epsilon_i\n",
    "$$\n",
    "where the noise $\\epsilon_i$ are i.i.d $N(0,\\sigma^2)$ random variables.  \n",
    "\n",
    "We can use a Bayesian approach to help fix this.  Here the parameter ${\\bf w} \\in \\mathbb{R}^{p}$ will denote the coefficients of the polynomial.\n",
    "\n",
    "$$\n",
    "w_0 + w_1 t + \\cdots + w_{p-1}t^{p-1} = {\\bf w}^T \\begin{bmatrix} 1\\\\ t\\\\ \\vdots \\\\ t^{p-1} \\end{bmatrix}\n",
    "$$\n",
    "\n",
    "with ${\\bf w} = [w_0,w_1,\\ldots,w_{p-1}]^T$ (note the change in indexing).  Let the prior distribution for ${\\bf w}$ be a multivariate Gaussian of the form $N({\\bf v}, \\gamma^2 {\\bf I})$.\n",
    "\n",
    "Do the following:\n",
    "\n",
    "1. Implement `fit()` below which computes the MAP estimator ${\\bf w}^*$ using the analytic solution you derived earlier.  Instead of computing a matrix inverse use the Numpy function `np.lingalg.solve()`, which is more numerically stable.  In other words you are solving the system ${\\bf A}{\\bf w}^* = {\\bf b}$.  You may also find the following functions useful: `np.outer()`, `np.power()`.\n",
    "\n",
    "2. Implement `evaluate()` which evaluates the polynomial at a new sequence of points.\n",
    "\n",
    "\n",
    "Note: For the special case of polynomial interpolation, the design matrix ${\\bf X}$ is also called a Vandermonde matrix where the entries are $(t_i)^j$ for $i=1,\\ldots,n$ and $j=0,\\ldots,p-1$."
   ],
   "metadata": {}
  },
  {
   "cell_type": "code",
   "execution_count": 36,
   "source": [
    "def fit(t, y, v, gamma, sigma):\n",
    "    \"\"\"\n",
    "    Fit a polynomial of degree p-1 to the noisy data y observed at points t.\n",
    "    \n",
    "    Input:\n",
    "        t: np.ndarray(n,), vector of points t_i in [0,1] with no two points equal\n",
    "        y: np.ndarray(n,), vector of corresponding observations y_i = f(t_i) + epsilon_i\n",
    "        v: np.ndarray(p,), mean of the prior distribution for the parameters w\n",
    "        gamma: float, positive value which determines the covariance of the prior (this is not gamma^2)\n",
    "        sigma: float, positive value which determines the standard deviation of the noise (this is not sigma^2)\n",
    "        \n",
    "    Return:\n",
    "        w: np.ndarray(p,), vector of fitted polynomial coefficients\n",
    "    \"\"\"\n",
    "    ## TO DO STARTS HERE ##\n",
    "    poly = PolynomialFeatures(len(v)-1)\n",
    "    X = poly.fit_transform(t.reshape(-1, 1)).T\n",
    "    A = (1/gamma**2)*np.identity(X.shape[0]) + (1/sigma**2)*(X@X.T)\n",
    "    b = (1/gamma**2)*v + (1/sigma**2)*(X@y)\n",
    "    \n",
    "    \n",
    "    w = np.linalg.solve(A, b)\n",
    "    \n",
    "    ## TO DO ENDS HERE ##\n",
    "    return w\n",
    "\n",
    "\n",
    "def evaluate(t, w):\n",
    "    \"\"\"\n",
    "    Evaluate the polynomial with coefficients w at the points in t.\n",
    "    w[0] + w[1]*t + ... + w[p-1]*t^{p-2} + w[p-1]*t^{p-1}\n",
    "\n",
    "    Input:\n",
    "        t: np.ndarray(m,), for m >= 1, the points to evaluate the polynomial at\n",
    "        w: np.ndarray(p,), the coefficients of the polynomial\n",
    "\n",
    "    Return:\n",
    "        fvals: np.ndarray(m,), the evaluation of the polynomial at the points t\n",
    "    \"\"\"\n",
    "    p = w.shape[0]\n",
    "    fvals = np.zeros(t.shape)\n",
    "    ## TO DO STARTS HERE ##\n",
    "    poly = PolynomialFeatures(len(v)-1)\n",
    "    X = poly.fit_transform(t.reshape(-1, 1)).T\n",
    "    \n",
    "    fvals = w @ X\n",
    "\n",
    "    ## TO DO ENDS HERE ##\n",
    "    return fvals"
   ],
   "outputs": [],
   "metadata": {}
  },
  {
   "cell_type": "markdown",
   "source": [
    "### Fitting the polynomial (nothing to do here)\n",
    "\n",
    "Assume that we have noisy observations $y_i$ from true function $f(t) = t$.  Any polynomial of degree 10 can be fit perfectly to this function without noise.  The two plots below show the regularized (right) and un-regarlized (left) fitted polynomials.  If your implementation is correct then the regularized fit should be a good approximation."
   ],
   "metadata": {}
  },
  {
   "cell_type": "code",
   "execution_count": 38,
   "source": [
    "# Generate noisy observations and fit the polynomial.\n",
    "n = 50\n",
    "t = np.random.rand(n)\n",
    "sigma = 0.5\n",
    "y = t + sigma**2 * np.random.randn(n)\n",
    "\n",
    "# Set up the prior mean and variance.\n",
    "p = 10\n",
    "v = np.zeros(p)\n",
    "v[1] = 1\n",
    "gamma = 0.1\n",
    "\n",
    "# Compute regularized solution.\n",
    "w_reg = fit(t, y, v, gamma, sigma)\n",
    "\n",
    "# Compute un-regularized solution with gamma = infinity\n",
    "w_unreg = fit(t, y, v, np.inf, sigma)\n",
    "\n",
    "# Plot the results side by side.\n",
    "tt = np.linspace(0,1,1000)\n",
    "\n",
    "fig, ax = plt.subplots(1,2)\n",
    "ax[0].plot(tt, evaluate(tt, w_unreg), lw = 4, label = 'Approximation')\n",
    "ax[0].plot(tt, tt, 'k--', alpha = 0.7, lw = 4, label = 'Truth')\n",
    "ax[0].scatter(t, y, color = 'r', label = 'Data')\n",
    "ax[0].set_title('Un-regularized')\n",
    "ax[0].legend()\n",
    "ax[0].grid()\n",
    "\n",
    "ax[1].plot(tt, evaluate(tt, w_reg), lw = 4, label = 'Approximation')\n",
    "ax[1].plot(tt, tt, 'k--', alpha = 0.7, lw = 4, label = 'Truth')\n",
    "ax[1].scatter(t, y, color = 'r', label = 'Data')\n",
    "ax[1].set_title('Regularized')\n",
    "ax[1].legend()\n",
    "ax[1].grid()\n",
    "\n",
    "plt.tight_layout()\n",
    "plt.show()\n",
    "w_reg, w_unreg"
   ],
   "outputs": [
    {
     "output_type": "display_data",
     "data": {
      "text/plain": [
       "<Figure size 432x288 with 2 Axes>"
      ],
      "image/png": "[encoded data removed]"
     },
     "metadata": {
      "needs_background": "light"
     }
    },
    {
     "output_type": "execute_result",
     "data": {
      "text/plain": [
       "(array([-1.51564533e-04,  9.95198777e-01, -5.28431307e-03, -5.96105732e-03,\n",
       "        -6.53791499e-03, -6.92078011e-03, -7.15396929e-03, -7.28947927e-03,\n",
       "        -7.36058443e-03, -7.38532835e-03]),\n",
       " array([-2.20796932e-01,  1.31890136e+01, -2.04501916e+02,  1.83566303e+03,\n",
       "        -1.00240784e+04,  3.30239549e+04, -6.45866410e+04,  7.28491613e+04,\n",
       "        -4.36338537e+04,  1.07290109e+04]))"
      ]
     },
     "metadata": {},
     "execution_count": 38
    }
   ],
   "metadata": {}
  },
  {
   "cell_type": "code",
   "execution_count": null,
   "source": [],
   "outputs": [],
   "metadata": {}
  }
 ],
 "metadata": {
  "kernelspec": {
   "name": "python3",
   "display_name": "Python 3.9.6 64-bit ('ml': conda)"
  },
  "language_info": {
   "codemirror_mode": {
    "name": "ipython",
    "version": 3
   },
   "file_extension": ".py",
   "mimetype": "text/x-python",
   "name": "python",
   "nbconvert_exporter": "python",
   "pygments_lexer": "ipython3",
   "version": "3.9.6"
  },
  "interpreter": {
   "hash": "aee1a76af7b3e6cb8972e9f5fe893bf0c29ba206d48d40368c2d5c0061a66d0b"
  }
 },
 "nbformat": 4,
 "nbformat_minor": 4
}