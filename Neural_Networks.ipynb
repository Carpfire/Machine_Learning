{
 "cells": [
  {
   "cell_type": "code",
   "execution_count": 2,
   "metadata": {
    "id": "tCGUKkwUOLxM"
   },
   "outputs": [],
   "source": [
    "import numpy as np\n",
    "import torch\n",
    "from torch import nn\n",
    "import torch.optim as optim\n",
    "import torch.nn.functional as F\n",
    "\n",
    "import matplotlib.pyplot as plt\n",
    "import seaborn as sns\n",
    "import time"
   ]
  },
  {
   "cell_type": "markdown",
   "metadata": {
    "id": "rjBhqvLYOLxQ"
   },
   "source": [
    "# Homework 3: Neural Networks\n",
    "\n",
    "Please read all instructions for this homework carefully. Many of the questions ask for specific things to be in your notebooks and many of your questions may be answered in the step-by-step instructions. You will need include _all_ parts of the questions in your answers to recieve full credit.\n",
    "\n",
    "This homework is going to focus heavily on the practical use of neural networks. You will be required to learn the basics of PyTorch (https://pytorch.org/) to implement and train fully connected and convolutional neural networks.\n",
    "\n",
    "We strongly recommend working through the PyTorch beginner guide [here](https://pytorch.org/tutorials/beginner/deep_learning_60min_blitz.html), which will both give you a good idea of how PyTorch works and provide you with some boilerplate code you can adapt for this assignment. "
   ]
  },
  {
   "cell_type": "markdown",
   "metadata": {
    "id": "I1HsSSJ79d8c"
   },
   "source": [
    "## Question 3: Backpropagation\n",
    "\n",
    "A computational graph is a framework to represent complex mathematical expressions as a directed graph of function compositions, starting from the simplest, to the most complex. For instance, the expression $e = (a+b)\\times(b+1)$ can be represented as a computational graph, as shown in the figure below. Each node represents a variable, where the direction represents the flow of inputs to (intermediate) outputs. All incoming variables are collected to be operated on by a function. \n",
    "\n",
    "$$\n",
    "c = a + b \\\\\n",
    "d = b + 1 \\\\\n",
    "e = c \\times d\n",
    "$$\n",
    "\n",
    "\n",
    "In the graph below, these functions are multiplications and additions, and a sequence of simple operations leads to the relatively complex expression of $e$.\n",
    "\n",
    "![A Computational Graph (http://colah.github.io/posts/2015-08-Backprop/)](http://colah.github.io/posts/2015-08-Backprop/img/tree-def.png)\n",
    "\n",
    "Computational graphs allow for a computational abstraction to compute _exact_ partial derivatives of complex expressions, as a realization of the chain rule from calculus. For instance, computing $\\frac{\\partial e}{\\partial a}$ involves essentially reversing the arrows and transporting intermediate partial derivatives back to $a$. This method is termed _backpropagation_ (short: _backprop_), and is a key ingredient of modern neural network frameworks that implement gradient descent (including PyTorch). The first-three sections of [Calculus on Computational Graphs: Backpropagation](http://colah.github.io/posts/2015-08-Backprop/) should allow reasonable understanding for the next questions."
   ]
  },
  {
   "cell_type": "markdown",
   "metadata": {
    "id": "C_M9dWWhK5nY"
   },
   "source": [
    "### Part A: Computational Graph for Logistic Regression\n",
    "\n",
    "Build the computational graph of logistic regression for a single input/output pair. As in earlier homeworks/labs, use the variables $\\mathbf{w} = \\begin{bmatrix}\\mathbf{w}_0 & \\mathbf{w}_1 & \\cdots & \\mathbf{w}_d\\end{bmatrix}^T \\in \\mathbb{R}^{d+1}$ for the vector of parameters and $\\mathbf{x} = \\begin{bmatrix}1 & x_1 & x_2 & \\cdots & x_d \\end{bmatrix} \\in \\mathbb{R}^{d}$ for the vector input, with $y$ as the corresponding output. Write the computational graph as a sequence of algebraic equations in terms of simple unary/binary functions only (no graphic needed).\n",
    "\n",
    "**Answer Here:** "
   ]
  },
  {
   "cell_type": "markdown",
   "metadata": {
    "id": "MdC5bYlgeJ1y"
   },
   "source": [
    "A simple logistic regression modeled as a computational graph of primitive functions would be \n",
    "\n",
    "$ z = \\mathbf{w}^T\\mathbf{x} $ as the first node and $y = \\sigma(z), y^* = 1-\\sigma(z)$ \n",
    "as the network outputs"
   ]
  },
  {
   "cell_type": "markdown",
   "metadata": {
    "id": "3gV349FCK8Vf"
   },
   "source": [
    "### Part B: Backprop on Logistic Regression\n",
    "\n",
    "For the computational graph built in I., compute the derivatives of the loss in logistic regression with respect to the parameters $\\mathbf{w}$ via backpropagation. Write these as a sequence of equations (no graphic needed), that clearly show _backward_ flow of gradients via the chain rule.\n",
    "\n",
    "**Hint**: Table 3 of [this manuscript](https://arxiv.org/abs/1502.05767) may be a helpful resource.\n",
    "\n",
    "**Answer Here:** \n"
   ]
  },
  {
   "cell_type": "markdown",
   "metadata": {
    "id": "k8L1XDZwoEZZ"
   },
   "source": [
    "Assuming standard Binary Cross Entropy Loss we have \n",
    "\n",
    "$$E(\\mathbf{w}) = \\sum_{i=1}^{N} t_i\\log\\sigma({\\mathbf{w}^T\\mathbf{x}}) + (1-t_i)\\sigma(-\\mathbf{w}^T\\mathbf{x})$$\n",
    "The first thing we need is to compute the derivative of the Error with respect to our predicted output $y$ and $y^*$. \n",
    "$$E(\\mathbf{w}) = \\sum_{i=1}^{N} t_i\\log y_i +(1-t_i)\\log(y^*)$$\n",
    "$$\\frac{\\partial E}{\\partial y} =  \\sum_{i=1}^N \\frac{t_i}{y_i}$$\n",
    "$$\\frac{\\partial E}{\\partial y*} = -\\sum_{i=1}^{N}\\frac{1-t_i}{y*}$$\n",
    "Then we want to evaluate the derivative of y with respect to z.\n",
    "$$\\frac{\\partial y}{\\partial z}=\\sigma(z)( 1-\\sigma(z))$$\n",
    "$$\\frac{\\partial y^*}{\\partial z} = -\\sigma(z)(1-\\sigma(z))$$\n",
    "and finally the derivative of z with respect to w\n",
    "$$\\frac{\\partial{z}}{\\partial \\mathbf{w}} = \\mathbf{x}$$"
   ]
  },
  {
   "cell_type": "markdown",
   "metadata": {
    "id": "lj2Eh2bxK-T-"
   },
   "source": [
    "### Part C: Challenges in _deep_ neural networks\n",
    "\n",
    "Now consider a _deep_ neural network with L layers, such that the function is defined via weight matrices at each layer are defined as $W^{(l)}$ for all $l \\in [1, \\dots, L]$, along with $\\sigma$ (sigmoid) non-linearity which is applied pointwise to the activation $h^{(l)}$ of each layer.\n",
    "\n",
    "$$\n",
    "h^{(l)} = \\begin{cases}\n",
    "\\sigma(W^{(l)}\\mathbf{x}),\\quad\\quad\\text{if}~l = 1 \\\\\n",
    "\\sigma(W^{(l)}h^{(l-1)}),\\quad\\text{if}~l < L \\\\\n",
    "W^{(l)}h^{(l-1)},\\quad\\quad\\text{if}~l = L\n",
    "\\end{cases}\n",
    "$$\n",
    "\n",
    "The definition simply defines the operations at the input layer (which involves $\\mathbf{x}$), hidden layers (which only involve activations at the previous layer $h^{(l-1)}$), and the output layer where no $\\sigma$ (sigmoid) activation is applied. Therefore, the neural network can be recursively defined as $f_\\mathbf{w}(h^{(L)})$. Why can very deep networks (i.e. large $L$) with sigmoid non-linearities be hard to learn via backpropagation?\n",
    "\n",
    "**Hint**: Consider a two hidden layer neural network (i.e. L = 3), and think about how repeated application of chain rule affects the qualitative nature of the gradients as we backpropagate from the output layer to the input layer, as we increase L.\n",
    "\n",
    "**Answer Here:** \n",
    "The sigmoid activation has the property that\n",
    "$$0 \\le \\sigma(x) \\le 1$$\n",
    "Further the derivative of $\\sigma(x)$ wrt $x$ has the form \n",
    "$$\\sigma(x)(1-\\sigma(x))$$\n",
    "This derivative always being less than 1 and greater than or equal to 0 back propagation of an error function over many sigmoidal activation function layers would result the product of many values $\\in [0,1)$. For large L this means that the early layers become harder and harder to train with the gradient becoming smaller in smaller as L grows."
   ]
  },
  {
   "cell_type": "markdown",
   "metadata": {
    "id": "nZ1CXexSOLxR"
   },
   "source": [
    "## Question 2: A Simple Dataset\n",
    "\n",
    "The aim of this question is to implement a first neural network, and start to get an intuition about what sorts of functions neural networks are capable of producing.\n",
    "First, use the provided code to generate 1000 training points and 500 testing points from the _two spirals_ dataset with `noise=1.5`.\n",
    "\n",
    "\n",
    "**Note** We've also included a two functions to help you. You should _not_ alter these functions (nor should you need to).\n",
    "\n",
    "`plotter` takes in your model and the training and testing data and will plot the predictions generated by your neural network.\n",
    "\n",
    "`accuracy` is a simple function that will compute the accuracy of your model on some given `x` and `y` data, i.e. either `train_x` and `train_y`, or `test_x` and `test_y`. "
   ]
  },
  {
   "cell_type": "code",
   "execution_count": 3,
   "metadata": {
    "id": "pCKHtk7yOLxR"
   },
   "outputs": [],
   "source": [
    "def twospirals(n_points, noise=1.5, random_state=42):\n",
    "    \"\"\"\n",
    "     Returns the two spirals dataset.\n",
    "     Note: n_points is points PER CLASS\n",
    "    \"\"\"\n",
    "    n = np.sqrt(np.random.rand(n_points,1)) * 600 * (2*np.pi)/360\n",
    "    d1x = -1.5*np.cos(n)*n + np.random.randn(n_points,1) * noise\n",
    "    d1y =  1.5*np.sin(n)*n + np.random.randn(n_points,1) * noise\n",
    "    return (np.vstack((np.hstack((d1x,d1y)),np.hstack((-d1x,-d1y)))),\n",
    "            np.hstack((np.zeros(n_points),np.ones(n_points))))\n",
    "\n",
    "ntrain = 1000\n",
    "ntest = 500\n",
    "noise = 1.5\n",
    "\n",
    "train_x, train_y = twospirals(int(ntrain/2), noise=noise)\n",
    "train_x, train_y = torch.FloatTensor(train_x), torch.FloatTensor(train_y).unsqueeze(-1)\n",
    "\n",
    "test_x, test_y = twospirals(int(ntest/2), noise=noise)\n",
    "test_x, test_y = torch.FloatTensor(test_x), torch.FloatTensor(test_y).unsqueeze(-1)"
   ]
  },
  {
   "cell_type": "markdown",
   "metadata": {
    "id": "9K45OnsTOLxR"
   },
   "source": [
    "#### Helper Functions"
   ]
  },
  {
   "cell_type": "code",
   "execution_count": 4,
   "metadata": {
    "id": "Pi_u7Tgr6qPu"
   },
   "outputs": [
    {
     "data": {
      "text/plain": [
       "(torch.Size([1000, 2]), torch.Size([1000, 1]))"
      ]
     },
     "execution_count": 4,
     "metadata": {},
     "output_type": "execute_result"
    }
   ],
   "source": [
    "train_x.shape, train_y.shape"
   ]
  },
  {
   "cell_type": "code",
   "execution_count": 5,
   "metadata": {
    "id": "8DBRwX-8OLxR"
   },
   "outputs": [],
   "source": [
    "def plotter(model, train_x, train_y, test_x, test_y):\n",
    "    '''\n",
    "    This is just a simple plotting function, you should NOT need to change anything here\n",
    "    '''\n",
    "    buffer = 1.\n",
    "    h = 0.1\n",
    "    x_min, x_max = train_x[:, 0].min() - buffer, train_x[:, 0].max() + buffer\n",
    "    y_min, y_max = train_x[:, 1].min() - buffer, train_x[:, 1].max() + buffer\n",
    "\n",
    "    xx,yy=np.meshgrid(np.arange(x_min.cpu(), x_max.cpu(), h), \n",
    "                      np.arange(y_min.cpu(), y_max.cpu(), h))\n",
    "    in_grid = torch.FloatTensor([xx.ravel(), yy.ravel()]).t()\n",
    "\n",
    "    pred = torch.sigmoid(model(in_grid)).detach().reshape(xx.shape)\n",
    "    plt.figure(figsize=(15, 10))\n",
    "    cmap = sns.color_palette(\"crest_r\", as_cmap=True)\n",
    "    plt.contourf(xx, yy, pred, alpha=0.5, cmap=cmap)\n",
    "    plt.title(\"Classifier\", fontsize=24)\n",
    "    cbar= plt.colorbar()\n",
    "    cbar.set_label(label=r\"$P(Y = 1)$\", size=18)\n",
    "    cbar.ax.tick_params(labelsize=18)\n",
    "    plt.scatter(train_x[:, 0].cpu(), train_x[:, 1].cpu(), c=train_y[:, 0].cpu(), cmap=plt.cm.binary, alpha=0.5, label=\"Train\")\n",
    "    plt.scatter(test_x[:, 0].cpu(), test_x[:, 1].cpu(), c=test_y[:, 0].cpu(), cmap=plt.cm.binary, marker='+', s=150, label=\"Test\")\n",
    "    plt.legend(fontsize=18)\n",
    "    plt.xticks([])\n",
    "    plt.yticks([])\n",
    "    plt.show()\n",
    "    \n",
    "def accuracy(model, X, Y):\n",
    "    X = X\n",
    "    preds = torch.round(torch.sigmoid((model(X))))\n",
    "    return 100 * len(torch.where(preds == Y)[0])/Y.numel()"
   ]
  },
  {
   "cell_type": "markdown",
   "metadata": {
    "id": "opdwwK2DOLxS"
   },
   "source": [
    "### Part A: Network Definition\n",
    "\n",
    "Write a class that defines a _fully connected_ neural network with ReLU activations. Your class should be a child class of the `torch.nn.Module` class, i.e. the first line of your class definition should be something like:\n",
    "```{python}\n",
    "class NeuralNetwork(nn.Module):\n",
    "```\n",
    "The number of layers and width of each layer is up to you - but keep this implementation flexible, as you'll need to come back and tweak your network in order to achieve the desired accuracy on our dataset.\n",
    "Additionally, this network should be built to work with the two spirals dataset, meaning it should take 2 dimensional inputs and produce a 1 dimensional output. Specifically we are constructing a network $f(x): \\mathbb{R}^2 \\rightarrow \\mathbb{R}$.\n",
    "\n",
    "To ensure that your model is correctly defined, the last cell in your notebook for this section should contain the following lines, with the correct handle for your neural network class:\n",
    "\n",
    "```{python}\n",
    "model = your_network_class(appropriate_arguments)\n",
    "print(model(train_x).shape)\n",
    "```\n",
    "\n",
    "**Answer Here**"
   ]
  },
  {
   "cell_type": "code",
   "execution_count": 6,
   "metadata": {
    "id": "dKE98S3CN3rj"
   },
   "outputs": [],
   "source": [
    "class NeuralNetwork(nn.Module):\n",
    "  def __init__(self, in_size):\n",
    "    super().__init__()\n",
    "    \n",
    "    self.fc = nn.Sequential(nn.Linear(in_size,60, bias=True),\n",
    "                            nn.ReLU(),\n",
    "                            nn.Linear(60,60, bias=True),\n",
    "                            nn.ReLU(),\n",
    "                            nn.Linear(60,60, bias=True),\n",
    "                            nn.ReLU(),\n",
    "                            nn.Linear(60, 1, bias=True))\n",
    "\n",
    "\n",
    "  def forward(self, x):\n",
    "    out = self.fc(x)\n",
    "    return out\n",
    "  ## define forward pass\n",
    "\n",
    "\n",
    "\n"
   ]
  },
  {
   "cell_type": "code",
   "execution_count": 7,
   "metadata": {
    "id": "gN2mIsHX7dqt"
   },
   "outputs": [
    {
     "name": "stdout",
     "output_type": "stream",
     "text": [
      "torch.Size([1000, 1])\n"
     ]
    }
   ],
   "source": [
    "model = NeuralNetwork(in_size=2)\n",
    "print(model(train_x).shape)"
   ]
  },
  {
   "cell_type": "markdown",
   "metadata": {
    "id": "UCmHCDDeOLxT"
   },
   "source": [
    "### Part B: Training\n",
    "\n",
    "Write and execute code to train your neural network. You should train with SGD, using the `torch.nn.BCEWithLogitsLoss` loss function. Tune your network and training routine until you get **at least 90% training accuracy**. You should think about changing: width and depth of your network, the learning rate of your optimizer, the number of training iterations, and including bias terms in your network layers.\n",
    "\n",
    "After your model is trained plot the predicted function using the `plotter` function. Report the _test_ accuracy achieved by your model as well as the architecture of your network - how many layers did you use, how wide was each layer, did you include a bias term, etc.\n",
    "\n",
    "\n",
    "**Note**: with the right network setup you can achieve this training accuracy in less than 5 seconds on a laptop, you can use a large model that takes longer to train if you want, but be advised that you don't _need_ a large model to be successful here. \n",
    "\n",
    "**Answer Here**"
   ]
  },
  {
   "cell_type": "code",
   "execution_count": 8,
   "metadata": {
    "id": "8aDgU3c08WAy"
   },
   "outputs": [
    {
     "name": "stdout",
     "output_type": "stream",
     "text": [
      "[Epoch 50] Loss: 0.601934552192688\n",
      "[Epoch 100] Loss: 0.5969321131706238\n",
      "[Epoch 150] Loss: 0.5933103561401367\n",
      "[Epoch 200] Loss: 0.5895847678184509\n",
      "[Epoch 250] Loss: 0.5851700305938721\n",
      "[Epoch 300] Loss: 0.5798675417900085\n",
      "[Epoch 350] Loss: 0.5783063173294067\n",
      "[Epoch 400] Loss: 0.5726710557937622\n",
      "[Epoch 450] Loss: 0.5631793737411499\n",
      "[Epoch 500] Loss: 0.5556540489196777\n",
      "[Epoch 550] Loss: 0.5428696870803833\n",
      "[Epoch 600] Loss: 0.5274555087089539\n",
      "[Epoch 650] Loss: 0.5037215352058411\n",
      "[Epoch 700] Loss: 0.5000870227813721\n",
      "[Epoch 750] Loss: 0.46148255467414856\n",
      "[Epoch 800] Loss: 0.4629059433937073\n",
      "[Epoch 850] Loss: 0.4824329912662506\n",
      "[Epoch 900] Loss: 0.45729634165763855\n",
      "[Epoch 950] Loss: 0.47025856375694275\n",
      "[Epoch 1000] Loss: 0.440432071685791\n",
      "[Epoch 1050] Loss: 0.41191551089286804\n",
      "[Epoch 1100] Loss: 0.40794670581817627\n",
      "[Epoch 1150] Loss: 0.37742406129837036\n",
      "[Epoch 1200] Loss: 0.4362446367740631\n",
      "[Epoch 1250] Loss: 0.36083734035491943\n",
      "[Epoch 1300] Loss: 0.32203900814056396\n",
      "[Epoch 1350] Loss: 0.30737757682800293\n",
      "[Epoch 1400] Loss: 0.30716845393180847\n",
      "[Epoch 1450] Loss: 0.32785725593566895\n",
      "[Epoch 1500] Loss: 0.3329816162586212\n",
      "[Epoch 1550] Loss: 0.27402979135513306\n",
      "[Epoch 1600] Loss: 0.2752692699432373\n",
      "[Epoch 1650] Loss: 0.29058578610420227\n",
      "[Epoch 1700] Loss: 0.2749735116958618\n",
      "[Epoch 1750] Loss: 0.3178213834762573\n",
      "[Epoch 1800] Loss: 0.28981685638427734\n",
      "[Epoch 1850] Loss: 0.2632036507129669\n",
      "[Epoch 1900] Loss: 0.30293914675712585\n",
      "[Epoch 1950] Loss: 0.2503375709056854\n",
      "[Epoch 2000] Loss: 0.2268626093864441\n",
      "[Epoch 2050] Loss: 0.24020369350910187\n",
      "[Epoch 2100] Loss: 0.22349710762500763\n",
      "[Epoch 2150] Loss: 0.2723792791366577\n",
      "[Epoch 2200] Loss: 0.19492655992507935\n",
      "[Epoch 2250] Loss: 0.1923234462738037\n",
      "[Epoch 2300] Loss: 0.19921745359897614\n",
      "[Epoch 2350] Loss: 0.22301870584487915\n",
      "[Epoch 2400] Loss: 0.20670880377292633\n",
      "[Epoch 2450] Loss: 0.2700027525424957\n",
      "[Epoch 2500] Loss: 0.21451382339000702\n",
      "[Epoch 2550] Loss: 0.19149582087993622\n",
      "[Epoch 2600] Loss: 0.19394047558307648\n",
      "[Epoch 2650] Loss: 0.23609423637390137\n",
      "[Epoch 2700] Loss: 0.2613186240196228\n",
      "[Epoch 2750] Loss: 0.20776793360710144\n",
      "[Epoch 2800] Loss: 0.2236100137233734\n",
      "[Epoch 2850] Loss: 0.21068669855594635\n",
      "[Epoch 2900] Loss: 0.20342965424060822\n",
      "[Epoch 2950] Loss: 0.18625487387180328\n",
      "[Epoch 3000] Loss: 0.17730218172073364\n",
      "CPU times: user 21.7 s, sys: 231 ms, total: 21.9 s\n",
      "Wall time: 2.75 s\n"
     ]
    }
   ],
   "source": [
    "%%time\n",
    "net = NeuralNetwork(in_size=train_x.shape[1])\n",
    "optim = torch.optim.SGD(net.parameters(), lr=1e-1)\n",
    "ell = nn.BCEWithLogitsLoss()\n",
    "epochs = 3000\n",
    "# net.train()\n",
    "loss_trace = []\n",
    "for e in range(epochs):\n",
    "  optim.zero_grad()\n",
    "  p_y = net(train_x)\n",
    "  loss = ell(p_y, train_y.float())\n",
    "  \n",
    "  loss_trace.append(loss.detach().item())\n",
    "  if(e+1) % 50 == 0:\n",
    "        print(f'[Epoch {e + 1}] Loss: {loss_trace[-1]}')\n",
    "  loss.backward()\n",
    "  optim.step()"
   ]
  },
  {
   "cell_type": "code",
   "execution_count": 9,
   "metadata": {
    "id": "1ov6AYbU9ABE"
   },
   "outputs": [
    {
     "data": {
      "text/plain": [
       "(92.5, 92.4)"
      ]
     },
     "execution_count": 9,
     "metadata": {},
     "output_type": "execute_result"
    }
   ],
   "source": [
    "accuracy(net, train_x, train_y), accuracy(net, test_x, test_y)\n"
   ]
  },
  {
   "cell_type": "code",
   "execution_count": 10,
   "metadata": {
    "id": "x9Dmk_hDHXVI"
   },
   "outputs": [
    {
     "data": {
      "image/png": "[encoded data removed]",
      "text/plain": [
       "<Figure size 1080x720 with 2 Axes>"
      ]
     },
     "metadata": {
      "needs_background": "light"
     },
     "output_type": "display_data"
    }
   ],
   "source": [
    "plotter(net, train_x, train_y, test_x, test_y)"
   ]
  },
  {
   "cell_type": "markdown",
   "metadata": {
    "id": "WDwY7Eb5NU9Z"
   },
   "source": [
    "I build a NN with 3 hidden layers. Each linear layer used a width of 60 nodes and used a bias term. ReLU activation functions where used at every hidden layer and the network was trained for 3000 epochs with a learning rate of 1e-1. Test accuracy was 88.4%."
   ]
  },
  {
   "cell_type": "markdown",
   "metadata": {
    "id": "7HIVNc1LOLxV"
   },
   "source": [
    "## Question 3: Convolutional Networks and Image Recognition\n",
    "\n",
    "In this question we are going to build up to larger models on larger datasets. If you don't already have access to a CUDA-enabled GPU you will need to complete this section of the homework on Google Colab. Google Colab allows you to run hardware accelerated notebooks online for free. By uploading this notebook into Colab then selecting `Runtime` -> `Change Runtime Type` -> And choosing `GPU` as your hardware accelerator you will be able to run your code on a GPU.\n",
    "\n",
    "Before starting we need to setup our data. We'll use the `torchvision` package to handle sourcing and normalizing the CIFAR-10 dataset, which we'll need to download to continue."
   ]
  },
  {
   "cell_type": "code",
   "execution_count": 11,
   "metadata": {
    "id": "fFPe3yTOU2bw"
   },
   "outputs": [],
   "source": [
    "import torchvision\n",
    "import torchvision.transforms as transforms"
   ]
  },
  {
   "cell_type": "markdown",
   "metadata": {
    "id": "s8AatrNEVCTD"
   },
   "source": [
    "The code cell below sets up a data transformation which casts the data to tensors (so we can pass it through a network), and normalizes each of the 3 RGB layers of the images. The first time you run this you will see a progress bar showing that the dataset is being downloaded. \n",
    "\n",
    "After running this code you will have a `trainloader` and a `testloader`. These are iterable python objects that allow you to sample mini-batches of data according the `batch_size` you passed in to the `DataLoader` function call. You can loop through the full dataset by running:\n",
    "```{python}\n",
    "for inputs, targets in trainloader:\n",
    "    ...\n",
    "```"
   ]
  },
  {
   "cell_type": "code",
   "execution_count": 12,
   "metadata": {
    "id": "s6DBwhTqOLxV"
   },
   "outputs": [
    {
     "name": "stdout",
     "output_type": "stream",
     "text": [
      "Files already downloaded and verified\n",
      "Files already downloaded and verified\n"
     ]
    }
   ],
   "source": [
    "transform = transforms.Compose(\n",
    "    [transforms.ToTensor(),\n",
    "     transforms.Normalize((0.5, 0.5, 0.5), (0.5, 0.5, 0.5))])\n",
    "\n",
    "trainset = torchvision.datasets.CIFAR10(root='./data', train=True,\n",
    "                                        download=True, transform=transform)\n",
    "trainloader = torch.utils.data.DataLoader(trainset, batch_size=128,\n",
    "                                          shuffle=True, num_workers=2,\n",
    "                                          pin_memory=True)\n",
    "\n",
    "testset = torchvision.datasets.CIFAR10(root='./data', train=False,\n",
    "                                       download=True, transform=transform)\n",
    "testloader = torch.utils.data.DataLoader(testset, batch_size=128,\n",
    "                                         shuffle=False, num_workers=2,\n",
    "                                         pin_memory=True)"
   ]
  },
  {
   "cell_type": "code",
   "execution_count": 13,
   "metadata": {},
   "outputs": [
    {
     "data": {
      "text/plain": [
       "128"
      ]
     },
     "execution_count": 13,
     "metadata": {},
     "output_type": "execute_result"
    }
   ],
   "source": [
    "trainloader.batch_size"
   ]
  },
  {
   "cell_type": "markdown",
   "metadata": {
    "id": "3g4HUHGNZomQ"
   },
   "source": [
    "## Part A: Network Definition\n",
    "\n",
    "A common strategy for defining convolutional neural networks is to first pass the data through a set of convolutional layers to perform feature extraction, then to pass through a set of linear, or fully connected, layers to perform classification. \n",
    "\n",
    "Construct a class that defines a pytorch model to be used with CIFAR-10 containing the following layers, in order:\n",
    "\n",
    "- A convolutional layer outputting 8 channels with a kernel size of 3\n",
    "- A ReLU activation\n",
    "- A max-pooling layer with kernel size of 2\n",
    "- A convolutional layer outputting 16 channels with a kernel size of 3\n",
    "- A ReLU activation\n",
    "- A max-pooling layer with kernel size of 2\n",
    "- A convolutional layer outputting 32 channels with a kernel size of 3\n",
    "- A ReLU activation\n",
    "- A max-pooling layer with kernel size of 2\n",
    "  - After this operation you will need to reshape the outputs of the max-pooling layer to a tensor of size `batch_size` $\\times$ `128`\n",
    "- A linear layer with an output size of 128\n",
    "- A ReLU activation\n",
    "- A linear layer with an output size of 64\n",
    "- A ReLU activation\n",
    "- A linear layer with an output size of 10\n",
    "\n",
    "\n",
    "\n",
    "To show that your network is correctly implemented, after you define this class, create an instance of it and show that if you pass a batch of CIFAR-10 images from `trainloader` through the network you get an output of size `batch_size` $\\times$ `10`.\n",
    "\n",
    "**Answer Here**"
   ]
  },
  {
   "cell_type": "code",
   "execution_count": 14,
   "metadata": {
    "id": "TVFsEiqfK2gA"
   },
   "outputs": [],
   "source": [
    "class ImageClassifier(nn.Module):\n",
    "  def __init__(self):\n",
    "    super().__init__()\n",
    "    self.features = nn.Sequential(nn.Conv2d(3, 8, 3),\n",
    "                            nn.ReLU(),\n",
    "                            nn.MaxPool2d(2),\n",
    "                            nn.Conv2d(8, 16, 3),\n",
    "                            nn.ReLU(),\n",
    "                            nn.MaxPool2d(2),\n",
    "                            nn.Conv2d(16, 32, 3),\n",
    "                            nn.ReLU(),\n",
    "                            nn.MaxPool2d(2)                            )\n",
    "    \n",
    "    self.classifier = nn.Sequential(nn.Linear(128, 128, bias = True),\n",
    "                            nn.ReLU(),\n",
    "                            nn.Linear(128, 64, bias=True),\n",
    "                            nn.ReLU(),\n",
    "                            nn.Linear(64, 10, bias=True)\n",
    "                            )\n",
    "    \n",
    "  def forward(self, train):\n",
    "\n",
    "    x = self.features(train)\n",
    "    x = torch.reshape(x, (train.shape[0], 128))\n",
    "    x = self.classifier(x)\n",
    "    return x\n",
    "                          \n",
    "                          \n",
    "\n"
   ]
  },
  {
   "cell_type": "code",
   "execution_count": 15,
   "metadata": {
    "id": "xhU7yBMCPp_U"
   },
   "outputs": [
    {
     "name": "stdout",
     "output_type": "stream",
     "text": [
      "torch.Size([128, 10])\n"
     ]
    },
    {
     "name": "stderr",
     "output_type": "stream",
     "text": [
      "/home/carpfire/anaconda3/envs/machine_learning/lib/python3.9/site-packages/torch/nn/functional.py:718: UserWarning: Named tensors and all their associated APIs are an experimental feature and subject to change. Please do not use them for anything important until they are released as stable. (Triggered internally at  /opt/conda/conda-bld/pytorch_1623448255797/work/c10/core/TensorImpl.h:1156.)\n",
      "  return torch.max_pool2d(input, kernel_size, stride, padding, dilation, ceil_mode)\n"
     ]
    }
   ],
   "source": [
    "conv = ImageClassifier()\n",
    "for train, test in trainloader:\n",
    "  print(conv(train).shape)\n",
    "  break"
   ]
  },
  {
   "cell_type": "code",
   "execution_count": 17,
   "metadata": {
    "id": "_pWzIRFL6AwD"
   },
   "outputs": [
    {
     "data": {
      "text/plain": [
       "tensor([6, 9, 6, 9, 6, 0, 9, 1, 5, 0, 0, 1, 6, 8, 6, 9, 6, 6, 6, 1, 5, 5, 6, 8,\n",
       "        6, 6, 8, 6, 8, 6, 0, 7, 0, 0, 9, 0, 7, 6, 9, 8, 9, 1, 1, 6, 8, 0, 6, 0,\n",
       "        7, 9, 1, 7, 0, 8, 0, 1, 6, 9, 7, 5, 9, 6, 3, 1, 7, 6, 4, 7, 6, 0, 3, 6,\n",
       "        8, 8, 0, 7, 7, 6, 6, 1])"
      ]
     },
     "execution_count": 17,
     "metadata": {},
     "output_type": "execute_result"
    }
   ],
   "source": [
    "conv(train).argmax(1)"
   ]
  },
  {
   "cell_type": "markdown",
   "metadata": {
    "id": "SP23T_irybRd"
   },
   "source": [
    "## Part B: Training Loop\n",
    "\n",
    "Using `torch.nn.CrossEntropyLoss` as your objective function and `torch.optim.SGD` as your optimizer. Train your network for 2 epochs while running on a _CPU_ using a batch size of 128. How long does it take? \n",
    "\n",
    "**Answer Here**"
   ]
  },
  {
   "cell_type": "code",
   "execution_count": 16,
   "metadata": {
    "id": "axuGy0DIVaVx"
   },
   "outputs": [
    {
     "name": "stderr",
     "output_type": "stream",
     "text": [
      "[W pthreadpool-cpp.cc:90] Warning: Leaking Caffe2 thread-pool after fork. (function pthreadpool)\n",
      "[W pthreadpool-cpp.cc:90] Warning: Leaking Caffe2 thread-pool after fork. (function pthreadpool)\n"
     ]
    },
    {
     "name": "stdout",
     "output_type": "stream",
     "text": [
      "[Epoch 1] Loss: 2.243412494659424\n"
     ]
    },
    {
     "name": "stderr",
     "output_type": "stream",
     "text": [
      "[W pthreadpool-cpp.cc:90] Warning: Leaking Caffe2 thread-pool after fork. (function pthreadpool)\n",
      "[W pthreadpool-cpp.cc:90] Warning: Leaking Caffe2 thread-pool after fork. (function pthreadpool)\n"
     ]
    },
    {
     "name": "stdout",
     "output_type": "stream",
     "text": [
      "[Epoch 2] Loss: 1.8718922138214111\n",
      "CPU times: user 1min 16s, sys: 2.26 s, total: 1min 18s\n",
      "Wall time: 10.1 s\n"
     ]
    }
   ],
   "source": [
    "%%time\n",
    "conv = ImageClassifier()\n",
    "opt = torch.optim.SGD(conv.parameters(), lr= 1e-1)\n",
    "ell = torch.nn.CrossEntropyLoss()\n",
    "epochs = 2\n",
    "loss_trace = []\n",
    "for e in range(epochs):\n",
    "  for train, target in trainloader:\n",
    "    opt.zero_grad()\n",
    "    p_y = conv(train)\n",
    "    loss = ell(p_y, target)\n",
    "    loss_trace.append(loss.detach().item())      \n",
    "    loss.backward()\n",
    "    opt.step()\n",
    "  print(f'[Epoch {e + 1}] Loss: {loss_trace[-1]}')\n"
   ]
  },
  {
   "cell_type": "markdown",
   "metadata": {
    "id": "6_juIn_aXgxF"
   },
   "source": [
    "Took us a minute, or rather 28.4 seconds."
   ]
  },
  {
   "cell_type": "markdown",
   "metadata": {
    "id": "Oajg3e4Ry5zx"
   },
   "source": [
    "## Part C: Porting to a GPU\n",
    "\n",
    "CUDA-enabled GPUs can speed up training time signficantly, and have really enabled the widespread success of neural networks. Using a GPU, reinitialize your network and train for 2 epochs using a batch size of 128. How long does 2 epochs of training take? If you are correctly utilizing a GPU a single epoch should take only about 50-60% as much time as in Part B. \n",
    "\n",
    "To be sure you are doing things correctly: if you have a torch tensor, `X`, you can see what device it is on using the command `X.device`; if the tensor is stored on the GPU you will see `type='cuda'` in the output.\n",
    "\n",
    "**Answer Here**"
   ]
  },
  {
   "cell_type": "code",
   "execution_count": 18,
   "metadata": {
    "id": "gEsO7nDaYZX0"
   },
   "outputs": [
    {
     "name": "stderr",
     "output_type": "stream",
     "text": [
      "[W pthreadpool-cpp.cc:90] Warning: Leaking Caffe2 thread-pool after fork. (function pthreadpool)\n",
      "[W pthreadpool-cpp.cc:90] Warning: Leaking Caffe2 thread-pool after fork. (function pthreadpool)\n"
     ]
    },
    {
     "name": "stdout",
     "output_type": "stream",
     "text": [
      "[Epoch 1] Loss: 2.2926621437072754\n"
     ]
    },
    {
     "name": "stderr",
     "output_type": "stream",
     "text": [
      "[W pthreadpool-cpp.cc:90] Warning: Leaking Caffe2 thread-pool after fork. (function pthreadpool)\n",
      "[W pthreadpool-cpp.cc:90] Warning: Leaking Caffe2 thread-pool after fork. (function pthreadpool)\n"
     ]
    },
    {
     "name": "stdout",
     "output_type": "stream",
     "text": [
      "[Epoch 2] Loss: 1.8238227367401123\n",
      "CPU times: user 6.8 s, sys: 1.3 s, total: 8.1 s\n",
      "Wall time: 8.74 s\n"
     ]
    }
   ],
   "source": [
    "%%time\n",
    "device = torch.device(\"cuda:0\")\n",
    "conv = ImageClassifier().to(device)\n",
    "opt = torch.optim.SGD(conv.parameters(), lr= 1e-1)\n",
    "ell = torch.nn.CrossEntropyLoss()\n",
    "epochs = 2\n",
    "loss_trace = []\n",
    "for e in range(epochs):\n",
    "  for train, target in trainloader:\n",
    "    opt.zero_grad()\n",
    "    p_y = conv(train.to(device))\n",
    "    loss = ell(p_y, target.to(device))\n",
    "    loss_trace.append(loss.detach().item())      \n",
    "    loss.backward()\n",
    "    opt.step()\n",
    "  print(f'[Epoch {e + 1}] Loss: {loss_trace[-1]}')\n"
   ]
  },
  {
   "cell_type": "markdown",
   "metadata": {
    "id": "UFaVyKoF2emu"
   },
   "source": [
    "Two epochs of training takes 19 seconds. "
   ]
  },
  {
   "cell_type": "markdown",
   "metadata": {
    "id": "YTOahDvK1Sqm"
   },
   "source": [
    "## Part D: Training Your Network\n",
    "\n",
    "Now you're going to fully train your network on CIFAR-10. Using SGD with a learning rate of 0.01 and a momentum parameter of 0.9 train your network for 30 epochs using a GPU. \n",
    "\n",
    "You should log the training accuracy and average loss per training input at every epoch, and test accuracy and average loss per test input every other epoch. Make sure that you are **not** training the network when evaluating the performance on testing data. \n",
    "\n",
    "If you have constructed your network and your training loop correctly training your network should take about 5-10 minutes, including the evaluation on the test data. If it is taking significantly longer than that make sure that you are utilizing the GPU correctly, and that you are not doing any redundant computations in your code. \n",
    "\n",
    "**Answer Here**"
   ]
  },
  {
   "cell_type": "code",
   "execution_count": 19,
   "metadata": {
    "id": "KGO0QuA43o5R"
   },
   "outputs": [],
   "source": [
    "def accuracy(model, loader):\n",
    "    acc = 0\n",
    "    samples = 0\n",
    "    for train, target in loader:\n",
    "      train, target = train.cuda(), target.cuda()\n",
    "      with torch.no_grad():\n",
    "        pred = model(train).argmax(1)\n",
    "        correct = torch.where(pred == target)[0]\n",
    "        acc += correct.size(0)\n",
    "        samples += target.size(0)\n",
    "    return acc/samples\n"
   ]
  },
  {
   "cell_type": "code",
   "execution_count": 20,
   "metadata": {
    "id": "-BLWgb4K_rEW"
   },
   "outputs": [],
   "source": [
    "def test_loss(model, loader, trace, loss):\n",
    "  samples = 0\n",
    "  for data, target in loader:\n",
    "    data, target = data.cuda(), target.cuda()\n",
    "    with torch.no_grad():\n",
    "      samples += data.size(0)\n",
    "      pred = model(data)\n",
    "      l = loss(pred, target)\n",
    "      trace.append(l.detach().item())\n",
    "  return samples\n",
    "    "
   ]
  },
  {
   "cell_type": "code",
   "execution_count": 21,
   "metadata": {
    "id": "vTE-MN6lZsHu",
    "tags": []
   },
   "outputs": [
    {
     "name": "stderr",
     "output_type": "stream",
     "text": [
      "[W pthreadpool-cpp.cc:90] Warning: Leaking Caffe2 thread-pool after fork. (function pthreadpool)\n",
      "[W pthreadpool-cpp.cc:90] Warning: Leaking Caffe2 thread-pool after fork. (function pthreadpool)\n",
      "[W pthreadpool-cpp.cc:90] Warning: Leaking Caffe2 thread-pool after fork. (function pthreadpool)\n",
      "[W pthreadpool-cpp.cc:90] Warning: Leaking Caffe2 thread-pool after fork. (function pthreadpool)\n"
     ]
    },
    {
     "name": "stdout",
     "output_type": "stream",
     "text": [
      "[Epoch 1] Average Test Loss: 0.00018749762773513794\n",
      "[Epoch 1] Average Loss: 4.287433624267578e-05\n"
     ]
    },
    {
     "name": "stderr",
     "output_type": "stream",
     "text": [
      "[W pthreadpool-cpp.cc:90] Warning: Leaking Caffe2 thread-pool after fork. (function pthreadpool)\n",
      "[W pthreadpool-cpp.cc:90] Warning: Leaking Caffe2 thread-pool after fork. (function pthreadpool)\n"
     ]
    },
    {
     "name": "stdout",
     "output_type": "stream",
     "text": [
      "[Epoch 1] Train Accuracy :0.20328\n"
     ]
    },
    {
     "name": "stderr",
     "output_type": "stream",
     "text": [
      "[W pthreadpool-cpp.cc:90] Warning: Leaking Caffe2 thread-pool after fork. (function pthreadpool)\n",
      "[W pthreadpool-cpp.cc:90] Warning: Leaking Caffe2 thread-pool after fork. (function pthreadpool)\n"
     ]
    },
    {
     "name": "stdout",
     "output_type": "stream",
     "text": [
      "[Epoch 1] Test Accuracy :0.2084\n"
     ]
    },
    {
     "name": "stderr",
     "output_type": "stream",
     "text": [
      "[W pthreadpool-cpp.cc:90] Warning: Leaking Caffe2 thread-pool after fork. (function pthreadpool)\n",
      "[W pthreadpool-cpp.cc:90] Warning: Leaking Caffe2 thread-pool after fork. (function pthreadpool)\n",
      "[W pthreadpool-cpp.cc:90] Warning: Leaking Caffe2 thread-pool after fork. (function pthreadpool)\n",
      "[W pthreadpool-cpp.cc:90] Warning: Leaking Caffe2 thread-pool after fork. (function pthreadpool)\n"
     ]
    },
    {
     "name": "stdout",
     "output_type": "stream",
     "text": [
      "[Epoch 2] Average Test Loss: 0.00015350055694580078\n",
      "[Epoch 2] Average Loss: 3.5550274848937985e-05\n"
     ]
    },
    {
     "name": "stderr",
     "output_type": "stream",
     "text": [
      "[W pthreadpool-cpp.cc:90] Warning: Leaking Caffe2 thread-pool after fork. (function pthreadpool)\n",
      "[W pthreadpool-cpp.cc:90] Warning: Leaking Caffe2 thread-pool after fork. (function pthreadpool)\n"
     ]
    },
    {
     "name": "stdout",
     "output_type": "stream",
     "text": [
      "[Epoch 2] Train Accuracy :0.36056\n"
     ]
    },
    {
     "name": "stderr",
     "output_type": "stream",
     "text": [
      "[W pthreadpool-cpp.cc:90] Warning: Leaking Caffe2 thread-pool after fork. (function pthreadpool)\n",
      "[W pthreadpool-cpp.cc:90] Warning: Leaking Caffe2 thread-pool after fork. (function pthreadpool)\n",
      "[W pthreadpool-cpp.cc:90] Warning: Leaking Caffe2 thread-pool after fork. (function pthreadpool)\n",
      "[W pthreadpool-cpp.cc:90] Warning: Leaking Caffe2 thread-pool after fork. (function pthreadpool)\n"
     ]
    },
    {
     "name": "stdout",
     "output_type": "stream",
     "text": [
      "[Epoch 3] Average Test Loss: 0.0001565809965133667\n",
      "[Epoch 3] Average Loss: 2.636343717575073e-05\n"
     ]
    },
    {
     "name": "stderr",
     "output_type": "stream",
     "text": [
      "[W pthreadpool-cpp.cc:90] Warning: Leaking Caffe2 thread-pool after fork. (function pthreadpool)\n",
      "[W pthreadpool-cpp.cc:90] Warning: Leaking Caffe2 thread-pool after fork. (function pthreadpool)\n"
     ]
    },
    {
     "name": "stdout",
     "output_type": "stream",
     "text": [
      "[Epoch 3] Train Accuracy :0.45706\n"
     ]
    },
    {
     "name": "stderr",
     "output_type": "stream",
     "text": [
      "[W pthreadpool-cpp.cc:90] Warning: Leaking Caffe2 thread-pool after fork. (function pthreadpool)\n",
      "[W pthreadpool-cpp.cc:90] Warning: Leaking Caffe2 thread-pool after fork. (function pthreadpool)\n"
     ]
    },
    {
     "name": "stdout",
     "output_type": "stream",
     "text": [
      "[Epoch 3] Test Accuracy :0.4595\n"
     ]
    },
    {
     "name": "stderr",
     "output_type": "stream",
     "text": [
      "[W pthreadpool-cpp.cc:90] Warning: Leaking Caffe2 thread-pool after fork. (function pthreadpool)\n",
      "[W pthreadpool-cpp.cc:90] Warning: Leaking Caffe2 thread-pool after fork. (function pthreadpool)\n",
      "[W pthreadpool-cpp.cc:90] Warning: Leaking Caffe2 thread-pool after fork. (function pthreadpool)\n",
      "[W pthreadpool-cpp.cc:90] Warning: Leaking Caffe2 thread-pool after fork. (function pthreadpool)\n"
     ]
    },
    {
     "name": "stdout",
     "output_type": "stream",
     "text": [
      "[Epoch 4] Average Test Loss: 0.0001282389760017395\n",
      "[Epoch 4] Average Loss: 2.7118821144104004e-05\n"
     ]
    },
    {
     "name": "stderr",
     "output_type": "stream",
     "text": [
      "[W pthreadpool-cpp.cc:90] Warning: Leaking Caffe2 thread-pool after fork. (function pthreadpool)\n",
      "[W pthreadpool-cpp.cc:90] Warning: Leaking Caffe2 thread-pool after fork. (function pthreadpool)\n"
     ]
    },
    {
     "name": "stdout",
     "output_type": "stream",
     "text": [
      "[Epoch 4] Train Accuracy :0.51142\n"
     ]
    },
    {
     "name": "stderr",
     "output_type": "stream",
     "text": [
      "[W pthreadpool-cpp.cc:90] Warning: Leaking Caffe2 thread-pool after fork. (function pthreadpool)\n",
      "[W pthreadpool-cpp.cc:90] Warning: Leaking Caffe2 thread-pool after fork. (function pthreadpool)\n",
      "[W pthreadpool-cpp.cc:90] Warning: Leaking Caffe2 thread-pool after fork. (function pthreadpool)\n",
      "[W pthreadpool-cpp.cc:90] Warning: Leaking Caffe2 thread-pool after fork. (function pthreadpool)\n"
     ]
    },
    {
     "name": "stdout",
     "output_type": "stream",
     "text": [
      "[Epoch 5] Average Test Loss: 0.00014279870986938476\n",
      "[Epoch 5] Average Loss: 1.9448373317718506e-05\n"
     ]
    },
    {
     "name": "stderr",
     "output_type": "stream",
     "text": [
      "[W pthreadpool-cpp.cc:90] Warning: Leaking Caffe2 thread-pool after fork. (function pthreadpool)\n",
      "[W pthreadpool-cpp.cc:90] Warning: Leaking Caffe2 thread-pool after fork. (function pthreadpool)\n"
     ]
    },
    {
     "name": "stdout",
     "output_type": "stream",
     "text": [
      "[Epoch 5] Train Accuracy :0.5505\n"
     ]
    },
    {
     "name": "stderr",
     "output_type": "stream",
     "text": [
      "[W pthreadpool-cpp.cc:90] Warning: Leaking Caffe2 thread-pool after fork. (function pthreadpool)\n",
      "[W pthreadpool-cpp.cc:90] Warning: Leaking Caffe2 thread-pool after fork. (function pthreadpool)\n"
     ]
    },
    {
     "name": "stdout",
     "output_type": "stream",
     "text": [
      "[Epoch 5] Test Accuracy :0.5412\n"
     ]
    },
    {
     "name": "stderr",
     "output_type": "stream",
     "text": [
      "[W pthreadpool-cpp.cc:90] Warning: Leaking Caffe2 thread-pool after fork. (function pthreadpool)\n",
      "[W pthreadpool-cpp.cc:90] Warning: Leaking Caffe2 thread-pool after fork. (function pthreadpool)\n",
      "[W pthreadpool-cpp.cc:90] Warning: Leaking Caffe2 thread-pool after fork. (function pthreadpool)\n",
      "[W pthreadpool-cpp.cc:90] Warning: Leaking Caffe2 thread-pool after fork. (function pthreadpool)\n"
     ]
    },
    {
     "name": "stdout",
     "output_type": "stream",
     "text": [
      "[Epoch 6] Average Test Loss: 0.00011795449256896973\n",
      "[Epoch 6] Average Loss: 2.4879937171936036e-05\n"
     ]
    },
    {
     "name": "stderr",
     "output_type": "stream",
     "text": [
      "[W pthreadpool-cpp.cc:90] Warning: Leaking Caffe2 thread-pool after fork. (function pthreadpool)\n",
      "[W pthreadpool-cpp.cc:90] Warning: Leaking Caffe2 thread-pool after fork. (function pthreadpool)\n"
     ]
    },
    {
     "name": "stdout",
     "output_type": "stream",
     "text": [
      "[Epoch 6] Train Accuracy :0.59798\n"
     ]
    },
    {
     "name": "stderr",
     "output_type": "stream",
     "text": [
      "[W pthreadpool-cpp.cc:90] Warning: Leaking Caffe2 thread-pool after fork. (function pthreadpool)\n",
      "[W pthreadpool-cpp.cc:90] Warning: Leaking Caffe2 thread-pool after fork. (function pthreadpool)\n",
      "[W pthreadpool-cpp.cc:90] Warning: Leaking Caffe2 thread-pool after fork. (function pthreadpool)\n",
      "[W pthreadpool-cpp.cc:90] Warning: Leaking Caffe2 thread-pool after fork. (function pthreadpool)\n"
     ]
    },
    {
     "name": "stdout",
     "output_type": "stream",
     "text": [
      "[Epoch 7] Average Test Loss: 0.00010981131792068481\n",
      "[Epoch 7] Average Loss: 2.431384801864624e-05\n"
     ]
    },
    {
     "name": "stderr",
     "output_type": "stream",
     "text": [
      "[W pthreadpool-cpp.cc:90] Warning: Leaking Caffe2 thread-pool after fork. (function pthreadpool)\n",
      "[W pthreadpool-cpp.cc:90] Warning: Leaking Caffe2 thread-pool after fork. (function pthreadpool)\n"
     ]
    },
    {
     "name": "stdout",
     "output_type": "stream",
     "text": [
      "[Epoch 7] Train Accuracy :0.6147\n"
     ]
    },
    {
     "name": "stderr",
     "output_type": "stream",
     "text": [
      "[W pthreadpool-cpp.cc:90] Warning: Leaking Caffe2 thread-pool after fork. (function pthreadpool)\n",
      "[W pthreadpool-cpp.cc:90] Warning: Leaking Caffe2 thread-pool after fork. (function pthreadpool)\n"
     ]
    },
    {
     "name": "stdout",
     "output_type": "stream",
     "text": [
      "[Epoch 7] Test Accuracy :0.6005\n"
     ]
    },
    {
     "name": "stderr",
     "output_type": "stream",
     "text": [
      "[W pthreadpool-cpp.cc:90] Warning: Leaking Caffe2 thread-pool after fork. (function pthreadpool)\n",
      "[W pthreadpool-cpp.cc:90] Warning: Leaking Caffe2 thread-pool after fork. (function pthreadpool)\n",
      "[W pthreadpool-cpp.cc:90] Warning: Leaking Caffe2 thread-pool after fork. (function pthreadpool)\n",
      "[W pthreadpool-cpp.cc:90] Warning: Leaking Caffe2 thread-pool after fork. (function pthreadpool)\n"
     ]
    },
    {
     "name": "stdout",
     "output_type": "stream",
     "text": [
      "[Epoch 8] Average Test Loss: 0.00010115679502487183\n",
      "[Epoch 8] Average Loss: 1.9759525060653686e-05\n"
     ]
    },
    {
     "name": "stderr",
     "output_type": "stream",
     "text": [
      "[W pthreadpool-cpp.cc:90] Warning: Leaking Caffe2 thread-pool after fork. (function pthreadpool)\n",
      "[W pthreadpool-cpp.cc:90] Warning: Leaking Caffe2 thread-pool after fork. (function pthreadpool)\n"
     ]
    },
    {
     "name": "stdout",
     "output_type": "stream",
     "text": [
      "[Epoch 8] Train Accuracy :0.63624\n"
     ]
    },
    {
     "name": "stderr",
     "output_type": "stream",
     "text": [
      "[W pthreadpool-cpp.cc:90] Warning: Leaking Caffe2 thread-pool after fork. (function pthreadpool)\n",
      "[W pthreadpool-cpp.cc:90] Warning: Leaking Caffe2 thread-pool after fork. (function pthreadpool)\n",
      "[W pthreadpool-cpp.cc:90] Warning: Leaking Caffe2 thread-pool after fork. (function pthreadpool)\n",
      "[W pthreadpool-cpp.cc:90] Warning: Leaking Caffe2 thread-pool after fork. (function pthreadpool)\n"
     ]
    },
    {
     "name": "stdout",
     "output_type": "stream",
     "text": [
      "[Epoch 9] Average Test Loss: 0.00010883156061172485\n",
      "[Epoch 9] Average Loss: 2.076683282852173e-05\n"
     ]
    },
    {
     "name": "stderr",
     "output_type": "stream",
     "text": [
      "[W pthreadpool-cpp.cc:90] Warning: Leaking Caffe2 thread-pool after fork. (function pthreadpool)\n",
      "[W pthreadpool-cpp.cc:90] Warning: Leaking Caffe2 thread-pool after fork. (function pthreadpool)\n"
     ]
    },
    {
     "name": "stdout",
     "output_type": "stream",
     "text": [
      "[Epoch 9] Train Accuracy :0.65436\n"
     ]
    },
    {
     "name": "stderr",
     "output_type": "stream",
     "text": [
      "[W pthreadpool-cpp.cc:90] Warning: Leaking Caffe2 thread-pool after fork. (function pthreadpool)\n",
      "[W pthreadpool-cpp.cc:90] Warning: Leaking Caffe2 thread-pool after fork. (function pthreadpool)\n"
     ]
    },
    {
     "name": "stdout",
     "output_type": "stream",
     "text": [
      "[Epoch 9] Test Accuracy :0.6247\n"
     ]
    },
    {
     "name": "stderr",
     "output_type": "stream",
     "text": [
      "[W pthreadpool-cpp.cc:90] Warning: Leaking Caffe2 thread-pool after fork. (function pthreadpool)\n",
      "[W pthreadpool-cpp.cc:90] Warning: Leaking Caffe2 thread-pool after fork. (function pthreadpool)\n",
      "[W pthreadpool-cpp.cc:90] Warning: Leaking Caffe2 thread-pool after fork. (function pthreadpool)\n",
      "[W pthreadpool-cpp.cc:90] Warning: Leaking Caffe2 thread-pool after fork. (function pthreadpool)\n"
     ]
    },
    {
     "name": "stdout",
     "output_type": "stream",
     "text": [
      "[Epoch 10] Average Test Loss: 8.307967185974122e-05\n",
      "[Epoch 10] Average Loss: 1.9069191217422484e-05\n"
     ]
    },
    {
     "name": "stderr",
     "output_type": "stream",
     "text": [
      "[W pthreadpool-cpp.cc:90] Warning: Leaking Caffe2 thread-pool after fork. (function pthreadpool)\n",
      "[W pthreadpool-cpp.cc:90] Warning: Leaking Caffe2 thread-pool after fork. (function pthreadpool)\n"
     ]
    },
    {
     "name": "stdout",
     "output_type": "stream",
     "text": [
      "[Epoch 10] Train Accuracy :0.67094\n"
     ]
    },
    {
     "name": "stderr",
     "output_type": "stream",
     "text": [
      "[W pthreadpool-cpp.cc:90] Warning: Leaking Caffe2 thread-pool after fork. (function pthreadpool)\n",
      "[W pthreadpool-cpp.cc:90] Warning: Leaking Caffe2 thread-pool after fork. (function pthreadpool)\n",
      "[W pthreadpool-cpp.cc:90] Warning: Leaking Caffe2 thread-pool after fork. (function pthreadpool)\n",
      "[W pthreadpool-cpp.cc:90] Warning: Leaking Caffe2 thread-pool after fork. (function pthreadpool)\n"
     ]
    },
    {
     "name": "stdout",
     "output_type": "stream",
     "text": [
      "[Epoch 11] Average Test Loss: 6.820722818374633e-05\n",
      "[Epoch 11] Average Loss: 2.4320051670074463e-05\n"
     ]
    },
    {
     "name": "stderr",
     "output_type": "stream",
     "text": [
      "[W pthreadpool-cpp.cc:90] Warning: Leaking Caffe2 thread-pool after fork. (function pthreadpool)\n",
      "[W pthreadpool-cpp.cc:90] Warning: Leaking Caffe2 thread-pool after fork. (function pthreadpool)\n"
     ]
    },
    {
     "name": "stdout",
     "output_type": "stream",
     "text": [
      "[Epoch 11] Train Accuracy :0.65084\n"
     ]
    },
    {
     "name": "stderr",
     "output_type": "stream",
     "text": [
      "[W pthreadpool-cpp.cc:90] Warning: Leaking Caffe2 thread-pool after fork. (function pthreadpool)\n",
      "[W pthreadpool-cpp.cc:90] Warning: Leaking Caffe2 thread-pool after fork. (function pthreadpool)\n"
     ]
    },
    {
     "name": "stdout",
     "output_type": "stream",
     "text": [
      "[Epoch 11] Test Accuracy :0.6108\n"
     ]
    },
    {
     "name": "stderr",
     "output_type": "stream",
     "text": [
      "[W pthreadpool-cpp.cc:90] Warning: Leaking Caffe2 thread-pool after fork. (function pthreadpool)\n",
      "[W pthreadpool-cpp.cc:90] Warning: Leaking Caffe2 thread-pool after fork. (function pthreadpool)\n",
      "[W pthreadpool-cpp.cc:90] Warning: Leaking Caffe2 thread-pool after fork. (function pthreadpool)\n",
      "[W pthreadpool-cpp.cc:90] Warning: Leaking Caffe2 thread-pool after fork. (function pthreadpool)\n"
     ]
    },
    {
     "name": "stdout",
     "output_type": "stream",
     "text": [
      "[Epoch 12] Average Test Loss: 0.00010391998291015625\n",
      "[Epoch 12] Average Loss: 2.3575143814086915e-05\n"
     ]
    },
    {
     "name": "stderr",
     "output_type": "stream",
     "text": [
      "[W pthreadpool-cpp.cc:90] Warning: Leaking Caffe2 thread-pool after fork. (function pthreadpool)\n",
      "[W pthreadpool-cpp.cc:90] Warning: Leaking Caffe2 thread-pool after fork. (function pthreadpool)\n"
     ]
    },
    {
     "name": "stdout",
     "output_type": "stream",
     "text": [
      "[Epoch 12] Train Accuracy :0.66288\n"
     ]
    },
    {
     "name": "stderr",
     "output_type": "stream",
     "text": [
      "[W pthreadpool-cpp.cc:90] Warning: Leaking Caffe2 thread-pool after fork. (function pthreadpool)\n",
      "[W pthreadpool-cpp.cc:90] Warning: Leaking Caffe2 thread-pool after fork. (function pthreadpool)\n",
      "[W pthreadpool-cpp.cc:90] Warning: Leaking Caffe2 thread-pool after fork. (function pthreadpool)\n",
      "[W pthreadpool-cpp.cc:90] Warning: Leaking Caffe2 thread-pool after fork. (function pthreadpool)\n"
     ]
    },
    {
     "name": "stdout",
     "output_type": "stream",
     "text": [
      "[Epoch 13] Average Test Loss: 0.00010050017833709717\n",
      "[Epoch 13] Average Loss: 1.914940118789673e-05\n"
     ]
    },
    {
     "name": "stderr",
     "output_type": "stream",
     "text": [
      "[W pthreadpool-cpp.cc:90] Warning: Leaking Caffe2 thread-pool after fork. (function pthreadpool)\n",
      "[W pthreadpool-cpp.cc:90] Warning: Leaking Caffe2 thread-pool after fork. (function pthreadpool)\n"
     ]
    },
    {
     "name": "stdout",
     "output_type": "stream",
     "text": [
      "[Epoch 13] Train Accuracy :0.7031\n"
     ]
    },
    {
     "name": "stderr",
     "output_type": "stream",
     "text": [
      "[W pthreadpool-cpp.cc:90] Warning: Leaking Caffe2 thread-pool after fork. (function pthreadpool)\n",
      "[W pthreadpool-cpp.cc:90] Warning: Leaking Caffe2 thread-pool after fork. (function pthreadpool)\n"
     ]
    },
    {
     "name": "stdout",
     "output_type": "stream",
     "text": [
      "[Epoch 13] Test Accuracy :0.6551\n"
     ]
    },
    {
     "name": "stderr",
     "output_type": "stream",
     "text": [
      "[W pthreadpool-cpp.cc:90] Warning: Leaking Caffe2 thread-pool after fork. (function pthreadpool)\n",
      "[W pthreadpool-cpp.cc:90] Warning: Leaking Caffe2 thread-pool after fork. (function pthreadpool)\n",
      "[W pthreadpool-cpp.cc:90] Warning: Leaking Caffe2 thread-pool after fork. (function pthreadpool)\n",
      "[W pthreadpool-cpp.cc:90] Warning: Leaking Caffe2 thread-pool after fork. (function pthreadpool)\n"
     ]
    },
    {
     "name": "stdout",
     "output_type": "stream",
     "text": [
      "[Epoch 14] Average Test Loss: 9.668222665786744e-05\n",
      "[Epoch 14] Average Loss: 2.111037492752075e-05\n"
     ]
    },
    {
     "name": "stderr",
     "output_type": "stream",
     "text": [
      "[W pthreadpool-cpp.cc:90] Warning: Leaking Caffe2 thread-pool after fork. (function pthreadpool)\n",
      "[W pthreadpool-cpp.cc:90] Warning: Leaking Caffe2 thread-pool after fork. (function pthreadpool)\n"
     ]
    },
    {
     "name": "stdout",
     "output_type": "stream",
     "text": [
      "[Epoch 14] Train Accuracy :0.70292\n"
     ]
    },
    {
     "name": "stderr",
     "output_type": "stream",
     "text": [
      "[W pthreadpool-cpp.cc:90] Warning: Leaking Caffe2 thread-pool after fork. (function pthreadpool)\n",
      "[W pthreadpool-cpp.cc:90] Warning: Leaking Caffe2 thread-pool after fork. (function pthreadpool)\n",
      "[W pthreadpool-cpp.cc:90] Warning: Leaking Caffe2 thread-pool after fork. (function pthreadpool)\n",
      "[W pthreadpool-cpp.cc:90] Warning: Leaking Caffe2 thread-pool after fork. (function pthreadpool)\n"
     ]
    },
    {
     "name": "stdout",
     "output_type": "stream",
     "text": [
      "[Epoch 15] Average Test Loss: 0.00010298529863357543\n",
      "[Epoch 15] Average Loss: 1.4493513107299804e-05\n"
     ]
    },
    {
     "name": "stderr",
     "output_type": "stream",
     "text": [
      "[W pthreadpool-cpp.cc:90] Warning: Leaking Caffe2 thread-pool after fork. (function pthreadpool)\n",
      "[W pthreadpool-cpp.cc:90] Warning: Leaking Caffe2 thread-pool after fork. (function pthreadpool)\n"
     ]
    },
    {
     "name": "stdout",
     "output_type": "stream",
     "text": [
      "[Epoch 15] Train Accuracy :0.69844\n"
     ]
    },
    {
     "name": "stderr",
     "output_type": "stream",
     "text": [
      "[W pthreadpool-cpp.cc:90] Warning: Leaking Caffe2 thread-pool after fork. (function pthreadpool)\n",
      "[W pthreadpool-cpp.cc:90] Warning: Leaking Caffe2 thread-pool after fork. (function pthreadpool)\n"
     ]
    },
    {
     "name": "stdout",
     "output_type": "stream",
     "text": [
      "[Epoch 15] Test Accuracy :0.6448\n"
     ]
    },
    {
     "name": "stderr",
     "output_type": "stream",
     "text": [
      "[W pthreadpool-cpp.cc:90] Warning: Leaking Caffe2 thread-pool after fork. (function pthreadpool)\n",
      "[W pthreadpool-cpp.cc:90] Warning: Leaking Caffe2 thread-pool after fork. (function pthreadpool)\n",
      "[W pthreadpool-cpp.cc:90] Warning: Leaking Caffe2 thread-pool after fork. (function pthreadpool)\n",
      "[W pthreadpool-cpp.cc:90] Warning: Leaking Caffe2 thread-pool after fork. (function pthreadpool)\n"
     ]
    },
    {
     "name": "stdout",
     "output_type": "stream",
     "text": [
      "[Epoch 16] Average Test Loss: 8.945125341415405e-05\n",
      "[Epoch 16] Average Loss: 1.680871367454529e-05\n"
     ]
    },
    {
     "name": "stderr",
     "output_type": "stream",
     "text": [
      "[W pthreadpool-cpp.cc:90] Warning: Leaking Caffe2 thread-pool after fork. (function pthreadpool)\n",
      "[W pthreadpool-cpp.cc:90] Warning: Leaking Caffe2 thread-pool after fork. (function pthreadpool)\n"
     ]
    },
    {
     "name": "stdout",
     "output_type": "stream",
     "text": [
      "[Epoch 16] Train Accuracy :0.71046\n"
     ]
    },
    {
     "name": "stderr",
     "output_type": "stream",
     "text": [
      "[W pthreadpool-cpp.cc:90] Warning: Leaking Caffe2 thread-pool after fork. (function pthreadpool)\n",
      "[W pthreadpool-cpp.cc:90] Warning: Leaking Caffe2 thread-pool after fork. (function pthreadpool)\n",
      "[W pthreadpool-cpp.cc:90] Warning: Leaking Caffe2 thread-pool after fork. (function pthreadpool)\n",
      "[W pthreadpool-cpp.cc:90] Warning: Leaking Caffe2 thread-pool after fork. (function pthreadpool)\n"
     ]
    },
    {
     "name": "stdout",
     "output_type": "stream",
     "text": [
      "[Epoch 17] Average Test Loss: 0.00010057129859924316\n",
      "[Epoch 17] Average Loss: 1.7375484704971315e-05\n"
     ]
    },
    {
     "name": "stderr",
     "output_type": "stream",
     "text": [
      "[W pthreadpool-cpp.cc:90] Warning: Leaking Caffe2 thread-pool after fork. (function pthreadpool)\n",
      "[W pthreadpool-cpp.cc:90] Warning: Leaking Caffe2 thread-pool after fork. (function pthreadpool)\n"
     ]
    },
    {
     "name": "stdout",
     "output_type": "stream",
     "text": [
      "[Epoch 17] Train Accuracy :0.72888\n"
     ]
    },
    {
     "name": "stderr",
     "output_type": "stream",
     "text": [
      "[W pthreadpool-cpp.cc:90] Warning: Leaking Caffe2 thread-pool after fork. (function pthreadpool)\n",
      "[W pthreadpool-cpp.cc:90] Warning: Leaking Caffe2 thread-pool after fork. (function pthreadpool)\n"
     ]
    },
    {
     "name": "stdout",
     "output_type": "stream",
     "text": [
      "[Epoch 17] Test Accuracy :0.6613\n"
     ]
    },
    {
     "name": "stderr",
     "output_type": "stream",
     "text": [
      "[W pthreadpool-cpp.cc:90] Warning: Leaking Caffe2 thread-pool after fork. (function pthreadpool)\n",
      "[W pthreadpool-cpp.cc:90] Warning: Leaking Caffe2 thread-pool after fork. (function pthreadpool)\n",
      "[W pthreadpool-cpp.cc:90] Warning: Leaking Caffe2 thread-pool after fork. (function pthreadpool)\n",
      "[W pthreadpool-cpp.cc:90] Warning: Leaking Caffe2 thread-pool after fork. (function pthreadpool)\n"
     ]
    },
    {
     "name": "stdout",
     "output_type": "stream",
     "text": [
      "[Epoch 18] Average Test Loss: 9.7963547706604e-05\n",
      "[Epoch 18] Average Loss: 1.4627296924591064e-05\n"
     ]
    },
    {
     "name": "stderr",
     "output_type": "stream",
     "text": [
      "[W pthreadpool-cpp.cc:90] Warning: Leaking Caffe2 thread-pool after fork. (function pthreadpool)\n",
      "[W pthreadpool-cpp.cc:90] Warning: Leaking Caffe2 thread-pool after fork. (function pthreadpool)\n"
     ]
    },
    {
     "name": "stdout",
     "output_type": "stream",
     "text": [
      "[Epoch 18] Train Accuracy :0.73186\n"
     ]
    },
    {
     "name": "stderr",
     "output_type": "stream",
     "text": [
      "[W pthreadpool-cpp.cc:90] Warning: Leaking Caffe2 thread-pool after fork. (function pthreadpool)\n",
      "[W pthreadpool-cpp.cc:90] Warning: Leaking Caffe2 thread-pool after fork. (function pthreadpool)\n",
      "[W pthreadpool-cpp.cc:90] Warning: Leaking Caffe2 thread-pool after fork. (function pthreadpool)\n",
      "[W pthreadpool-cpp.cc:90] Warning: Leaking Caffe2 thread-pool after fork. (function pthreadpool)\n"
     ]
    },
    {
     "name": "stdout",
     "output_type": "stream",
     "text": [
      "[Epoch 19] Average Test Loss: 8.796430230140686e-05\n",
      "[Epoch 19] Average Loss: 1.40700364112854e-05\n"
     ]
    },
    {
     "name": "stderr",
     "output_type": "stream",
     "text": [
      "[W pthreadpool-cpp.cc:90] Warning: Leaking Caffe2 thread-pool after fork. (function pthreadpool)\n",
      "[W pthreadpool-cpp.cc:90] Warning: Leaking Caffe2 thread-pool after fork. (function pthreadpool)\n"
     ]
    },
    {
     "name": "stdout",
     "output_type": "stream",
     "text": [
      "[Epoch 19] Train Accuracy :0.74436\n"
     ]
    },
    {
     "name": "stderr",
     "output_type": "stream",
     "text": [
      "[W pthreadpool-cpp.cc:90] Warning: Leaking Caffe2 thread-pool after fork. (function pthreadpool)\n",
      "[W pthreadpool-cpp.cc:90] Warning: Leaking Caffe2 thread-pool after fork. (function pthreadpool)\n"
     ]
    },
    {
     "name": "stdout",
     "output_type": "stream",
     "text": [
      "[Epoch 19] Test Accuracy :0.6706\n"
     ]
    },
    {
     "name": "stderr",
     "output_type": "stream",
     "text": [
      "[W pthreadpool-cpp.cc:90] Warning: Leaking Caffe2 thread-pool after fork. (function pthreadpool)\n",
      "[W pthreadpool-cpp.cc:90] Warning: Leaking Caffe2 thread-pool after fork. (function pthreadpool)\n",
      "[W pthreadpool-cpp.cc:90] Warning: Leaking Caffe2 thread-pool after fork. (function pthreadpool)\n",
      "[W pthreadpool-cpp.cc:90] Warning: Leaking Caffe2 thread-pool after fork. (function pthreadpool)\n"
     ]
    },
    {
     "name": "stdout",
     "output_type": "stream",
     "text": [
      "[Epoch 20] Average Test Loss: 8.724387288093567e-05\n",
      "[Epoch 20] Average Loss: 1.7252652645111084e-05\n"
     ]
    },
    {
     "name": "stderr",
     "output_type": "stream",
     "text": [
      "[W pthreadpool-cpp.cc:90] Warning: Leaking Caffe2 thread-pool after fork. (function pthreadpool)\n",
      "[W pthreadpool-cpp.cc:90] Warning: Leaking Caffe2 thread-pool after fork. (function pthreadpool)\n"
     ]
    },
    {
     "name": "stdout",
     "output_type": "stream",
     "text": [
      "[Epoch 20] Train Accuracy :0.73716\n"
     ]
    },
    {
     "name": "stderr",
     "output_type": "stream",
     "text": [
      "[W pthreadpool-cpp.cc:90] Warning: Leaking Caffe2 thread-pool after fork. (function pthreadpool)\n",
      "[W pthreadpool-cpp.cc:90] Warning: Leaking Caffe2 thread-pool after fork. (function pthreadpool)\n",
      "[W pthreadpool-cpp.cc:90] Warning: Leaking Caffe2 thread-pool after fork. (function pthreadpool)\n",
      "[W pthreadpool-cpp.cc:90] Warning: Leaking Caffe2 thread-pool after fork. (function pthreadpool)\n"
     ]
    },
    {
     "name": "stdout",
     "output_type": "stream",
     "text": [
      "[Epoch 21] Average Test Loss: 6.570705771446228e-05\n",
      "[Epoch 21] Average Loss: 1.5121893882751465e-05\n"
     ]
    },
    {
     "name": "stderr",
     "output_type": "stream",
     "text": [
      "[W pthreadpool-cpp.cc:90] Warning: Leaking Caffe2 thread-pool after fork. (function pthreadpool)\n",
      "[W pthreadpool-cpp.cc:90] Warning: Leaking Caffe2 thread-pool after fork. (function pthreadpool)\n"
     ]
    },
    {
     "name": "stdout",
     "output_type": "stream",
     "text": [
      "[Epoch 21] Train Accuracy :0.75238\n"
     ]
    },
    {
     "name": "stderr",
     "output_type": "stream",
     "text": [
      "[W pthreadpool-cpp.cc:90] Warning: Leaking Caffe2 thread-pool after fork. (function pthreadpool)\n",
      "[W pthreadpool-cpp.cc:90] Warning: Leaking Caffe2 thread-pool after fork. (function pthreadpool)\n"
     ]
    },
    {
     "name": "stdout",
     "output_type": "stream",
     "text": [
      "[Epoch 21] Test Accuracy :0.6653\n"
     ]
    },
    {
     "name": "stderr",
     "output_type": "stream",
     "text": [
      "[W pthreadpool-cpp.cc:90] Warning: Leaking Caffe2 thread-pool after fork. (function pthreadpool)\n",
      "[W pthreadpool-cpp.cc:90] Warning: Leaking Caffe2 thread-pool after fork. (function pthreadpool)\n",
      "[W pthreadpool-cpp.cc:90] Warning: Leaking Caffe2 thread-pool after fork. (function pthreadpool)\n",
      "[W pthreadpool-cpp.cc:90] Warning: Leaking Caffe2 thread-pool after fork. (function pthreadpool)\n"
     ]
    },
    {
     "name": "stdout",
     "output_type": "stream",
     "text": [
      "[Epoch 22] Average Test Loss: 7.87692129611969e-05\n",
      "[Epoch 22] Average Loss: 1.6823594570159913e-05\n"
     ]
    },
    {
     "name": "stderr",
     "output_type": "stream",
     "text": [
      "[W pthreadpool-cpp.cc:90] Warning: Leaking Caffe2 thread-pool after fork. (function pthreadpool)\n",
      "[W pthreadpool-cpp.cc:90] Warning: Leaking Caffe2 thread-pool after fork. (function pthreadpool)\n"
     ]
    },
    {
     "name": "stdout",
     "output_type": "stream",
     "text": [
      "[Epoch 22] Train Accuracy :0.73302\n"
     ]
    },
    {
     "name": "stderr",
     "output_type": "stream",
     "text": [
      "[W pthreadpool-cpp.cc:90] Warning: Leaking Caffe2 thread-pool after fork. (function pthreadpool)\n",
      "[W pthreadpool-cpp.cc:90] Warning: Leaking Caffe2 thread-pool after fork. (function pthreadpool)\n",
      "[W pthreadpool-cpp.cc:90] Warning: Leaking Caffe2 thread-pool after fork. (function pthreadpool)\n",
      "[W pthreadpool-cpp.cc:90] Warning: Leaking Caffe2 thread-pool after fork. (function pthreadpool)\n"
     ]
    },
    {
     "name": "stdout",
     "output_type": "stream",
     "text": [
      "[Epoch 23] Average Test Loss: 8.629263639450073e-05\n",
      "[Epoch 23] Average Loss: 1.5142958164215088e-05\n"
     ]
    },
    {
     "name": "stderr",
     "output_type": "stream",
     "text": [
      "[W pthreadpool-cpp.cc:90] Warning: Leaking Caffe2 thread-pool after fork. (function pthreadpool)\n",
      "[W pthreadpool-cpp.cc:90] Warning: Leaking Caffe2 thread-pool after fork. (function pthreadpool)\n"
     ]
    },
    {
     "name": "stdout",
     "output_type": "stream",
     "text": [
      "[Epoch 23] Train Accuracy :0.7565\n"
     ]
    },
    {
     "name": "stderr",
     "output_type": "stream",
     "text": [
      "[W pthreadpool-cpp.cc:90] Warning: Leaking Caffe2 thread-pool after fork. (function pthreadpool)\n",
      "[W pthreadpool-cpp.cc:90] Warning: Leaking Caffe2 thread-pool after fork. (function pthreadpool)\n"
     ]
    },
    {
     "name": "stdout",
     "output_type": "stream",
     "text": [
      "[Epoch 23] Test Accuracy :0.6597\n"
     ]
    },
    {
     "name": "stderr",
     "output_type": "stream",
     "text": [
      "[W pthreadpool-cpp.cc:90] Warning: Leaking Caffe2 thread-pool after fork. (function pthreadpool)\n",
      "[W pthreadpool-cpp.cc:90] Warning: Leaking Caffe2 thread-pool after fork. (function pthreadpool)\n",
      "[W pthreadpool-cpp.cc:90] Warning: Leaking Caffe2 thread-pool after fork. (function pthreadpool)\n",
      "[W pthreadpool-cpp.cc:90] Warning: Leaking Caffe2 thread-pool after fork. (function pthreadpool)\n"
     ]
    },
    {
     "name": "stdout",
     "output_type": "stream",
     "text": [
      "[Epoch 24] Average Test Loss: 5.9807664155960085e-05\n",
      "[Epoch 24] Average Loss: 1.3214209079742432e-05\n"
     ]
    },
    {
     "name": "stderr",
     "output_type": "stream",
     "text": [
      "[W pthreadpool-cpp.cc:90] Warning: Leaking Caffe2 thread-pool after fork. (function pthreadpool)\n",
      "[W pthreadpool-cpp.cc:90] Warning: Leaking Caffe2 thread-pool after fork. (function pthreadpool)\n"
     ]
    },
    {
     "name": "stdout",
     "output_type": "stream",
     "text": [
      "[Epoch 24] Train Accuracy :0.75846\n"
     ]
    },
    {
     "name": "stderr",
     "output_type": "stream",
     "text": [
      "[W pthreadpool-cpp.cc:90] Warning: Leaking Caffe2 thread-pool after fork. (function pthreadpool)\n",
      "[W pthreadpool-cpp.cc:90] Warning: Leaking Caffe2 thread-pool after fork. (function pthreadpool)\n",
      "[W pthreadpool-cpp.cc:90] Warning: Leaking Caffe2 thread-pool after fork. (function pthreadpool)\n",
      "[W pthreadpool-cpp.cc:90] Warning: Leaking Caffe2 thread-pool after fork. (function pthreadpool)\n"
     ]
    },
    {
     "name": "stdout",
     "output_type": "stream",
     "text": [
      "[Epoch 25] Average Test Loss: 9.495642185211181e-05\n",
      "[Epoch 25] Average Loss: 1.2620755434036255e-05\n"
     ]
    },
    {
     "name": "stderr",
     "output_type": "stream",
     "text": [
      "[W pthreadpool-cpp.cc:90] Warning: Leaking Caffe2 thread-pool after fork. (function pthreadpool)\n",
      "[W pthreadpool-cpp.cc:90] Warning: Leaking Caffe2 thread-pool after fork. (function pthreadpool)\n"
     ]
    },
    {
     "name": "stdout",
     "output_type": "stream",
     "text": [
      "[Epoch 25] Train Accuracy :0.767\n"
     ]
    },
    {
     "name": "stderr",
     "output_type": "stream",
     "text": [
      "[W pthreadpool-cpp.cc:90] Warning: Leaking Caffe2 thread-pool after fork. (function pthreadpool)\n",
      "[W pthreadpool-cpp.cc:90] Warning: Leaking Caffe2 thread-pool after fork. (function pthreadpool)\n"
     ]
    },
    {
     "name": "stdout",
     "output_type": "stream",
     "text": [
      "[Epoch 25] Test Accuracy :0.6702\n"
     ]
    },
    {
     "name": "stderr",
     "output_type": "stream",
     "text": [
      "[W pthreadpool-cpp.cc:90] Warning: Leaking Caffe2 thread-pool after fork. (function pthreadpool)\n",
      "[W pthreadpool-cpp.cc:90] Warning: Leaking Caffe2 thread-pool after fork. (function pthreadpool)\n",
      "[W pthreadpool-cpp.cc:90] Warning: Leaking Caffe2 thread-pool after fork. (function pthreadpool)\n",
      "[W pthreadpool-cpp.cc:90] Warning: Leaking Caffe2 thread-pool after fork. (function pthreadpool)\n"
     ]
    },
    {
     "name": "stdout",
     "output_type": "stream",
     "text": [
      "[Epoch 26] Average Test Loss: 7.328073382377624e-05\n",
      "[Epoch 26] Average Loss: 1.2885891199111938e-05\n"
     ]
    },
    {
     "name": "stderr",
     "output_type": "stream",
     "text": [
      "[W pthreadpool-cpp.cc:90] Warning: Leaking Caffe2 thread-pool after fork. (function pthreadpool)\n",
      "[W pthreadpool-cpp.cc:90] Warning: Leaking Caffe2 thread-pool after fork. (function pthreadpool)\n"
     ]
    },
    {
     "name": "stdout",
     "output_type": "stream",
     "text": [
      "[Epoch 26] Train Accuracy :0.76278\n"
     ]
    },
    {
     "name": "stderr",
     "output_type": "stream",
     "text": [
      "[W pthreadpool-cpp.cc:90] Warning: Leaking Caffe2 thread-pool after fork. (function pthreadpool)\n",
      "[W pthreadpool-cpp.cc:90] Warning: Leaking Caffe2 thread-pool after fork. (function pthreadpool)\n",
      "[W pthreadpool-cpp.cc:90] Warning: Leaking Caffe2 thread-pool after fork. (function pthreadpool)\n",
      "[W pthreadpool-cpp.cc:90] Warning: Leaking Caffe2 thread-pool after fork. (function pthreadpool)\n"
     ]
    },
    {
     "name": "stdout",
     "output_type": "stream",
     "text": [
      "[Epoch 27] Average Test Loss: 9.206298589706421e-05\n",
      "[Epoch 27] Average Loss: 1.425398588180542e-05\n"
     ]
    },
    {
     "name": "stderr",
     "output_type": "stream",
     "text": [
      "[W pthreadpool-cpp.cc:90] Warning: Leaking Caffe2 thread-pool after fork. (function pthreadpool)\n",
      "[W pthreadpool-cpp.cc:90] Warning: Leaking Caffe2 thread-pool after fork. (function pthreadpool)\n"
     ]
    },
    {
     "name": "stdout",
     "output_type": "stream",
     "text": [
      "[Epoch 27] Train Accuracy :0.76932\n"
     ]
    },
    {
     "name": "stderr",
     "output_type": "stream",
     "text": [
      "[W pthreadpool-cpp.cc:90] Warning: Leaking Caffe2 thread-pool after fork. (function pthreadpool)\n",
      "[W pthreadpool-cpp.cc:90] Warning: Leaking Caffe2 thread-pool after fork. (function pthreadpool)\n"
     ]
    },
    {
     "name": "stdout",
     "output_type": "stream",
     "text": [
      "[Epoch 27] Test Accuracy :0.6664\n"
     ]
    },
    {
     "name": "stderr",
     "output_type": "stream",
     "text": [
      "[W pthreadpool-cpp.cc:90] Warning: Leaking Caffe2 thread-pool after fork. (function pthreadpool)\n",
      "[W pthreadpool-cpp.cc:90] Warning: Leaking Caffe2 thread-pool after fork. (function pthreadpool)\n",
      "[W pthreadpool-cpp.cc:90] Warning: Leaking Caffe2 thread-pool after fork. (function pthreadpool)\n",
      "[W pthreadpool-cpp.cc:90] Warning: Leaking Caffe2 thread-pool after fork. (function pthreadpool)\n"
     ]
    },
    {
     "name": "stdout",
     "output_type": "stream",
     "text": [
      "[Epoch 28] Average Test Loss: 7.530000805854797e-05\n",
      "[Epoch 28] Average Loss: 1.4599373340606689e-05\n"
     ]
    },
    {
     "name": "stderr",
     "output_type": "stream",
     "text": [
      "[W pthreadpool-cpp.cc:90] Warning: Leaking Caffe2 thread-pool after fork. (function pthreadpool)\n",
      "[W pthreadpool-cpp.cc:90] Warning: Leaking Caffe2 thread-pool after fork. (function pthreadpool)\n"
     ]
    },
    {
     "name": "stdout",
     "output_type": "stream",
     "text": [
      "[Epoch 28] Train Accuracy :0.7616\n"
     ]
    },
    {
     "name": "stderr",
     "output_type": "stream",
     "text": [
      "[W pthreadpool-cpp.cc:90] Warning: Leaking Caffe2 thread-pool after fork. (function pthreadpool)\n",
      "[W pthreadpool-cpp.cc:90] Warning: Leaking Caffe2 thread-pool after fork. (function pthreadpool)\n",
      "[W pthreadpool-cpp.cc:90] Warning: Leaking Caffe2 thread-pool after fork. (function pthreadpool)\n",
      "[W pthreadpool-cpp.cc:90] Warning: Leaking Caffe2 thread-pool after fork. (function pthreadpool)\n"
     ]
    },
    {
     "name": "stdout",
     "output_type": "stream",
     "text": [
      "[Epoch 29] Average Test Loss: 9.886900782585144e-05\n",
      "[Epoch 29] Average Loss: 1.447777509689331e-05\n"
     ]
    },
    {
     "name": "stderr",
     "output_type": "stream",
     "text": [
      "[W pthreadpool-cpp.cc:90] Warning: Leaking Caffe2 thread-pool after fork. (function pthreadpool)\n",
      "[W pthreadpool-cpp.cc:90] Warning: Leaking Caffe2 thread-pool after fork. (function pthreadpool)\n"
     ]
    },
    {
     "name": "stdout",
     "output_type": "stream",
     "text": [
      "[Epoch 29] Train Accuracy :0.78076\n"
     ]
    },
    {
     "name": "stderr",
     "output_type": "stream",
     "text": [
      "[W pthreadpool-cpp.cc:90] Warning: Leaking Caffe2 thread-pool after fork. (function pthreadpool)\n",
      "[W pthreadpool-cpp.cc:90] Warning: Leaking Caffe2 thread-pool after fork. (function pthreadpool)\n"
     ]
    },
    {
     "name": "stdout",
     "output_type": "stream",
     "text": [
      "[Epoch 29] Test Accuracy :0.6643\n"
     ]
    },
    {
     "name": "stderr",
     "output_type": "stream",
     "text": [
      "[W pthreadpool-cpp.cc:90] Warning: Leaking Caffe2 thread-pool after fork. (function pthreadpool)\n",
      "[W pthreadpool-cpp.cc:90] Warning: Leaking Caffe2 thread-pool after fork. (function pthreadpool)\n",
      "[W pthreadpool-cpp.cc:90] Warning: Leaking Caffe2 thread-pool after fork. (function pthreadpool)\n",
      "[W pthreadpool-cpp.cc:90] Warning: Leaking Caffe2 thread-pool after fork. (function pthreadpool)\n"
     ]
    },
    {
     "name": "stdout",
     "output_type": "stream",
     "text": [
      "[Epoch 30] Average Test Loss: 9.894325137138366e-05\n",
      "[Epoch 30] Average Loss: 1.2980327606201172e-05\n"
     ]
    },
    {
     "name": "stderr",
     "output_type": "stream",
     "text": [
      "[W pthreadpool-cpp.cc:90] Warning: Leaking Caffe2 thread-pool after fork. (function pthreadpool)\n",
      "[W pthreadpool-cpp.cc:90] Warning: Leaking Caffe2 thread-pool after fork. (function pthreadpool)\n"
     ]
    },
    {
     "name": "stdout",
     "output_type": "stream",
     "text": [
      "[Epoch 30] Train Accuracy :0.75066\n"
     ]
    }
   ],
   "source": [
    "\n",
    "device = torch.device(\"cuda:0\")\n",
    "conv = ImageClassifier().to(device)\n",
    "opt = torch.optim.SGD(conv.parameters(), lr= 1e-2, momentum=.9)\n",
    "ell = torch.nn.CrossEntropyLoss()\n",
    "epochs = 30\n",
    "train_loss_trace_og= []\n",
    "test_loss_trace_og = []\n",
    "train_trace_og = []\n",
    "test_trace_og = []\n",
    "\n",
    "for e in range(epochs):\n",
    "  train_size = 0\n",
    "  for train, target in trainloader:\n",
    "    opt.zero_grad()\n",
    "    p_y = conv(train.to(device))\n",
    "    train_size += train.size(0)\n",
    "    loss = ell(p_y, target.to(device))\n",
    "    train_loss_trace_og.append(loss.detach().item())      \n",
    "    loss.backward()\n",
    "    opt.step()\n",
    "  test_size = test_loss(conv, testloader, test_loss_trace_og, ell)\n",
    "  print(f'[Epoch {e + 1}] Average Test Loss: {test_loss_trace_og[-1]/test_size}')\n",
    "  print(f'[Epoch {e + 1}] Average Loss: {train_loss_trace_og[-1]/train_size}')\n",
    "  train_acc = accuracy(conv, trainloader)\n",
    "  train_trace_og.append(train_acc)  \n",
    "  print(f'[Epoch {e + 1}] Train Accuracy :{train_acc}')\n",
    "  if e%2 == 0:\n",
    "    test_acc = accuracy(conv, testloader)\n",
    "    test_trace_og.append(test_acc)\n",
    "    print(f'[Epoch {e + 1}] Test Accuracy :{test_acc}')\n",
    "\n",
    "  "
   ]
  },
  {
   "cell_type": "markdown",
   "metadata": {
    "id": "gTBmtwAkSdCa"
   },
   "source": [
    "## Part E: Examining Your Results\n",
    "\n",
    "Take the stored training and testing evaluations from the previous question and make two plots:\n",
    "  1. A plot of loss vs. time including curves for both training and testing,\n",
    "  2. A plot of accuracy vs. time including curves for both training and testing.\n",
    "\n",
    "You should see the gap between the performance of your model start to increase as training progresses. This gap is referred to as the _generalization gap_. Why do you think the generalization gap grows later in training, and why might this be an issue for neural networks specifically.\n",
    "\n",
    "\n",
    "Please use the following function to compute the accuracy of your trained network - you should **not** need to modify this function."
   ]
  },
  {
   "cell_type": "code",
   "execution_count": 22,
   "metadata": {
    "id": "zbMZij2n-gvI"
   },
   "outputs": [],
   "source": [
    "def cifar_accuracy(net, loader):\n",
    "    acc = 0\n",
    "    total_num = 0\n",
    "    for inputs, labels in loader:\n",
    "        inputs, labels = inputs.cuda(), labels.cuda()\n",
    "        total_num += inputs.shape[0]\n",
    "        with torch.no_grad():\n",
    "            outputs = net(inputs)\n",
    "\n",
    "            _, predicted = torch.max(outputs.data, 1)\n",
    "            acc += (predicted == labels).sum().item()\n",
    "\n",
    "    return acc/total_num\n"
   ]
  },
  {
   "cell_type": "markdown",
   "metadata": {
    "id": "rguYABcEa9mc"
   },
   "source": [
    "**Answer Here**"
   ]
  },
  {
   "cell_type": "code",
   "execution_count": 23,
   "metadata": {
    "id": "uJZ10P28GuxN"
   },
   "outputs": [
    {
     "data": {
      "text/plain": [
       "2370"
      ]
     },
     "execution_count": 23,
     "metadata": {},
     "output_type": "execute_result"
    }
   ],
   "source": [
    "len(test_loss_trace_og)"
   ]
  },
  {
   "cell_type": "code",
   "execution_count": 24,
   "metadata": {
    "id": "rpnlvLlraLCy"
   },
   "outputs": [
    {
     "data": {
      "image/png": "[encoded data removed]",
      "text/plain": [
       "<Figure size 432x288 with 1 Axes>"
      ]
     },
     "metadata": {
      "needs_background": "light"
     },
     "output_type": "display_data"
    },
    {
     "data": {
      "image/png": "[encoded data removed]",
      "text/plain": [
       "<Figure size 432x288 with 1 Axes>"
      ]
     },
     "metadata": {
      "needs_background": "light"
     },
     "output_type": "display_data"
    }
   ],
   "source": [
    "plt.figure()\n",
    "plt.plot(train_loss_trace_og)\n",
    "plt.plot(range(0, 2370*5,5),test_loss_trace_og)\n",
    "plt.figure()\n",
    "plt.plot(train_trace_og)\n",
    "plt.plot(range(0, 30, 2), test_trace_og)\n",
    "plt.show()"
   ]
  },
  {
   "cell_type": "markdown",
   "metadata": {
    "id": "CbHzDO-M_5wM"
   },
   "source": [
    "## Part F: Closing the generalization gap\n",
    "\n",
    "Re-initialize and re-train your CNN in a way that will reduce the overall generalization gap. There are a lot of ways you can do this, including writing your own custom loss function to use, or simply making the right modifications to the optimizer you are using. \n",
    "\n",
    "Again make the following two plots:\n",
    "  1. A plot of loss vs. time including curves for both training and testing,\n",
    "  2. A plot of accuracy vs. time including curves for both training and testing.\n",
    "\n",
    "What do you observe?\n",
    "\n",
    "A note: you may not see dramatic improvement here, because we are using a fairly small model, however this type of thinking and the problem of closing the generalization gap is an important consideration in how we train very large state of the art models.\n",
    "\n",
    "**Answer Here**"
   ]
  },
  {
   "cell_type": "code",
   "execution_count": 25,
   "metadata": {
    "id": "dK5C4thnSUgF"
   },
   "outputs": [
    {
     "name": "stderr",
     "output_type": "stream",
     "text": [
      "[W pthreadpool-cpp.cc:90] Warning: Leaking Caffe2 thread-pool after fork. (function pthreadpool)\n",
      "[W pthreadpool-cpp.cc:90] Warning: Leaking Caffe2 thread-pool after fork. (function pthreadpool)\n",
      "[W pthreadpool-cpp.cc:90] Warning: Leaking Caffe2 thread-pool after fork. (function pthreadpool)\n",
      "[W pthreadpool-cpp.cc:90] Warning: Leaking Caffe2 thread-pool after fork. (function pthreadpool)\n"
     ]
    },
    {
     "name": "stdout",
     "output_type": "stream",
     "text": [
      "[Epoch 1]Average Test Loss: 0.0001978595733642578\n",
      "[Epoch 1]Average Train Loss: 4.3362774848937985e-05\n"
     ]
    },
    {
     "name": "stderr",
     "output_type": "stream",
     "text": [
      "[W pthreadpool-cpp.cc:90] Warning: Leaking Caffe2 thread-pool after fork. (function pthreadpool)\n",
      "[W pthreadpool-cpp.cc:90] Warning: Leaking Caffe2 thread-pool after fork. (function pthreadpool)\n"
     ]
    },
    {
     "name": "stdout",
     "output_type": "stream",
     "text": [
      "[Epoch 1] Train Accuracy :0.17284\n"
     ]
    },
    {
     "name": "stderr",
     "output_type": "stream",
     "text": [
      "[W pthreadpool-cpp.cc:90] Warning: Leaking Caffe2 thread-pool after fork. (function pthreadpool)\n",
      "[W pthreadpool-cpp.cc:90] Warning: Leaking Caffe2 thread-pool after fork. (function pthreadpool)\n"
     ]
    },
    {
     "name": "stdout",
     "output_type": "stream",
     "text": [
      "[Epoch 1] Test Accuracy :0.1678\n"
     ]
    },
    {
     "name": "stderr",
     "output_type": "stream",
     "text": [
      "[W pthreadpool-cpp.cc:90] Warning: Leaking Caffe2 thread-pool after fork. (function pthreadpool)\n",
      "[W pthreadpool-cpp.cc:90] Warning: Leaking Caffe2 thread-pool after fork. (function pthreadpool)\n",
      "[W pthreadpool-cpp.cc:90] Warning: Leaking Caffe2 thread-pool after fork. (function pthreadpool)\n",
      "[W pthreadpool-cpp.cc:90] Warning: Leaking Caffe2 thread-pool after fork. (function pthreadpool)\n"
     ]
    },
    {
     "name": "stdout",
     "output_type": "stream",
     "text": [
      "[Epoch 2]Average Test Loss: 0.00015655156373977662\n",
      "[Epoch 2]Average Train Loss: 3.897901058197022e-05\n"
     ]
    },
    {
     "name": "stderr",
     "output_type": "stream",
     "text": [
      "[W pthreadpool-cpp.cc:90] Warning: Leaking Caffe2 thread-pool after fork. (function pthreadpool)\n",
      "[W pthreadpool-cpp.cc:90] Warning: Leaking Caffe2 thread-pool after fork. (function pthreadpool)\n"
     ]
    },
    {
     "name": "stdout",
     "output_type": "stream",
     "text": [
      "[Epoch 2] Train Accuracy :0.33414\n"
     ]
    },
    {
     "name": "stderr",
     "output_type": "stream",
     "text": [
      "[W pthreadpool-cpp.cc:90] Warning: Leaking Caffe2 thread-pool after fork. (function pthreadpool)\n",
      "[W pthreadpool-cpp.cc:90] Warning: Leaking Caffe2 thread-pool after fork. (function pthreadpool)\n",
      "[W pthreadpool-cpp.cc:90] Warning: Leaking Caffe2 thread-pool after fork. (function pthreadpool)\n",
      "[W pthreadpool-cpp.cc:90] Warning: Leaking Caffe2 thread-pool after fork. (function pthreadpool)\n"
     ]
    },
    {
     "name": "stdout",
     "output_type": "stream",
     "text": [
      "[Epoch 3]Average Test Loss: 0.0001323152780532837\n",
      "[Epoch 3]Average Train Loss: 3.093945741653442e-05\n"
     ]
    },
    {
     "name": "stderr",
     "output_type": "stream",
     "text": [
      "[W pthreadpool-cpp.cc:90] Warning: Leaking Caffe2 thread-pool after fork. (function pthreadpool)\n",
      "[W pthreadpool-cpp.cc:90] Warning: Leaking Caffe2 thread-pool after fork. (function pthreadpool)\n"
     ]
    },
    {
     "name": "stdout",
     "output_type": "stream",
     "text": [
      "[Epoch 3] Train Accuracy :0.408\n"
     ]
    },
    {
     "name": "stderr",
     "output_type": "stream",
     "text": [
      "[W pthreadpool-cpp.cc:90] Warning: Leaking Caffe2 thread-pool after fork. (function pthreadpool)\n",
      "[W pthreadpool-cpp.cc:90] Warning: Leaking Caffe2 thread-pool after fork. (function pthreadpool)\n"
     ]
    },
    {
     "name": "stdout",
     "output_type": "stream",
     "text": [
      "[Epoch 3] Test Accuracy :0.4038\n"
     ]
    },
    {
     "name": "stderr",
     "output_type": "stream",
     "text": [
      "[W pthreadpool-cpp.cc:90] Warning: Leaking Caffe2 thread-pool after fork. (function pthreadpool)\n",
      "[W pthreadpool-cpp.cc:90] Warning: Leaking Caffe2 thread-pool after fork. (function pthreadpool)\n",
      "[W pthreadpool-cpp.cc:90] Warning: Leaking Caffe2 thread-pool after fork. (function pthreadpool)\n",
      "[W pthreadpool-cpp.cc:90] Warning: Leaking Caffe2 thread-pool after fork. (function pthreadpool)\n"
     ]
    },
    {
     "name": "stdout",
     "output_type": "stream",
     "text": [
      "[Epoch 4]Average Test Loss: 0.0001323588490486145\n",
      "[Epoch 4]Average Train Loss: 2.784353256225586e-05\n"
     ]
    },
    {
     "name": "stderr",
     "output_type": "stream",
     "text": [
      "[W pthreadpool-cpp.cc:90] Warning: Leaking Caffe2 thread-pool after fork. (function pthreadpool)\n",
      "[W pthreadpool-cpp.cc:90] Warning: Leaking Caffe2 thread-pool after fork. (function pthreadpool)\n"
     ]
    },
    {
     "name": "stdout",
     "output_type": "stream",
     "text": [
      "[Epoch 4] Train Accuracy :0.47082\n"
     ]
    },
    {
     "name": "stderr",
     "output_type": "stream",
     "text": [
      "[W pthreadpool-cpp.cc:90] Warning: Leaking Caffe2 thread-pool after fork. (function pthreadpool)\n",
      "[W pthreadpool-cpp.cc:90] Warning: Leaking Caffe2 thread-pool after fork. (function pthreadpool)\n",
      "[W pthreadpool-cpp.cc:90] Warning: Leaking Caffe2 thread-pool after fork. (function pthreadpool)\n",
      "[W pthreadpool-cpp.cc:90] Warning: Leaking Caffe2 thread-pool after fork. (function pthreadpool)\n"
     ]
    },
    {
     "name": "stdout",
     "output_type": "stream",
     "text": [
      "[Epoch 5]Average Test Loss: 0.00012135728597640991\n",
      "[Epoch 5]Average Train Loss: 2.8606131076812744e-05\n"
     ]
    },
    {
     "name": "stderr",
     "output_type": "stream",
     "text": [
      "[W pthreadpool-cpp.cc:90] Warning: Leaking Caffe2 thread-pool after fork. (function pthreadpool)\n",
      "[W pthreadpool-cpp.cc:90] Warning: Leaking Caffe2 thread-pool after fork. (function pthreadpool)\n"
     ]
    },
    {
     "name": "stdout",
     "output_type": "stream",
     "text": [
      "[Epoch 5] Train Accuracy :0.49918\n"
     ]
    },
    {
     "name": "stderr",
     "output_type": "stream",
     "text": [
      "[W pthreadpool-cpp.cc:90] Warning: Leaking Caffe2 thread-pool after fork. (function pthreadpool)\n",
      "[W pthreadpool-cpp.cc:90] Warning: Leaking Caffe2 thread-pool after fork. (function pthreadpool)\n"
     ]
    },
    {
     "name": "stdout",
     "output_type": "stream",
     "text": [
      "[Epoch 5] Test Accuracy :0.4888\n"
     ]
    },
    {
     "name": "stderr",
     "output_type": "stream",
     "text": [
      "[W pthreadpool-cpp.cc:90] Warning: Leaking Caffe2 thread-pool after fork. (function pthreadpool)\n",
      "[W pthreadpool-cpp.cc:90] Warning: Leaking Caffe2 thread-pool after fork. (function pthreadpool)\n",
      "[W pthreadpool-cpp.cc:90] Warning: Leaking Caffe2 thread-pool after fork. (function pthreadpool)\n",
      "[W pthreadpool-cpp.cc:90] Warning: Leaking Caffe2 thread-pool after fork. (function pthreadpool)\n"
     ]
    },
    {
     "name": "stdout",
     "output_type": "stream",
     "text": [
      "[Epoch 6]Average Test Loss: 0.000130207097530365\n",
      "[Epoch 6]Average Train Loss: 2.5286200046539306e-05\n"
     ]
    },
    {
     "name": "stderr",
     "output_type": "stream",
     "text": [
      "[W pthreadpool-cpp.cc:90] Warning: Leaking Caffe2 thread-pool after fork. (function pthreadpool)\n",
      "[W pthreadpool-cpp.cc:90] Warning: Leaking Caffe2 thread-pool after fork. (function pthreadpool)\n"
     ]
    },
    {
     "name": "stdout",
     "output_type": "stream",
     "text": [
      "[Epoch 6] Train Accuracy :0.5456\n"
     ]
    },
    {
     "name": "stderr",
     "output_type": "stream",
     "text": [
      "[W pthreadpool-cpp.cc:90] Warning: Leaking Caffe2 thread-pool after fork. (function pthreadpool)\n",
      "[W pthreadpool-cpp.cc:90] Warning: Leaking Caffe2 thread-pool after fork. (function pthreadpool)\n",
      "[W pthreadpool-cpp.cc:90] Warning: Leaking Caffe2 thread-pool after fork. (function pthreadpool)\n",
      "[W pthreadpool-cpp.cc:90] Warning: Leaking Caffe2 thread-pool after fork. (function pthreadpool)\n"
     ]
    },
    {
     "name": "stdout",
     "output_type": "stream",
     "text": [
      "[Epoch 7]Average Test Loss: 0.00013431403636932372\n",
      "[Epoch 7]Average Train Loss: 2.2256145477294922e-05\n"
     ]
    },
    {
     "name": "stderr",
     "output_type": "stream",
     "text": [
      "[W pthreadpool-cpp.cc:90] Warning: Leaking Caffe2 thread-pool after fork. (function pthreadpool)\n",
      "[W pthreadpool-cpp.cc:90] Warning: Leaking Caffe2 thread-pool after fork. (function pthreadpool)\n"
     ]
    },
    {
     "name": "stdout",
     "output_type": "stream",
     "text": [
      "[Epoch 7] Train Accuracy :0.56384\n"
     ]
    },
    {
     "name": "stderr",
     "output_type": "stream",
     "text": [
      "[W pthreadpool-cpp.cc:90] Warning: Leaking Caffe2 thread-pool after fork. (function pthreadpool)\n",
      "[W pthreadpool-cpp.cc:90] Warning: Leaking Caffe2 thread-pool after fork. (function pthreadpool)\n"
     ]
    },
    {
     "name": "stdout",
     "output_type": "stream",
     "text": [
      "[Epoch 7] Test Accuracy :0.5491\n"
     ]
    },
    {
     "name": "stderr",
     "output_type": "stream",
     "text": [
      "[W pthreadpool-cpp.cc:90] Warning: Leaking Caffe2 thread-pool after fork. (function pthreadpool)\n",
      "[W pthreadpool-cpp.cc:90] Warning: Leaking Caffe2 thread-pool after fork. (function pthreadpool)\n",
      "[W pthreadpool-cpp.cc:90] Warning: Leaking Caffe2 thread-pool after fork. (function pthreadpool)\n",
      "[W pthreadpool-cpp.cc:90] Warning: Leaking Caffe2 thread-pool after fork. (function pthreadpool)\n"
     ]
    },
    {
     "name": "stdout",
     "output_type": "stream",
     "text": [
      "[Epoch 8]Average Test Loss: 0.00013417794704437256\n",
      "[Epoch 8]Average Train Loss: 2.311849355697632e-05\n"
     ]
    },
    {
     "name": "stderr",
     "output_type": "stream",
     "text": [
      "[W pthreadpool-cpp.cc:90] Warning: Leaking Caffe2 thread-pool after fork. (function pthreadpool)\n",
      "[W pthreadpool-cpp.cc:90] Warning: Leaking Caffe2 thread-pool after fork. (function pthreadpool)\n"
     ]
    },
    {
     "name": "stdout",
     "output_type": "stream",
     "text": [
      "[Epoch 8] Train Accuracy :0.58506\n"
     ]
    },
    {
     "name": "stderr",
     "output_type": "stream",
     "text": [
      "[W pthreadpool-cpp.cc:90] Warning: Leaking Caffe2 thread-pool after fork. (function pthreadpool)\n",
      "[W pthreadpool-cpp.cc:90] Warning: Leaking Caffe2 thread-pool after fork. (function pthreadpool)\n",
      "[W pthreadpool-cpp.cc:90] Warning: Leaking Caffe2 thread-pool after fork. (function pthreadpool)\n",
      "[W pthreadpool-cpp.cc:90] Warning: Leaking Caffe2 thread-pool after fork. (function pthreadpool)\n"
     ]
    },
    {
     "name": "stdout",
     "output_type": "stream",
     "text": [
      "[Epoch 9]Average Test Loss: 0.00012165166139602662\n",
      "[Epoch 9]Average Train Loss: 2.240326404571533e-05\n"
     ]
    },
    {
     "name": "stderr",
     "output_type": "stream",
     "text": [
      "[W pthreadpool-cpp.cc:90] Warning: Leaking Caffe2 thread-pool after fork. (function pthreadpool)\n",
      "[W pthreadpool-cpp.cc:90] Warning: Leaking Caffe2 thread-pool after fork. (function pthreadpool)\n"
     ]
    },
    {
     "name": "stdout",
     "output_type": "stream",
     "text": [
      "[Epoch 9] Train Accuracy :0.59548\n"
     ]
    },
    {
     "name": "stderr",
     "output_type": "stream",
     "text": [
      "[W pthreadpool-cpp.cc:90] Warning: Leaking Caffe2 thread-pool after fork. (function pthreadpool)\n",
      "[W pthreadpool-cpp.cc:90] Warning: Leaking Caffe2 thread-pool after fork. (function pthreadpool)\n"
     ]
    },
    {
     "name": "stdout",
     "output_type": "stream",
     "text": [
      "[Epoch 9] Test Accuracy :0.5784\n"
     ]
    },
    {
     "name": "stderr",
     "output_type": "stream",
     "text": [
      "[W pthreadpool-cpp.cc:90] Warning: Leaking Caffe2 thread-pool after fork. (function pthreadpool)\n",
      "[W pthreadpool-cpp.cc:90] Warning: Leaking Caffe2 thread-pool after fork. (function pthreadpool)\n",
      "[W pthreadpool-cpp.cc:90] Warning: Leaking Caffe2 thread-pool after fork. (function pthreadpool)\n",
      "[W pthreadpool-cpp.cc:90] Warning: Leaking Caffe2 thread-pool after fork. (function pthreadpool)\n"
     ]
    },
    {
     "name": "stdout",
     "output_type": "stream",
     "text": [
      "[Epoch 10]Average Test Loss: 0.00011707619428634644\n",
      "[Epoch 10]Average Train Loss: 2.410583734512329e-05\n"
     ]
    },
    {
     "name": "stderr",
     "output_type": "stream",
     "text": [
      "[W pthreadpool-cpp.cc:90] Warning: Leaking Caffe2 thread-pool after fork. (function pthreadpool)\n",
      "[W pthreadpool-cpp.cc:90] Warning: Leaking Caffe2 thread-pool after fork. (function pthreadpool)\n"
     ]
    },
    {
     "name": "stdout",
     "output_type": "stream",
     "text": [
      "[Epoch 10] Train Accuracy :0.5943\n"
     ]
    },
    {
     "name": "stderr",
     "output_type": "stream",
     "text": [
      "[W pthreadpool-cpp.cc:90] Warning: Leaking Caffe2 thread-pool after fork. (function pthreadpool)\n",
      "[W pthreadpool-cpp.cc:90] Warning: Leaking Caffe2 thread-pool after fork. (function pthreadpool)\n",
      "[W pthreadpool-cpp.cc:90] Warning: Leaking Caffe2 thread-pool after fork. (function pthreadpool)\n",
      "[W pthreadpool-cpp.cc:90] Warning: Leaking Caffe2 thread-pool after fork. (function pthreadpool)\n"
     ]
    },
    {
     "name": "stdout",
     "output_type": "stream",
     "text": [
      "[Epoch 11]Average Test Loss: 0.00011222013235092164\n",
      "[Epoch 11]Average Train Loss: 2.427335739135742e-05\n"
     ]
    },
    {
     "name": "stderr",
     "output_type": "stream",
     "text": [
      "[W pthreadpool-cpp.cc:90] Warning: Leaking Caffe2 thread-pool after fork. (function pthreadpool)\n",
      "[W pthreadpool-cpp.cc:90] Warning: Leaking Caffe2 thread-pool after fork. (function pthreadpool)\n"
     ]
    },
    {
     "name": "stdout",
     "output_type": "stream",
     "text": [
      "[Epoch 11] Train Accuracy :0.62682\n"
     ]
    },
    {
     "name": "stderr",
     "output_type": "stream",
     "text": [
      "[W pthreadpool-cpp.cc:90] Warning: Leaking Caffe2 thread-pool after fork. (function pthreadpool)\n",
      "[W pthreadpool-cpp.cc:90] Warning: Leaking Caffe2 thread-pool after fork. (function pthreadpool)\n"
     ]
    },
    {
     "name": "stdout",
     "output_type": "stream",
     "text": [
      "[Epoch 11] Test Accuracy :0.6075\n"
     ]
    },
    {
     "name": "stderr",
     "output_type": "stream",
     "text": [
      "[W pthreadpool-cpp.cc:90] Warning: Leaking Caffe2 thread-pool after fork. (function pthreadpool)\n",
      "[W pthreadpool-cpp.cc:90] Warning: Leaking Caffe2 thread-pool after fork. (function pthreadpool)\n",
      "[W pthreadpool-cpp.cc:90] Warning: Leaking Caffe2 thread-pool after fork. (function pthreadpool)\n",
      "[W pthreadpool-cpp.cc:90] Warning: Leaking Caffe2 thread-pool after fork. (function pthreadpool)\n"
     ]
    },
    {
     "name": "stdout",
     "output_type": "stream",
     "text": [
      "[Epoch 12]Average Test Loss: 9.163345098495483e-05\n",
      "[Epoch 12]Average Train Loss: 1.7381356954574584e-05\n"
     ]
    },
    {
     "name": "stderr",
     "output_type": "stream",
     "text": [
      "[W pthreadpool-cpp.cc:90] Warning: Leaking Caffe2 thread-pool after fork. (function pthreadpool)\n",
      "[W pthreadpool-cpp.cc:90] Warning: Leaking Caffe2 thread-pool after fork. (function pthreadpool)\n"
     ]
    },
    {
     "name": "stdout",
     "output_type": "stream",
     "text": [
      "[Epoch 12] Train Accuracy :0.62696\n"
     ]
    },
    {
     "name": "stderr",
     "output_type": "stream",
     "text": [
      "[W pthreadpool-cpp.cc:90] Warning: Leaking Caffe2 thread-pool after fork. (function pthreadpool)\n",
      "[W pthreadpool-cpp.cc:90] Warning: Leaking Caffe2 thread-pool after fork. (function pthreadpool)\n",
      "[W pthreadpool-cpp.cc:90] Warning: Leaking Caffe2 thread-pool after fork. (function pthreadpool)\n",
      "[W pthreadpool-cpp.cc:90] Warning: Leaking Caffe2 thread-pool after fork. (function pthreadpool)\n"
     ]
    },
    {
     "name": "stdout",
     "output_type": "stream",
     "text": [
      "[Epoch 13]Average Test Loss: 0.00011929622888565063\n",
      "[Epoch 13]Average Train Loss: 2.1637516021728517e-05\n"
     ]
    },
    {
     "name": "stderr",
     "output_type": "stream",
     "text": [
      "[W pthreadpool-cpp.cc:90] Warning: Leaking Caffe2 thread-pool after fork. (function pthreadpool)\n",
      "[W pthreadpool-cpp.cc:90] Warning: Leaking Caffe2 thread-pool after fork. (function pthreadpool)\n"
     ]
    },
    {
     "name": "stdout",
     "output_type": "stream",
     "text": [
      "[Epoch 13] Train Accuracy :0.5989\n"
     ]
    },
    {
     "name": "stderr",
     "output_type": "stream",
     "text": [
      "[W pthreadpool-cpp.cc:90] Warning: Leaking Caffe2 thread-pool after fork. (function pthreadpool)\n",
      "[W pthreadpool-cpp.cc:90] Warning: Leaking Caffe2 thread-pool after fork. (function pthreadpool)\n"
     ]
    },
    {
     "name": "stdout",
     "output_type": "stream",
     "text": [
      "[Epoch 13] Test Accuracy :0.5848\n"
     ]
    },
    {
     "name": "stderr",
     "output_type": "stream",
     "text": [
      "[W pthreadpool-cpp.cc:90] Warning: Leaking Caffe2 thread-pool after fork. (function pthreadpool)\n",
      "[W pthreadpool-cpp.cc:90] Warning: Leaking Caffe2 thread-pool after fork. (function pthreadpool)\n",
      "[W pthreadpool-cpp.cc:90] Warning: Leaking Caffe2 thread-pool after fork. (function pthreadpool)\n",
      "[W pthreadpool-cpp.cc:90] Warning: Leaking Caffe2 thread-pool after fork. (function pthreadpool)\n"
     ]
    },
    {
     "name": "stdout",
     "output_type": "stream",
     "text": [
      "[Epoch 14]Average Test Loss: 0.00011827248334884643\n",
      "[Epoch 14]Average Train Loss: 1.8205101490020753e-05\n"
     ]
    },
    {
     "name": "stderr",
     "output_type": "stream",
     "text": [
      "[W pthreadpool-cpp.cc:90] Warning: Leaking Caffe2 thread-pool after fork. (function pthreadpool)\n",
      "[W pthreadpool-cpp.cc:90] Warning: Leaking Caffe2 thread-pool after fork. (function pthreadpool)\n"
     ]
    },
    {
     "name": "stdout",
     "output_type": "stream",
     "text": [
      "[Epoch 14] Train Accuracy :0.64692\n"
     ]
    },
    {
     "name": "stderr",
     "output_type": "stream",
     "text": [
      "[W pthreadpool-cpp.cc:90] Warning: Leaking Caffe2 thread-pool after fork. (function pthreadpool)\n",
      "[W pthreadpool-cpp.cc:90] Warning: Leaking Caffe2 thread-pool after fork. (function pthreadpool)\n",
      "[W pthreadpool-cpp.cc:90] Warning: Leaking Caffe2 thread-pool after fork. (function pthreadpool)\n",
      "[W pthreadpool-cpp.cc:90] Warning: Leaking Caffe2 thread-pool after fork. (function pthreadpool)\n"
     ]
    },
    {
     "name": "stdout",
     "output_type": "stream",
     "text": [
      "[Epoch 15]Average Test Loss: 9.303855895996094e-05\n",
      "[Epoch 15]Average Train Loss: 2.230046272277832e-05\n"
     ]
    },
    {
     "name": "stderr",
     "output_type": "stream",
     "text": [
      "[W pthreadpool-cpp.cc:90] Warning: Leaking Caffe2 thread-pool after fork. (function pthreadpool)\n",
      "[W pthreadpool-cpp.cc:90] Warning: Leaking Caffe2 thread-pool after fork. (function pthreadpool)\n"
     ]
    },
    {
     "name": "stdout",
     "output_type": "stream",
     "text": [
      "[Epoch 15] Train Accuracy :0.6499\n"
     ]
    },
    {
     "name": "stderr",
     "output_type": "stream",
     "text": [
      "[W pthreadpool-cpp.cc:90] Warning: Leaking Caffe2 thread-pool after fork. (function pthreadpool)\n",
      "[W pthreadpool-cpp.cc:90] Warning: Leaking Caffe2 thread-pool after fork. (function pthreadpool)\n"
     ]
    },
    {
     "name": "stdout",
     "output_type": "stream",
     "text": [
      "[Epoch 15] Test Accuracy :0.6205\n"
     ]
    },
    {
     "name": "stderr",
     "output_type": "stream",
     "text": [
      "[W pthreadpool-cpp.cc:90] Warning: Leaking Caffe2 thread-pool after fork. (function pthreadpool)\n",
      "[W pthreadpool-cpp.cc:90] Warning: Leaking Caffe2 thread-pool after fork. (function pthreadpool)\n",
      "[W pthreadpool-cpp.cc:90] Warning: Leaking Caffe2 thread-pool after fork. (function pthreadpool)\n",
      "[W pthreadpool-cpp.cc:90] Warning: Leaking Caffe2 thread-pool after fork. (function pthreadpool)\n"
     ]
    },
    {
     "name": "stdout",
     "output_type": "stream",
     "text": [
      "[Epoch 16]Average Test Loss: 0.00010552818775177002\n",
      "[Epoch 16]Average Train Loss: 1.5744009017944337e-05\n"
     ]
    },
    {
     "name": "stderr",
     "output_type": "stream",
     "text": [
      "[W pthreadpool-cpp.cc:90] Warning: Leaking Caffe2 thread-pool after fork. (function pthreadpool)\n",
      "[W pthreadpool-cpp.cc:90] Warning: Leaking Caffe2 thread-pool after fork. (function pthreadpool)\n"
     ]
    },
    {
     "name": "stdout",
     "output_type": "stream",
     "text": [
      "[Epoch 16] Train Accuracy :0.6667\n"
     ]
    },
    {
     "name": "stderr",
     "output_type": "stream",
     "text": [
      "[W pthreadpool-cpp.cc:90] Warning: Leaking Caffe2 thread-pool after fork. (function pthreadpool)\n",
      "[W pthreadpool-cpp.cc:90] Warning: Leaking Caffe2 thread-pool after fork. (function pthreadpool)\n",
      "[W pthreadpool-cpp.cc:90] Warning: Leaking Caffe2 thread-pool after fork. (function pthreadpool)\n",
      "[W pthreadpool-cpp.cc:90] Warning: Leaking Caffe2 thread-pool after fork. (function pthreadpool)\n"
     ]
    },
    {
     "name": "stdout",
     "output_type": "stream",
     "text": [
      "[Epoch 17]Average Test Loss: 8.750168085098266e-05\n",
      "[Epoch 17]Average Train Loss: 2.1792469024658203e-05\n"
     ]
    },
    {
     "name": "stderr",
     "output_type": "stream",
     "text": [
      "[W pthreadpool-cpp.cc:90] Warning: Leaking Caffe2 thread-pool after fork. (function pthreadpool)\n",
      "[W pthreadpool-cpp.cc:90] Warning: Leaking Caffe2 thread-pool after fork. (function pthreadpool)\n"
     ]
    },
    {
     "name": "stdout",
     "output_type": "stream",
     "text": [
      "[Epoch 17] Train Accuracy :0.66424\n"
     ]
    },
    {
     "name": "stderr",
     "output_type": "stream",
     "text": [
      "[W pthreadpool-cpp.cc:90] Warning: Leaking Caffe2 thread-pool after fork. (function pthreadpool)\n",
      "[W pthreadpool-cpp.cc:90] Warning: Leaking Caffe2 thread-pool after fork. (function pthreadpool)\n"
     ]
    },
    {
     "name": "stdout",
     "output_type": "stream",
     "text": [
      "[Epoch 17] Test Accuracy :0.6347\n"
     ]
    },
    {
     "name": "stderr",
     "output_type": "stream",
     "text": [
      "[W pthreadpool-cpp.cc:90] Warning: Leaking Caffe2 thread-pool after fork. (function pthreadpool)\n",
      "[W pthreadpool-cpp.cc:90] Warning: Leaking Caffe2 thread-pool after fork. (function pthreadpool)\n",
      "[W pthreadpool-cpp.cc:90] Warning: Leaking Caffe2 thread-pool after fork. (function pthreadpool)\n",
      "[W pthreadpool-cpp.cc:90] Warning: Leaking Caffe2 thread-pool after fork. (function pthreadpool)\n"
     ]
    },
    {
     "name": "stdout",
     "output_type": "stream",
     "text": [
      "[Epoch 18]Average Test Loss: 9.29408073425293e-05\n",
      "[Epoch 18]Average Train Loss: 2.0297176837921143e-05\n"
     ]
    },
    {
     "name": "stderr",
     "output_type": "stream",
     "text": [
      "[W pthreadpool-cpp.cc:90] Warning: Leaking Caffe2 thread-pool after fork. (function pthreadpool)\n",
      "[W pthreadpool-cpp.cc:90] Warning: Leaking Caffe2 thread-pool after fork. (function pthreadpool)\n"
     ]
    },
    {
     "name": "stdout",
     "output_type": "stream",
     "text": [
      "[Epoch 18] Train Accuracy :0.66658\n"
     ]
    },
    {
     "name": "stderr",
     "output_type": "stream",
     "text": [
      "[W pthreadpool-cpp.cc:90] Warning: Leaking Caffe2 thread-pool after fork. (function pthreadpool)\n",
      "[W pthreadpool-cpp.cc:90] Warning: Leaking Caffe2 thread-pool after fork. (function pthreadpool)\n",
      "[W pthreadpool-cpp.cc:90] Warning: Leaking Caffe2 thread-pool after fork. (function pthreadpool)\n",
      "[W pthreadpool-cpp.cc:90] Warning: Leaking Caffe2 thread-pool after fork. (function pthreadpool)\n"
     ]
    },
    {
     "name": "stdout",
     "output_type": "stream",
     "text": [
      "[Epoch 19]Average Test Loss: 0.00011532566547393798\n",
      "[Epoch 19]Average Train Loss: 1.968024253845215e-05\n"
     ]
    },
    {
     "name": "stderr",
     "output_type": "stream",
     "text": [
      "[W pthreadpool-cpp.cc:90] Warning: Leaking Caffe2 thread-pool after fork. (function pthreadpool)\n",
      "[W pthreadpool-cpp.cc:90] Warning: Leaking Caffe2 thread-pool after fork. (function pthreadpool)\n"
     ]
    },
    {
     "name": "stdout",
     "output_type": "stream",
     "text": [
      "[Epoch 19] Train Accuracy :0.68844\n"
     ]
    },
    {
     "name": "stderr",
     "output_type": "stream",
     "text": [
      "[W pthreadpool-cpp.cc:90] Warning: Leaking Caffe2 thread-pool after fork. (function pthreadpool)\n",
      "[W pthreadpool-cpp.cc:90] Warning: Leaking Caffe2 thread-pool after fork. (function pthreadpool)\n"
     ]
    },
    {
     "name": "stdout",
     "output_type": "stream",
     "text": [
      "[Epoch 19] Test Accuracy :0.6514\n"
     ]
    },
    {
     "name": "stderr",
     "output_type": "stream",
     "text": [
      "[W pthreadpool-cpp.cc:90] Warning: Leaking Caffe2 thread-pool after fork. (function pthreadpool)\n",
      "[W pthreadpool-cpp.cc:90] Warning: Leaking Caffe2 thread-pool after fork. (function pthreadpool)\n",
      "[W pthreadpool-cpp.cc:90] Warning: Leaking Caffe2 thread-pool after fork. (function pthreadpool)\n",
      "[W pthreadpool-cpp.cc:90] Warning: Leaking Caffe2 thread-pool after fork. (function pthreadpool)\n"
     ]
    },
    {
     "name": "stdout",
     "output_type": "stream",
     "text": [
      "[Epoch 20]Average Test Loss: 9.23904836177826e-05\n",
      "[Epoch 20]Average Train Loss: 1.990694046020508e-05\n"
     ]
    },
    {
     "name": "stderr",
     "output_type": "stream",
     "text": [
      "[W pthreadpool-cpp.cc:90] Warning: Leaking Caffe2 thread-pool after fork. (function pthreadpool)\n",
      "[W pthreadpool-cpp.cc:90] Warning: Leaking Caffe2 thread-pool after fork. (function pthreadpool)\n"
     ]
    },
    {
     "name": "stdout",
     "output_type": "stream",
     "text": [
      "[Epoch 20] Train Accuracy :0.67758\n"
     ]
    },
    {
     "name": "stderr",
     "output_type": "stream",
     "text": [
      "[W pthreadpool-cpp.cc:90] Warning: Leaking Caffe2 thread-pool after fork. (function pthreadpool)\n",
      "[W pthreadpool-cpp.cc:90] Warning: Leaking Caffe2 thread-pool after fork. (function pthreadpool)\n",
      "[W pthreadpool-cpp.cc:90] Warning: Leaking Caffe2 thread-pool after fork. (function pthreadpool)\n",
      "[W pthreadpool-cpp.cc:90] Warning: Leaking Caffe2 thread-pool after fork. (function pthreadpool)\n"
     ]
    },
    {
     "name": "stdout",
     "output_type": "stream",
     "text": [
      "[Epoch 21]Average Test Loss: 0.00011927311420440674\n",
      "[Epoch 21]Average Train Loss: 1.7909796237945556e-05\n"
     ]
    },
    {
     "name": "stderr",
     "output_type": "stream",
     "text": [
      "[W pthreadpool-cpp.cc:90] Warning: Leaking Caffe2 thread-pool after fork. (function pthreadpool)\n",
      "[W pthreadpool-cpp.cc:90] Warning: Leaking Caffe2 thread-pool after fork. (function pthreadpool)\n"
     ]
    },
    {
     "name": "stdout",
     "output_type": "stream",
     "text": [
      "[Epoch 21] Train Accuracy :0.67928\n"
     ]
    },
    {
     "name": "stderr",
     "output_type": "stream",
     "text": [
      "[W pthreadpool-cpp.cc:90] Warning: Leaking Caffe2 thread-pool after fork. (function pthreadpool)\n",
      "[W pthreadpool-cpp.cc:90] Warning: Leaking Caffe2 thread-pool after fork. (function pthreadpool)\n"
     ]
    },
    {
     "name": "stdout",
     "output_type": "stream",
     "text": [
      "[Epoch 21] Test Accuracy :0.6446\n"
     ]
    },
    {
     "name": "stderr",
     "output_type": "stream",
     "text": [
      "[W pthreadpool-cpp.cc:90] Warning: Leaking Caffe2 thread-pool after fork. (function pthreadpool)\n",
      "[W pthreadpool-cpp.cc:90] Warning: Leaking Caffe2 thread-pool after fork. (function pthreadpool)\n",
      "[W pthreadpool-cpp.cc:90] Warning: Leaking Caffe2 thread-pool after fork. (function pthreadpool)\n",
      "[W pthreadpool-cpp.cc:90] Warning: Leaking Caffe2 thread-pool after fork. (function pthreadpool)\n"
     ]
    },
    {
     "name": "stdout",
     "output_type": "stream",
     "text": [
      "[Epoch 22]Average Test Loss: 0.00012562601566314696\n",
      "[Epoch 22]Average Train Loss: 1.74240243434906e-05\n"
     ]
    },
    {
     "name": "stderr",
     "output_type": "stream",
     "text": [
      "[W pthreadpool-cpp.cc:90] Warning: Leaking Caffe2 thread-pool after fork. (function pthreadpool)\n",
      "[W pthreadpool-cpp.cc:90] Warning: Leaking Caffe2 thread-pool after fork. (function pthreadpool)\n"
     ]
    },
    {
     "name": "stdout",
     "output_type": "stream",
     "text": [
      "[Epoch 22] Train Accuracy :0.67232\n"
     ]
    },
    {
     "name": "stderr",
     "output_type": "stream",
     "text": [
      "[W pthreadpool-cpp.cc:90] Warning: Leaking Caffe2 thread-pool after fork. (function pthreadpool)\n",
      "[W pthreadpool-cpp.cc:90] Warning: Leaking Caffe2 thread-pool after fork. (function pthreadpool)\n",
      "[W pthreadpool-cpp.cc:90] Warning: Leaking Caffe2 thread-pool after fork. (function pthreadpool)\n",
      "[W pthreadpool-cpp.cc:90] Warning: Leaking Caffe2 thread-pool after fork. (function pthreadpool)\n"
     ]
    },
    {
     "name": "stdout",
     "output_type": "stream",
     "text": [
      "[Epoch 23]Average Test Loss: 7.578487992286682e-05\n",
      "[Epoch 23]Average Train Loss: 1.6919867992401125e-05\n"
     ]
    },
    {
     "name": "stderr",
     "output_type": "stream",
     "text": [
      "[W pthreadpool-cpp.cc:90] Warning: Leaking Caffe2 thread-pool after fork. (function pthreadpool)\n",
      "[W pthreadpool-cpp.cc:90] Warning: Leaking Caffe2 thread-pool after fork. (function pthreadpool)\n"
     ]
    },
    {
     "name": "stdout",
     "output_type": "stream",
     "text": [
      "[Epoch 23] Train Accuracy :0.70366\n"
     ]
    },
    {
     "name": "stderr",
     "output_type": "stream",
     "text": [
      "[W pthreadpool-cpp.cc:90] Warning: Leaking Caffe2 thread-pool after fork. (function pthreadpool)\n",
      "[W pthreadpool-cpp.cc:90] Warning: Leaking Caffe2 thread-pool after fork. (function pthreadpool)\n"
     ]
    },
    {
     "name": "stdout",
     "output_type": "stream",
     "text": [
      "[Epoch 23] Test Accuracy :0.6634\n"
     ]
    },
    {
     "name": "stderr",
     "output_type": "stream",
     "text": [
      "[W pthreadpool-cpp.cc:90] Warning: Leaking Caffe2 thread-pool after fork. (function pthreadpool)\n",
      "[W pthreadpool-cpp.cc:90] Warning: Leaking Caffe2 thread-pool after fork. (function pthreadpool)\n",
      "[W pthreadpool-cpp.cc:90] Warning: Leaking Caffe2 thread-pool after fork. (function pthreadpool)\n",
      "[W pthreadpool-cpp.cc:90] Warning: Leaking Caffe2 thread-pool after fork. (function pthreadpool)\n"
     ]
    },
    {
     "name": "stdout",
     "output_type": "stream",
     "text": [
      "[Epoch 24]Average Test Loss: 8.68570864200592e-05\n",
      "[Epoch 24]Average Train Loss: 1.8120691776275636e-05\n"
     ]
    },
    {
     "name": "stderr",
     "output_type": "stream",
     "text": [
      "[W pthreadpool-cpp.cc:90] Warning: Leaking Caffe2 thread-pool after fork. (function pthreadpool)\n",
      "[W pthreadpool-cpp.cc:90] Warning: Leaking Caffe2 thread-pool after fork. (function pthreadpool)\n"
     ]
    },
    {
     "name": "stdout",
     "output_type": "stream",
     "text": [
      "[Epoch 24] Train Accuracy :0.71106\n"
     ]
    },
    {
     "name": "stderr",
     "output_type": "stream",
     "text": [
      "[W pthreadpool-cpp.cc:90] Warning: Leaking Caffe2 thread-pool after fork. (function pthreadpool)\n",
      "[W pthreadpool-cpp.cc:90] Warning: Leaking Caffe2 thread-pool after fork. (function pthreadpool)\n",
      "[W pthreadpool-cpp.cc:90] Warning: Leaking Caffe2 thread-pool after fork. (function pthreadpool)\n",
      "[W pthreadpool-cpp.cc:90] Warning: Leaking Caffe2 thread-pool after fork. (function pthreadpool)\n"
     ]
    },
    {
     "name": "stdout",
     "output_type": "stream",
     "text": [
      "[Epoch 25]Average Test Loss: 0.00010431602001190185\n",
      "[Epoch 25]Average Train Loss: 1.2166290283203125e-05\n"
     ]
    },
    {
     "name": "stderr",
     "output_type": "stream",
     "text": [
      "[W pthreadpool-cpp.cc:90] Warning: Leaking Caffe2 thread-pool after fork. (function pthreadpool)\n",
      "[W pthreadpool-cpp.cc:90] Warning: Leaking Caffe2 thread-pool after fork. (function pthreadpool)\n"
     ]
    },
    {
     "name": "stdout",
     "output_type": "stream",
     "text": [
      "[Epoch 25] Train Accuracy :0.69032\n"
     ]
    },
    {
     "name": "stderr",
     "output_type": "stream",
     "text": [
      "[W pthreadpool-cpp.cc:90] Warning: Leaking Caffe2 thread-pool after fork. (function pthreadpool)\n",
      "[W pthreadpool-cpp.cc:90] Warning: Leaking Caffe2 thread-pool after fork. (function pthreadpool)\n"
     ]
    },
    {
     "name": "stdout",
     "output_type": "stream",
     "text": [
      "[Epoch 25] Test Accuracy :0.6555\n"
     ]
    },
    {
     "name": "stderr",
     "output_type": "stream",
     "text": [
      "[W pthreadpool-cpp.cc:90] Warning: Leaking Caffe2 thread-pool after fork. (function pthreadpool)\n",
      "[W pthreadpool-cpp.cc:90] Warning: Leaking Caffe2 thread-pool after fork. (function pthreadpool)\n",
      "[W pthreadpool-cpp.cc:90] Warning: Leaking Caffe2 thread-pool after fork. (function pthreadpool)\n",
      "[W pthreadpool-cpp.cc:90] Warning: Leaking Caffe2 thread-pool after fork. (function pthreadpool)\n"
     ]
    },
    {
     "name": "stdout",
     "output_type": "stream",
     "text": [
      "[Epoch 26]Average Test Loss: 0.00011389129161834717\n",
      "[Epoch 26]Average Train Loss: 1.2595639228820801e-05\n"
     ]
    },
    {
     "name": "stderr",
     "output_type": "stream",
     "text": [
      "[W pthreadpool-cpp.cc:90] Warning: Leaking Caffe2 thread-pool after fork. (function pthreadpool)\n",
      "[W pthreadpool-cpp.cc:90] Warning: Leaking Caffe2 thread-pool after fork. (function pthreadpool)\n"
     ]
    },
    {
     "name": "stdout",
     "output_type": "stream",
     "text": [
      "[Epoch 26] Train Accuracy :0.70866\n"
     ]
    },
    {
     "name": "stderr",
     "output_type": "stream",
     "text": [
      "[W pthreadpool-cpp.cc:90] Warning: Leaking Caffe2 thread-pool after fork. (function pthreadpool)\n",
      "[W pthreadpool-cpp.cc:90] Warning: Leaking Caffe2 thread-pool after fork. (function pthreadpool)\n",
      "[W pthreadpool-cpp.cc:90] Warning: Leaking Caffe2 thread-pool after fork. (function pthreadpool)\n",
      "[W pthreadpool-cpp.cc:90] Warning: Leaking Caffe2 thread-pool after fork. (function pthreadpool)\n"
     ]
    },
    {
     "name": "stdout",
     "output_type": "stream",
     "text": [
      "[Epoch 27]Average Test Loss: 0.00010615464448928833\n",
      "[Epoch 27]Average Train Loss: 1.713345527648926e-05\n"
     ]
    },
    {
     "name": "stderr",
     "output_type": "stream",
     "text": [
      "[W pthreadpool-cpp.cc:90] Warning: Leaking Caffe2 thread-pool after fork. (function pthreadpool)\n",
      "[W pthreadpool-cpp.cc:90] Warning: Leaking Caffe2 thread-pool after fork. (function pthreadpool)\n"
     ]
    },
    {
     "name": "stdout",
     "output_type": "stream",
     "text": [
      "[Epoch 27] Train Accuracy :0.71418\n"
     ]
    },
    {
     "name": "stderr",
     "output_type": "stream",
     "text": [
      "[W pthreadpool-cpp.cc:90] Warning: Leaking Caffe2 thread-pool after fork. (function pthreadpool)\n",
      "[W pthreadpool-cpp.cc:90] Warning: Leaking Caffe2 thread-pool after fork. (function pthreadpool)\n"
     ]
    },
    {
     "name": "stdout",
     "output_type": "stream",
     "text": [
      "[Epoch 27] Test Accuracy :0.6744\n"
     ]
    },
    {
     "name": "stderr",
     "output_type": "stream",
     "text": [
      "[W pthreadpool-cpp.cc:90] Warning: Leaking Caffe2 thread-pool after fork. (function pthreadpool)\n",
      "[W pthreadpool-cpp.cc:90] Warning: Leaking Caffe2 thread-pool after fork. (function pthreadpool)\n",
      "[W pthreadpool-cpp.cc:90] Warning: Leaking Caffe2 thread-pool after fork. (function pthreadpool)\n",
      "[W pthreadpool-cpp.cc:90] Warning: Leaking Caffe2 thread-pool after fork. (function pthreadpool)\n"
     ]
    },
    {
     "name": "stdout",
     "output_type": "stream",
     "text": [
      "[Epoch 28]Average Test Loss: 7.652706503868103e-05\n",
      "[Epoch 28]Average Train Loss: 1.8911491632461547e-05\n"
     ]
    },
    {
     "name": "stderr",
     "output_type": "stream",
     "text": [
      "[W pthreadpool-cpp.cc:90] Warning: Leaking Caffe2 thread-pool after fork. (function pthreadpool)\n",
      "[W pthreadpool-cpp.cc:90] Warning: Leaking Caffe2 thread-pool after fork. (function pthreadpool)\n"
     ]
    },
    {
     "name": "stdout",
     "output_type": "stream",
     "text": [
      "[Epoch 28] Train Accuracy :0.6996\n"
     ]
    },
    {
     "name": "stderr",
     "output_type": "stream",
     "text": [
      "[W pthreadpool-cpp.cc:90] Warning: Leaking Caffe2 thread-pool after fork. (function pthreadpool)\n",
      "[W pthreadpool-cpp.cc:90] Warning: Leaking Caffe2 thread-pool after fork. (function pthreadpool)\n",
      "[W pthreadpool-cpp.cc:90] Warning: Leaking Caffe2 thread-pool after fork. (function pthreadpool)\n",
      "[W pthreadpool-cpp.cc:90] Warning: Leaking Caffe2 thread-pool after fork. (function pthreadpool)\n"
     ]
    },
    {
     "name": "stdout",
     "output_type": "stream",
     "text": [
      "[Epoch 29]Average Test Loss: 0.00010229191780090332\n",
      "[Epoch 29]Average Train Loss: 1.3438613414764405e-05\n"
     ]
    },
    {
     "name": "stderr",
     "output_type": "stream",
     "text": [
      "[W pthreadpool-cpp.cc:90] Warning: Leaking Caffe2 thread-pool after fork. (function pthreadpool)\n",
      "[W pthreadpool-cpp.cc:90] Warning: Leaking Caffe2 thread-pool after fork. (function pthreadpool)\n"
     ]
    },
    {
     "name": "stdout",
     "output_type": "stream",
     "text": [
      "[Epoch 29] Train Accuracy :0.72066\n"
     ]
    },
    {
     "name": "stderr",
     "output_type": "stream",
     "text": [
      "[W pthreadpool-cpp.cc:90] Warning: Leaking Caffe2 thread-pool after fork. (function pthreadpool)\n",
      "[W pthreadpool-cpp.cc:90] Warning: Leaking Caffe2 thread-pool after fork. (function pthreadpool)\n"
     ]
    },
    {
     "name": "stdout",
     "output_type": "stream",
     "text": [
      "[Epoch 29] Test Accuracy :0.6828\n"
     ]
    },
    {
     "name": "stderr",
     "output_type": "stream",
     "text": [
      "[W pthreadpool-cpp.cc:90] Warning: Leaking Caffe2 thread-pool after fork. (function pthreadpool)\n",
      "[W pthreadpool-cpp.cc:90] Warning: Leaking Caffe2 thread-pool after fork. (function pthreadpool)\n",
      "[W pthreadpool-cpp.cc:90] Warning: Leaking Caffe2 thread-pool after fork. (function pthreadpool)\n",
      "[W pthreadpool-cpp.cc:90] Warning: Leaking Caffe2 thread-pool after fork. (function pthreadpool)\n"
     ]
    },
    {
     "name": "stdout",
     "output_type": "stream",
     "text": [
      "[Epoch 30]Average Test Loss: 4.969695806503296e-05\n",
      "[Epoch 30]Average Train Loss: 1.8095279932022094e-05\n"
     ]
    },
    {
     "name": "stderr",
     "output_type": "stream",
     "text": [
      "[W pthreadpool-cpp.cc:90] Warning: Leaking Caffe2 thread-pool after fork. (function pthreadpool)\n",
      "[W pthreadpool-cpp.cc:90] Warning: Leaking Caffe2 thread-pool after fork. (function pthreadpool)\n"
     ]
    },
    {
     "name": "stdout",
     "output_type": "stream",
     "text": [
      "[Epoch 30] Train Accuracy :0.72166\n"
     ]
    }
   ],
   "source": [
    "\n",
    "device = torch.device(\"cuda:0\")\n",
    "conv = ImageClassifier().to(device)\n",
    "opt = torch.optim.SGD(conv.parameters(), lr= 1e-2, momentum=.9, weight_decay=.003)\n",
    "ell = torch.nn.CrossEntropyLoss()\n",
    "epochs = 30\n",
    "train_loss_trace_tune = []\n",
    "test_loss_trace_tune = []\n",
    "train_trace_tune = []\n",
    "test_trace_tune = []\n",
    "for e in range(epochs):\n",
    "  train_size = 0\n",
    "  for train, target in trainloader:\n",
    "    opt.zero_grad()\n",
    "    train_size += train.size(0)\n",
    "    p_y = conv(train.to(device))\n",
    "    loss = ell(p_y, target.to(device))\n",
    "    train_loss_trace_tune.append(loss.detach().item())      \n",
    "    loss.backward()\n",
    "    opt.step()\n",
    "  test_size = test_loss(conv, testloader, test_loss_trace_tune, ell)\n",
    "  print(f'[Epoch {e + 1}]Average Test Loss: {test_loss_trace_tune[-1]/test_size}')\n",
    "  print(f'[Epoch {e + 1}]Average Train Loss: {train_loss_trace_tune[-1]/train_size}')\n",
    "  train_acc = accuracy(conv, trainloader)\n",
    "  train_trace_tune.append(train_acc)\n",
    "  print(f'[Epoch {e + 1}] Train Accuracy :{train_acc}')    \n",
    "  if e%2 == 0:\n",
    "    test_acc = accuracy(conv, testloader)\n",
    "    test_trace_tune.append(test_acc)\n",
    "    print(f'[Epoch {e + 1}] Test Accuracy :{test_acc}')\n",
    "  "
   ]
  },
  {
   "cell_type": "code",
   "execution_count": 26,
   "metadata": {
    "id": "_Eab89uf-1j3"
   },
   "outputs": [
    {
     "data": {
      "image/png": "[encoded data removed]",
      "text/plain": [
       "<Figure size 432x288 with 1 Axes>"
      ]
     },
     "metadata": {
      "needs_background": "light"
     },
     "output_type": "display_data"
    },
    {
     "data": {
      "image/png": "[encoded data removed]",
      "text/plain": [
       "<Figure size 432x288 with 1 Axes>"
      ]
     },
     "metadata": {
      "needs_background": "light"
     },
     "output_type": "display_data"
    }
   ],
   "source": [
    "plt.figure()\n",
    "plt.plot(train_loss_trace_tune)\n",
    "plt.plot(range(0, 2370*5,5),test_loss_trace_tune)\n",
    "plt.figure()\n",
    "plt.plot(train_trace_tune)\n",
    "plt.plot(range(0, 30, 2), test_trace_tune)\n",
    "plt.show()"
   ]
  },
  {
   "cell_type": "markdown",
   "metadata": {
    "id": "omhuO6gviAvV"
   },
   "source": [
    "## Part G: Final Step!\n",
    "\n",
    "Now that we've seen how well even simple CNNs can perform at image classification, let's go back and use our trained models to understand what convolutional layers are doing to help classify images. \n",
    "\n",
    "In this step you'll need to take a single image and pass it through just the first convolutional layer in your _trained_ network. \n",
    "The input to your first convolutional layer should have dimensions $1 \\times 3 \\times 32 \\times 32$ and the output should have dimensions $1 \\times 8 \\times 30 \\times 30$. \n",
    "\n",
    "Now, take your output and make a figure containing $9$ subplots in a $3 \\times 3$ grid. The first entry in the subplot should be the image you passed through your convolutional layer, and the $8$ remaining subplots should contain each of the channels output by your convolutional layer as $30\\times 30$ images.\n",
    "\n",
    "You should see that each of the channels output by the convolutional filter highlights a different component of the input image - this behavior is central to the success of CNN! They are able to decompose the image into distinct features and use those features to classify images. Once you have your code working try generating your plot with different input images and see what patterns you can pick up on. Note that not all examples will look great, since the images are very low resolution. And congratulations on building and training your first neural networks!\n",
    "\n",
    "**Hints:** If you have an $n \\times m$ array you can plot it using the `plt.imshow` command, and if you have an $n \\times m \\times 3$ array, using this same command will generate a color plot where the last dimension is interepreted as the RGB channels. You will need to normalize your tensors so that their entries are in $[0, 1]$ for the plots to be rendered correctly.\n",
    "\n",
    "Thus, to plot your input image which should be a torch tensor with dimensions $1 \\times 3 \\times 32 \\times 32$, after you normalize it you can call:\n",
    "```\n",
    "plt.imshow(normalized_input[0].transpose(2, 1).transpose(0, 2))\n",
    "```\n",
    "\n",
    "**Answer Here**"
   ]
  },
  {
   "cell_type": "code",
   "execution_count": 27,
   "metadata": {
    "id": "F5-0AqaLOZLb"
   },
   "outputs": [
    {
     "name": "stderr",
     "output_type": "stream",
     "text": [
      "[W pthreadpool-cpp.cc:90] Warning: Leaking Caffe2 thread-pool after fork. (function pthreadpool)\n",
      "[W pthreadpool-cpp.cc:90] Warning: Leaking Caffe2 thread-pool after fork. (function pthreadpool)\n"
     ]
    }
   ],
   "source": [
    "\n",
    "for im, _ in trainloader:\n",
    "  test_im = im\n",
    "  break \n",
    "\n"
   ]
  },
  {
   "cell_type": "code",
   "execution_count": 28,
   "metadata": {
    "id": "ytuxCcWmYO9x"
   },
   "outputs": [
    {
     "data": {
      "text/plain": [
       "Conv2d(8, 16, kernel_size=(3, 3), stride=(1, 1))"
      ]
     },
     "execution_count": 28,
     "metadata": {},
     "output_type": "execute_result"
    }
   ],
   "source": [
    "list(conv.children())[0][3]"
   ]
  },
  {
   "cell_type": "code",
   "execution_count": 29,
   "metadata": {
    "id": "PjW2ABa36tlw"
   },
   "outputs": [],
   "source": [
    "def normalize_convolute(im):\n",
    "  #Output normalized input image and convoluted output\n",
    "  sd = [.5] \n",
    "  mean = [.5]\n",
    "  normal_im = im * torch.Tensor(sd*3)[:, None, None] + torch.Tensor(mean*3)[:, None, None]\n",
    "  normal_im = normal_im.transpose(0,2).transpose(0,1)\n",
    "  im = torch.reshape(im, (1, 3, 32, 32)).to(device)\n",
    "  output = list(conv.children())[0][0](im).squeeze().cpu()\n",
    "  return normal_im.detach().numpy(), output.detach().numpy()\n",
    "\n",
    "\n"
   ]
  },
  {
   "cell_type": "code",
   "execution_count": 30,
   "metadata": {
    "id": "4K7HBR50RkXk"
   },
   "outputs": [],
   "source": [
    "def display(im):\n",
    "  #9x9 Grid with original output and convolution channels\n",
    "  norm, output = normalize_convolute(im)\n",
    "  fig, ax = plt.subplots(3,3, figsize=(10,10))\n",
    "  \n",
    "  ax[0,0].imshow(norm.squeeze())\n",
    "  ax[0,1].imshow(output[0])\n",
    "  ax[0,2].imshow(output[1])\n",
    "  ax[1,0].imshow(output[2])\n",
    "  ax[1,1].imshow(output[3])\n",
    "  ax[1,2].imshow(output[4])\n",
    "  ax[2,0].imshow(output[5])\n",
    "  ax[2,1].imshow(output[6])\n",
    "  ax[2,2].imshow(output[7])\n",
    "  "
   ]
  },
  {
   "cell_type": "code",
   "execution_count": 31,
   "metadata": {
    "id": "X_7jAMMQNbZd"
   },
   "outputs": [
    {
     "data": {
      "image/png": "[encoded data removed]",
      "text/plain": [
       "<Figure size 720x720 with 9 Axes>"
      ]
     },
     "metadata": {
      "needs_background": "light"
     },
     "output_type": "display_data"
    }
   ],
   "source": [
    "display(test_im[50])"
   ]
  },
  {
   "cell_type": "code",
   "execution_count": null,
   "metadata": {
    "id": "RNDAKGQs40--"
   },
   "outputs": [],
   "source": []
  }
 ],
 "metadata": {
  "accelerator": "GPU",
  "colab": {
   "collapsed_sections": [],
   "name": "HW3.ipynb",
   "private_outputs": true,
   "provenance": []
  },
  "interpreter": {
   "hash": "558d182056f305defa32f163f2fcab3f7c2b205b7babdb905ba334f376cb0281"
  },
  "kernelspec": {
   "display_name": "Python 3 (ipykernel)",
   "language": "python",
   "name": "python3"
  },
  "language_info": {
   "codemirror_mode": {
    "name": "ipython",
    "version": 3
   },
   "file_extension": ".py",
   "mimetype": "text/x-python",
   "name": "python",
   "nbconvert_exporter": "python",
   "pygments_lexer": "ipython3",
   "version": "3.9.6"
  }
 },
 "nbformat": 4,
 "nbformat_minor": 4
}
